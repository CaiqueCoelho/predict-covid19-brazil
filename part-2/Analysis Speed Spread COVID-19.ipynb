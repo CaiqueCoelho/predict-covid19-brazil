{
 "cells": [
  {
   "cell_type": "code",
   "execution_count": 112,
   "metadata": {},
   "outputs": [],
   "source": [
    "## Import Libraries\n",
    "import numpy as np\n",
    "import pandas as pd\n",
    "import matplotlib.pyplot as plt\n",
    "import sklearn"
   ]
  },
  {
   "cell_type": "code",
   "execution_count": 113,
   "metadata": {},
   "outputs": [
    {
     "data": {
      "text/html": [
       "<div>\n",
       "<style scoped>\n",
       "    .dataframe tbody tr th:only-of-type {\n",
       "        vertical-align: middle;\n",
       "    }\n",
       "\n",
       "    .dataframe tbody tr th {\n",
       "        vertical-align: top;\n",
       "    }\n",
       "\n",
       "    .dataframe thead th {\n",
       "        text-align: right;\n",
       "    }\n",
       "</style>\n",
       "<table border=\"1\" class=\"dataframe\">\n",
       "  <thead>\n",
       "    <tr style=\"text-align: right;\">\n",
       "      <th></th>\n",
       "      <th>Province/State</th>\n",
       "      <th>Country/Region</th>\n",
       "      <th>Lat</th>\n",
       "      <th>Long</th>\n",
       "      <th>1/22/20</th>\n",
       "      <th>1/23/20</th>\n",
       "      <th>1/24/20</th>\n",
       "      <th>1/25/20</th>\n",
       "      <th>1/26/20</th>\n",
       "      <th>1/27/20</th>\n",
       "      <th>...</th>\n",
       "      <th>3/16/20</th>\n",
       "      <th>3/17/20</th>\n",
       "      <th>3/18/20</th>\n",
       "      <th>3/19/20</th>\n",
       "      <th>3/20/20</th>\n",
       "      <th>3/21/20</th>\n",
       "      <th>3/22/20</th>\n",
       "      <th>3/23/20</th>\n",
       "      <th>3/24/20</th>\n",
       "      <th>3/25/20</th>\n",
       "    </tr>\n",
       "  </thead>\n",
       "  <tbody>\n",
       "    <tr>\n",
       "      <th>0</th>\n",
       "      <td>NaN</td>\n",
       "      <td>Afghanistan</td>\n",
       "      <td>33.0000</td>\n",
       "      <td>65.0000</td>\n",
       "      <td>0</td>\n",
       "      <td>0</td>\n",
       "      <td>0</td>\n",
       "      <td>0</td>\n",
       "      <td>0</td>\n",
       "      <td>0</td>\n",
       "      <td>...</td>\n",
       "      <td>21</td>\n",
       "      <td>22</td>\n",
       "      <td>22</td>\n",
       "      <td>22</td>\n",
       "      <td>24</td>\n",
       "      <td>24</td>\n",
       "      <td>40</td>\n",
       "      <td>40</td>\n",
       "      <td>74</td>\n",
       "      <td>84</td>\n",
       "    </tr>\n",
       "    <tr>\n",
       "      <th>1</th>\n",
       "      <td>NaN</td>\n",
       "      <td>Albania</td>\n",
       "      <td>41.1533</td>\n",
       "      <td>20.1683</td>\n",
       "      <td>0</td>\n",
       "      <td>0</td>\n",
       "      <td>0</td>\n",
       "      <td>0</td>\n",
       "      <td>0</td>\n",
       "      <td>0</td>\n",
       "      <td>...</td>\n",
       "      <td>51</td>\n",
       "      <td>55</td>\n",
       "      <td>59</td>\n",
       "      <td>64</td>\n",
       "      <td>70</td>\n",
       "      <td>76</td>\n",
       "      <td>89</td>\n",
       "      <td>104</td>\n",
       "      <td>123</td>\n",
       "      <td>146</td>\n",
       "    </tr>\n",
       "    <tr>\n",
       "      <th>2</th>\n",
       "      <td>NaN</td>\n",
       "      <td>Algeria</td>\n",
       "      <td>28.0339</td>\n",
       "      <td>1.6596</td>\n",
       "      <td>0</td>\n",
       "      <td>0</td>\n",
       "      <td>0</td>\n",
       "      <td>0</td>\n",
       "      <td>0</td>\n",
       "      <td>0</td>\n",
       "      <td>...</td>\n",
       "      <td>54</td>\n",
       "      <td>60</td>\n",
       "      <td>74</td>\n",
       "      <td>87</td>\n",
       "      <td>90</td>\n",
       "      <td>139</td>\n",
       "      <td>201</td>\n",
       "      <td>230</td>\n",
       "      <td>264</td>\n",
       "      <td>302</td>\n",
       "    </tr>\n",
       "    <tr>\n",
       "      <th>3</th>\n",
       "      <td>NaN</td>\n",
       "      <td>Andorra</td>\n",
       "      <td>42.5063</td>\n",
       "      <td>1.5218</td>\n",
       "      <td>0</td>\n",
       "      <td>0</td>\n",
       "      <td>0</td>\n",
       "      <td>0</td>\n",
       "      <td>0</td>\n",
       "      <td>0</td>\n",
       "      <td>...</td>\n",
       "      <td>2</td>\n",
       "      <td>39</td>\n",
       "      <td>39</td>\n",
       "      <td>53</td>\n",
       "      <td>75</td>\n",
       "      <td>88</td>\n",
       "      <td>113</td>\n",
       "      <td>133</td>\n",
       "      <td>164</td>\n",
       "      <td>188</td>\n",
       "    </tr>\n",
       "    <tr>\n",
       "      <th>4</th>\n",
       "      <td>NaN</td>\n",
       "      <td>Angola</td>\n",
       "      <td>-11.2027</td>\n",
       "      <td>17.8739</td>\n",
       "      <td>0</td>\n",
       "      <td>0</td>\n",
       "      <td>0</td>\n",
       "      <td>0</td>\n",
       "      <td>0</td>\n",
       "      <td>0</td>\n",
       "      <td>...</td>\n",
       "      <td>0</td>\n",
       "      <td>0</td>\n",
       "      <td>0</td>\n",
       "      <td>0</td>\n",
       "      <td>1</td>\n",
       "      <td>2</td>\n",
       "      <td>2</td>\n",
       "      <td>3</td>\n",
       "      <td>3</td>\n",
       "      <td>3</td>\n",
       "    </tr>\n",
       "    <tr>\n",
       "      <th>...</th>\n",
       "      <td>...</td>\n",
       "      <td>...</td>\n",
       "      <td>...</td>\n",
       "      <td>...</td>\n",
       "      <td>...</td>\n",
       "      <td>...</td>\n",
       "      <td>...</td>\n",
       "      <td>...</td>\n",
       "      <td>...</td>\n",
       "      <td>...</td>\n",
       "      <td>...</td>\n",
       "      <td>...</td>\n",
       "      <td>...</td>\n",
       "      <td>...</td>\n",
       "      <td>...</td>\n",
       "      <td>...</td>\n",
       "      <td>...</td>\n",
       "      <td>...</td>\n",
       "      <td>...</td>\n",
       "      <td>...</td>\n",
       "      <td>...</td>\n",
       "    </tr>\n",
       "    <tr>\n",
       "      <th>95</th>\n",
       "      <td>NaN</td>\n",
       "      <td>Djibouti</td>\n",
       "      <td>11.8251</td>\n",
       "      <td>42.5903</td>\n",
       "      <td>0</td>\n",
       "      <td>0</td>\n",
       "      <td>0</td>\n",
       "      <td>0</td>\n",
       "      <td>0</td>\n",
       "      <td>0</td>\n",
       "      <td>...</td>\n",
       "      <td>0</td>\n",
       "      <td>0</td>\n",
       "      <td>1</td>\n",
       "      <td>1</td>\n",
       "      <td>1</td>\n",
       "      <td>1</td>\n",
       "      <td>1</td>\n",
       "      <td>3</td>\n",
       "      <td>3</td>\n",
       "      <td>11</td>\n",
       "    </tr>\n",
       "    <tr>\n",
       "      <th>96</th>\n",
       "      <td>NaN</td>\n",
       "      <td>Dominican Republic</td>\n",
       "      <td>18.7357</td>\n",
       "      <td>-70.1627</td>\n",
       "      <td>0</td>\n",
       "      <td>0</td>\n",
       "      <td>0</td>\n",
       "      <td>0</td>\n",
       "      <td>0</td>\n",
       "      <td>0</td>\n",
       "      <td>...</td>\n",
       "      <td>11</td>\n",
       "      <td>21</td>\n",
       "      <td>21</td>\n",
       "      <td>34</td>\n",
       "      <td>72</td>\n",
       "      <td>112</td>\n",
       "      <td>202</td>\n",
       "      <td>245</td>\n",
       "      <td>312</td>\n",
       "      <td>392</td>\n",
       "    </tr>\n",
       "    <tr>\n",
       "      <th>97</th>\n",
       "      <td>NaN</td>\n",
       "      <td>Ecuador</td>\n",
       "      <td>-1.8312</td>\n",
       "      <td>-78.1834</td>\n",
       "      <td>0</td>\n",
       "      <td>0</td>\n",
       "      <td>0</td>\n",
       "      <td>0</td>\n",
       "      <td>0</td>\n",
       "      <td>0</td>\n",
       "      <td>...</td>\n",
       "      <td>37</td>\n",
       "      <td>58</td>\n",
       "      <td>111</td>\n",
       "      <td>199</td>\n",
       "      <td>367</td>\n",
       "      <td>506</td>\n",
       "      <td>789</td>\n",
       "      <td>981</td>\n",
       "      <td>1082</td>\n",
       "      <td>1173</td>\n",
       "    </tr>\n",
       "    <tr>\n",
       "      <th>98</th>\n",
       "      <td>NaN</td>\n",
       "      <td>Egypt</td>\n",
       "      <td>26.0000</td>\n",
       "      <td>30.0000</td>\n",
       "      <td>0</td>\n",
       "      <td>0</td>\n",
       "      <td>0</td>\n",
       "      <td>0</td>\n",
       "      <td>0</td>\n",
       "      <td>0</td>\n",
       "      <td>...</td>\n",
       "      <td>150</td>\n",
       "      <td>196</td>\n",
       "      <td>196</td>\n",
       "      <td>256</td>\n",
       "      <td>285</td>\n",
       "      <td>294</td>\n",
       "      <td>327</td>\n",
       "      <td>366</td>\n",
       "      <td>402</td>\n",
       "      <td>456</td>\n",
       "    </tr>\n",
       "    <tr>\n",
       "      <th>99</th>\n",
       "      <td>NaN</td>\n",
       "      <td>El Salvador</td>\n",
       "      <td>13.7942</td>\n",
       "      <td>-88.8965</td>\n",
       "      <td>0</td>\n",
       "      <td>0</td>\n",
       "      <td>0</td>\n",
       "      <td>0</td>\n",
       "      <td>0</td>\n",
       "      <td>0</td>\n",
       "      <td>...</td>\n",
       "      <td>0</td>\n",
       "      <td>0</td>\n",
       "      <td>0</td>\n",
       "      <td>1</td>\n",
       "      <td>1</td>\n",
       "      <td>3</td>\n",
       "      <td>3</td>\n",
       "      <td>3</td>\n",
       "      <td>5</td>\n",
       "      <td>9</td>\n",
       "    </tr>\n",
       "  </tbody>\n",
       "</table>\n",
       "<p>100 rows × 68 columns</p>\n",
       "</div>"
      ],
      "text/plain": [
       "   Province/State      Country/Region      Lat     Long  1/22/20  1/23/20  \\\n",
       "0             NaN         Afghanistan  33.0000  65.0000        0        0   \n",
       "1             NaN             Albania  41.1533  20.1683        0        0   \n",
       "2             NaN             Algeria  28.0339   1.6596        0        0   \n",
       "3             NaN             Andorra  42.5063   1.5218        0        0   \n",
       "4             NaN              Angola -11.2027  17.8739        0        0   \n",
       "..            ...                 ...      ...      ...      ...      ...   \n",
       "95            NaN            Djibouti  11.8251  42.5903        0        0   \n",
       "96            NaN  Dominican Republic  18.7357 -70.1627        0        0   \n",
       "97            NaN             Ecuador  -1.8312 -78.1834        0        0   \n",
       "98            NaN               Egypt  26.0000  30.0000        0        0   \n",
       "99            NaN         El Salvador  13.7942 -88.8965        0        0   \n",
       "\n",
       "    1/24/20  1/25/20  1/26/20  1/27/20  ...  3/16/20  3/17/20  3/18/20  \\\n",
       "0         0        0        0        0  ...       21       22       22   \n",
       "1         0        0        0        0  ...       51       55       59   \n",
       "2         0        0        0        0  ...       54       60       74   \n",
       "3         0        0        0        0  ...        2       39       39   \n",
       "4         0        0        0        0  ...        0        0        0   \n",
       "..      ...      ...      ...      ...  ...      ...      ...      ...   \n",
       "95        0        0        0        0  ...        0        0        1   \n",
       "96        0        0        0        0  ...       11       21       21   \n",
       "97        0        0        0        0  ...       37       58      111   \n",
       "98        0        0        0        0  ...      150      196      196   \n",
       "99        0        0        0        0  ...        0        0        0   \n",
       "\n",
       "    3/19/20  3/20/20  3/21/20  3/22/20  3/23/20  3/24/20  3/25/20  \n",
       "0        22       24       24       40       40       74       84  \n",
       "1        64       70       76       89      104      123      146  \n",
       "2        87       90      139      201      230      264      302  \n",
       "3        53       75       88      113      133      164      188  \n",
       "4         0        1        2        2        3        3        3  \n",
       "..      ...      ...      ...      ...      ...      ...      ...  \n",
       "95        1        1        1        1        3        3       11  \n",
       "96       34       72      112      202      245      312      392  \n",
       "97      199      367      506      789      981     1082     1173  \n",
       "98      256      285      294      327      366      402      456  \n",
       "99        1        1        3        3        3        5        9  \n",
       "\n",
       "[100 rows x 68 columns]"
      ]
     },
     "execution_count": 113,
     "metadata": {},
     "output_type": "execute_result"
    }
   ],
   "source": [
    "## Read Data for Cases, Deaths and Recoveries\n",
    "confirmedCases=pd.read_csv('time_series_covid19_confirmed_global.csv')\n",
    "confirmedCases.head(100)"
   ]
  },
  {
   "cell_type": "code",
   "execution_count": 114,
   "metadata": {},
   "outputs": [],
   "source": [
    "casesBrazil = confirmedCases.loc[confirmedCases['Country/Region'] == 'Brazil']"
   ]
  },
  {
   "cell_type": "code",
   "execution_count": 115,
   "metadata": {},
   "outputs": [
    {
     "data": {
      "text/html": [
       "<div>\n",
       "<style scoped>\n",
       "    .dataframe tbody tr th:only-of-type {\n",
       "        vertical-align: middle;\n",
       "    }\n",
       "\n",
       "    .dataframe tbody tr th {\n",
       "        vertical-align: top;\n",
       "    }\n",
       "\n",
       "    .dataframe thead th {\n",
       "        text-align: right;\n",
       "    }\n",
       "</style>\n",
       "<table border=\"1\" class=\"dataframe\">\n",
       "  <thead>\n",
       "    <tr style=\"text-align: right;\">\n",
       "      <th></th>\n",
       "      <th>Province/State</th>\n",
       "      <th>Country/Region</th>\n",
       "      <th>Lat</th>\n",
       "      <th>Long</th>\n",
       "      <th>1/22/20</th>\n",
       "      <th>1/23/20</th>\n",
       "      <th>1/24/20</th>\n",
       "      <th>1/25/20</th>\n",
       "      <th>1/26/20</th>\n",
       "      <th>1/27/20</th>\n",
       "      <th>...</th>\n",
       "      <th>3/16/20</th>\n",
       "      <th>3/17/20</th>\n",
       "      <th>3/18/20</th>\n",
       "      <th>3/19/20</th>\n",
       "      <th>3/20/20</th>\n",
       "      <th>3/21/20</th>\n",
       "      <th>3/22/20</th>\n",
       "      <th>3/23/20</th>\n",
       "      <th>3/24/20</th>\n",
       "      <th>3/25/20</th>\n",
       "    </tr>\n",
       "  </thead>\n",
       "  <tbody>\n",
       "    <tr>\n",
       "      <th>28</th>\n",
       "      <td>NaN</td>\n",
       "      <td>Brazil</td>\n",
       "      <td>-14.235</td>\n",
       "      <td>-51.9253</td>\n",
       "      <td>0</td>\n",
       "      <td>0</td>\n",
       "      <td>0</td>\n",
       "      <td>0</td>\n",
       "      <td>0</td>\n",
       "      <td>0</td>\n",
       "      <td>...</td>\n",
       "      <td>200</td>\n",
       "      <td>321</td>\n",
       "      <td>372</td>\n",
       "      <td>621</td>\n",
       "      <td>793</td>\n",
       "      <td>1021</td>\n",
       "      <td>1546</td>\n",
       "      <td>1924</td>\n",
       "      <td>2247</td>\n",
       "      <td>2554</td>\n",
       "    </tr>\n",
       "  </tbody>\n",
       "</table>\n",
       "<p>1 rows × 68 columns</p>\n",
       "</div>"
      ],
      "text/plain": [
       "   Province/State Country/Region     Lat     Long  1/22/20  1/23/20  1/24/20  \\\n",
       "28            NaN         Brazil -14.235 -51.9253        0        0        0   \n",
       "\n",
       "    1/25/20  1/26/20  1/27/20  ...  3/16/20  3/17/20  3/18/20  3/19/20  \\\n",
       "28        0        0        0  ...      200      321      372      621   \n",
       "\n",
       "    3/20/20  3/21/20  3/22/20  3/23/20  3/24/20  3/25/20  \n",
       "28      793     1021     1546     1924     2247     2554  \n",
       "\n",
       "[1 rows x 68 columns]"
      ]
     },
     "execution_count": 115,
     "metadata": {},
     "output_type": "execute_result"
    }
   ],
   "source": [
    "casesBrazil.head()"
   ]
  },
  {
   "cell_type": "code",
   "execution_count": 116,
   "metadata": {},
   "outputs": [
    {
     "name": "stderr",
     "output_type": "stream",
     "text": [
      "/usr/local/lib/python3.6/dist-packages/ipykernel_launcher.py:1: SettingWithCopyWarning: \n",
      "A value is trying to be set on a copy of a slice from a DataFrame.\n",
      "Try using .loc[row_indexer,col_indexer] = value instead\n",
      "\n",
      "See the caveats in the documentation: https://pandas.pydata.org/pandas-docs/stable/user_guide/indexing.html#returning-a-view-versus-a-copy\n",
      "  \"\"\"Entry point for launching an IPython kernel.\n",
      "/usr/local/lib/python3.6/dist-packages/ipykernel_launcher.py:2: SettingWithCopyWarning: \n",
      "A value is trying to be set on a copy of a slice from a DataFrame.\n",
      "Try using .loc[row_indexer,col_indexer] = value instead\n",
      "\n",
      "See the caveats in the documentation: https://pandas.pydata.org/pandas-docs/stable/user_guide/indexing.html#returning-a-view-versus-a-copy\n",
      "  \n",
      "/usr/local/lib/python3.6/dist-packages/ipykernel_launcher.py:3: SettingWithCopyWarning: \n",
      "A value is trying to be set on a copy of a slice from a DataFrame.\n",
      "Try using .loc[row_indexer,col_indexer] = value instead\n",
      "\n",
      "See the caveats in the documentation: https://pandas.pydata.org/pandas-docs/stable/user_guide/indexing.html#returning-a-view-versus-a-copy\n",
      "  This is separate from the ipykernel package so we can avoid doing imports until\n",
      "/usr/local/lib/python3.6/dist-packages/ipykernel_launcher.py:4: SettingWithCopyWarning: \n",
      "A value is trying to be set on a copy of a slice from a DataFrame.\n",
      "Try using .loc[row_indexer,col_indexer] = value instead\n",
      "\n",
      "See the caveats in the documentation: https://pandas.pydata.org/pandas-docs/stable/user_guide/indexing.html#returning-a-view-versus-a-copy\n",
      "  after removing the cwd from sys.path.\n",
      "/usr/local/lib/python3.6/dist-packages/ipykernel_launcher.py:5: SettingWithCopyWarning: \n",
      "A value is trying to be set on a copy of a slice from a DataFrame.\n",
      "Try using .loc[row_indexer,col_indexer] = value instead\n",
      "\n",
      "See the caveats in the documentation: https://pandas.pydata.org/pandas-docs/stable/user_guide/indexing.html#returning-a-view-versus-a-copy\n",
      "  \"\"\"\n",
      "/usr/local/lib/python3.6/dist-packages/ipykernel_launcher.py:6: SettingWithCopyWarning: \n",
      "A value is trying to be set on a copy of a slice from a DataFrame.\n",
      "Try using .loc[row_indexer,col_indexer] = value instead\n",
      "\n",
      "See the caveats in the documentation: https://pandas.pydata.org/pandas-docs/stable/user_guide/indexing.html#returning-a-view-versus-a-copy\n",
      "  \n",
      "/usr/local/lib/python3.6/dist-packages/ipykernel_launcher.py:7: SettingWithCopyWarning: \n",
      "A value is trying to be set on a copy of a slice from a DataFrame.\n",
      "Try using .loc[row_indexer,col_indexer] = value instead\n",
      "\n",
      "See the caveats in the documentation: https://pandas.pydata.org/pandas-docs/stable/user_guide/indexing.html#returning-a-view-versus-a-copy\n",
      "  import sys\n",
      "/usr/local/lib/python3.6/dist-packages/ipykernel_launcher.py:8: SettingWithCopyWarning: \n",
      "A value is trying to be set on a copy of a slice from a DataFrame.\n",
      "Try using .loc[row_indexer,col_indexer] = value instead\n",
      "\n",
      "See the caveats in the documentation: https://pandas.pydata.org/pandas-docs/stable/user_guide/indexing.html#returning-a-view-versus-a-copy\n",
      "  \n",
      "/usr/local/lib/python3.6/dist-packages/ipykernel_launcher.py:9: SettingWithCopyWarning: \n",
      "A value is trying to be set on a copy of a slice from a DataFrame.\n",
      "Try using .loc[row_indexer,col_indexer] = value instead\n",
      "\n",
      "See the caveats in the documentation: https://pandas.pydata.org/pandas-docs/stable/user_guide/indexing.html#returning-a-view-versus-a-copy\n",
      "  if __name__ == '__main__':\n",
      "/usr/local/lib/python3.6/dist-packages/ipykernel_launcher.py:10: SettingWithCopyWarning: \n",
      "A value is trying to be set on a copy of a slice from a DataFrame.\n",
      "Try using .loc[row_indexer,col_indexer] = value instead\n",
      "\n",
      "See the caveats in the documentation: https://pandas.pydata.org/pandas-docs/stable/user_guide/indexing.html#returning-a-view-versus-a-copy\n",
      "  # Remove the CWD from sys.path while we load stuff.\n",
      "/usr/local/lib/python3.6/dist-packages/ipykernel_launcher.py:11: SettingWithCopyWarning: \n",
      "A value is trying to be set on a copy of a slice from a DataFrame.\n",
      "Try using .loc[row_indexer,col_indexer] = value instead\n",
      "\n",
      "See the caveats in the documentation: https://pandas.pydata.org/pandas-docs/stable/user_guide/indexing.html#returning-a-view-versus-a-copy\n",
      "  # This is added back by InteractiveShellApp.init_path()\n",
      "/usr/local/lib/python3.6/dist-packages/ipykernel_launcher.py:12: SettingWithCopyWarning: \n",
      "A value is trying to be set on a copy of a slice from a DataFrame.\n",
      "Try using .loc[row_indexer,col_indexer] = value instead\n",
      "\n",
      "See the caveats in the documentation: https://pandas.pydata.org/pandas-docs/stable/user_guide/indexing.html#returning-a-view-versus-a-copy\n",
      "  if sys.path[0] == '':\n",
      "/usr/local/lib/python3.6/dist-packages/ipykernel_launcher.py:13: SettingWithCopyWarning: \n",
      "A value is trying to be set on a copy of a slice from a DataFrame.\n",
      "Try using .loc[row_indexer,col_indexer] = value instead\n",
      "\n",
      "See the caveats in the documentation: https://pandas.pydata.org/pandas-docs/stable/user_guide/indexing.html#returning-a-view-versus-a-copy\n",
      "  del sys.path[0]\n",
      "/usr/local/lib/python3.6/dist-packages/ipykernel_launcher.py:14: SettingWithCopyWarning: \n",
      "A value is trying to be set on a copy of a slice from a DataFrame.\n",
      "Try using .loc[row_indexer,col_indexer] = value instead\n",
      "\n",
      "See the caveats in the documentation: https://pandas.pydata.org/pandas-docs/stable/user_guide/indexing.html#returning-a-view-versus-a-copy\n",
      "  \n",
      "/usr/local/lib/python3.6/dist-packages/ipykernel_launcher.py:15: SettingWithCopyWarning: \n",
      "A value is trying to be set on a copy of a slice from a DataFrame.\n",
      "Try using .loc[row_indexer,col_indexer] = value instead\n",
      "\n",
      "See the caveats in the documentation: https://pandas.pydata.org/pandas-docs/stable/user_guide/indexing.html#returning-a-view-versus-a-copy\n",
      "  from ipykernel import kernelapp as app\n",
      "/usr/local/lib/python3.6/dist-packages/ipykernel_launcher.py:16: SettingWithCopyWarning: \n",
      "A value is trying to be set on a copy of a slice from a DataFrame.\n",
      "Try using .loc[row_indexer,col_indexer] = value instead\n",
      "\n",
      "See the caveats in the documentation: https://pandas.pydata.org/pandas-docs/stable/user_guide/indexing.html#returning-a-view-versus-a-copy\n",
      "  app.launch_new_instance()\n",
      "/usr/local/lib/python3.6/dist-packages/ipykernel_launcher.py:17: SettingWithCopyWarning: \n",
      "A value is trying to be set on a copy of a slice from a DataFrame.\n",
      "Try using .loc[row_indexer,col_indexer] = value instead\n",
      "\n",
      "See the caveats in the documentation: https://pandas.pydata.org/pandas-docs/stable/user_guide/indexing.html#returning-a-view-versus-a-copy\n",
      "/usr/local/lib/python3.6/dist-packages/ipykernel_launcher.py:18: SettingWithCopyWarning: \n",
      "A value is trying to be set on a copy of a slice from a DataFrame.\n",
      "Try using .loc[row_indexer,col_indexer] = value instead\n",
      "\n",
      "See the caveats in the documentation: https://pandas.pydata.org/pandas-docs/stable/user_guide/indexing.html#returning-a-view-versus-a-copy\n",
      "/usr/local/lib/python3.6/dist-packages/ipykernel_launcher.py:19: SettingWithCopyWarning: \n",
      "A value is trying to be set on a copy of a slice from a DataFrame.\n",
      "Try using .loc[row_indexer,col_indexer] = value instead\n",
      "\n",
      "See the caveats in the documentation: https://pandas.pydata.org/pandas-docs/stable/user_guide/indexing.html#returning-a-view-versus-a-copy\n",
      "/usr/local/lib/python3.6/dist-packages/ipykernel_launcher.py:20: SettingWithCopyWarning: \n",
      "A value is trying to be set on a copy of a slice from a DataFrame.\n",
      "Try using .loc[row_indexer,col_indexer] = value instead\n",
      "\n",
      "See the caveats in the documentation: https://pandas.pydata.org/pandas-docs/stable/user_guide/indexing.html#returning-a-view-versus-a-copy\n",
      "/usr/local/lib/python3.6/dist-packages/ipykernel_launcher.py:21: SettingWithCopyWarning: \n",
      "A value is trying to be set on a copy of a slice from a DataFrame.\n",
      "Try using .loc[row_indexer,col_indexer] = value instead\n",
      "\n",
      "See the caveats in the documentation: https://pandas.pydata.org/pandas-docs/stable/user_guide/indexing.html#returning-a-view-versus-a-copy\n",
      "/usr/local/lib/python3.6/dist-packages/ipykernel_launcher.py:22: SettingWithCopyWarning: \n",
      "A value is trying to be set on a copy of a slice from a DataFrame.\n",
      "Try using .loc[row_indexer,col_indexer] = value instead\n",
      "\n",
      "See the caveats in the documentation: https://pandas.pydata.org/pandas-docs/stable/user_guide/indexing.html#returning-a-view-versus-a-copy\n",
      "/usr/local/lib/python3.6/dist-packages/ipykernel_launcher.py:23: SettingWithCopyWarning: \n",
      "A value is trying to be set on a copy of a slice from a DataFrame.\n",
      "Try using .loc[row_indexer,col_indexer] = value instead\n",
      "\n",
      "See the caveats in the documentation: https://pandas.pydata.org/pandas-docs/stable/user_guide/indexing.html#returning-a-view-versus-a-copy\n",
      "/usr/local/lib/python3.6/dist-packages/ipykernel_launcher.py:24: SettingWithCopyWarning: \n",
      "A value is trying to be set on a copy of a slice from a DataFrame.\n",
      "Try using .loc[row_indexer,col_indexer] = value instead\n",
      "\n",
      "See the caveats in the documentation: https://pandas.pydata.org/pandas-docs/stable/user_guide/indexing.html#returning-a-view-versus-a-copy\n",
      "/usr/local/lib/python3.6/dist-packages/ipykernel_launcher.py:25: SettingWithCopyWarning: \n",
      "A value is trying to be set on a copy of a slice from a DataFrame.\n",
      "Try using .loc[row_indexer,col_indexer] = value instead\n",
      "\n",
      "See the caveats in the documentation: https://pandas.pydata.org/pandas-docs/stable/user_guide/indexing.html#returning-a-view-versus-a-copy\n",
      "/usr/local/lib/python3.6/dist-packages/ipykernel_launcher.py:26: SettingWithCopyWarning: \n",
      "A value is trying to be set on a copy of a slice from a DataFrame.\n",
      "Try using .loc[row_indexer,col_indexer] = value instead\n",
      "\n",
      "See the caveats in the documentation: https://pandas.pydata.org/pandas-docs/stable/user_guide/indexing.html#returning-a-view-versus-a-copy\n",
      "/usr/local/lib/python3.6/dist-packages/ipykernel_launcher.py:27: SettingWithCopyWarning: \n",
      "A value is trying to be set on a copy of a slice from a DataFrame.\n",
      "Try using .loc[row_indexer,col_indexer] = value instead\n",
      "\n",
      "See the caveats in the documentation: https://pandas.pydata.org/pandas-docs/stable/user_guide/indexing.html#returning-a-view-versus-a-copy\n",
      "/usr/local/lib/python3.6/dist-packages/ipykernel_launcher.py:28: SettingWithCopyWarning: \n",
      "A value is trying to be set on a copy of a slice from a DataFrame.\n",
      "Try using .loc[row_indexer,col_indexer] = value instead\n",
      "\n",
      "See the caveats in the documentation: https://pandas.pydata.org/pandas-docs/stable/user_guide/indexing.html#returning-a-view-versus-a-copy\n",
      "/usr/local/lib/python3.6/dist-packages/ipykernel_launcher.py:29: SettingWithCopyWarning: \n",
      "A value is trying to be set on a copy of a slice from a DataFrame.\n",
      "Try using .loc[row_indexer,col_indexer] = value instead\n",
      "\n",
      "See the caveats in the documentation: https://pandas.pydata.org/pandas-docs/stable/user_guide/indexing.html#returning-a-view-versus-a-copy\n",
      "/usr/local/lib/python3.6/dist-packages/ipykernel_launcher.py:30: SettingWithCopyWarning: \n",
      "A value is trying to be set on a copy of a slice from a DataFrame.\n",
      "Try using .loc[row_indexer,col_indexer] = value instead\n",
      "\n",
      "See the caveats in the documentation: https://pandas.pydata.org/pandas-docs/stable/user_guide/indexing.html#returning-a-view-versus-a-copy\n",
      "/usr/local/lib/python3.6/dist-packages/ipykernel_launcher.py:31: SettingWithCopyWarning: \n",
      "A value is trying to be set on a copy of a slice from a DataFrame.\n",
      "Try using .loc[row_indexer,col_indexer] = value instead\n",
      "\n",
      "See the caveats in the documentation: https://pandas.pydata.org/pandas-docs/stable/user_guide/indexing.html#returning-a-view-versus-a-copy\n"
     ]
    }
   ],
   "source": [
    "casesBrazil['2/25/20'] = 1\n",
    "casesBrazil['2/26/20'] = 1\n",
    "casesBrazil['2/27/20'] = 2\n",
    "casesBrazil['2/28/20'] = 3\n",
    "casesBrazil['2/29/20'] = 4\n",
    "casesBrazil['3/1/20'] = 5\n",
    "casesBrazil['3/2/20'] = 8\n",
    "casesBrazil['3/3/20'] = 10\n",
    "casesBrazil['3/4/20'] = 13\n",
    "casesBrazil['3/5/20'] = 25\n",
    "casesBrazil['3/6/20'] = 28\n",
    "casesBrazil['3/7/20'] = 31\n",
    "casesBrazil['3/8/20'] = 34\n",
    "casesBrazil['3/9/20'] = 42\n",
    "casesBrazil['3/10/20'] = 52\n",
    "casesBrazil['3/11/20'] = 77\n",
    "casesBrazil['3/12/20'] = 120\n",
    "casesBrazil['3/13/20'] = 150\n",
    "casesBrazil['3/14/20'] = 180\n",
    "casesBrazil['3/15/20'] = 200\n",
    "casesBrazil['3/16/20'] = 234\n",
    "casesBrazil['3/17/20'] = 346\n",
    "casesBrazil['3/18/20'] = 509\n",
    "casesBrazil['3/19/20'] = 621\n",
    "casesBrazil['3/20/20'] = 793\n",
    "casesBrazil['3/21/20'] = 1021\n",
    "casesBrazil['3/22/20'] = 1593\n",
    "casesBrazil['3/23/20'] = 1924\n",
    "casesBrazil['3/24/20'] = 2247\n",
    "casesBrazil['3/25/20'] = 2554\n",
    "casesBrazil['3/26/20'] = 2985"
   ]
  },
  {
   "cell_type": "code",
   "execution_count": 117,
   "metadata": {},
   "outputs": [
    {
     "data": {
      "text/html": [
       "<div>\n",
       "<style scoped>\n",
       "    .dataframe tbody tr th:only-of-type {\n",
       "        vertical-align: middle;\n",
       "    }\n",
       "\n",
       "    .dataframe tbody tr th {\n",
       "        vertical-align: top;\n",
       "    }\n",
       "\n",
       "    .dataframe thead th {\n",
       "        text-align: right;\n",
       "    }\n",
       "</style>\n",
       "<table border=\"1\" class=\"dataframe\">\n",
       "  <thead>\n",
       "    <tr style=\"text-align: right;\">\n",
       "      <th></th>\n",
       "      <th>Province/State</th>\n",
       "      <th>Country/Region</th>\n",
       "      <th>Lat</th>\n",
       "      <th>Long</th>\n",
       "      <th>1/22/20</th>\n",
       "      <th>1/23/20</th>\n",
       "      <th>1/24/20</th>\n",
       "      <th>1/25/20</th>\n",
       "      <th>1/26/20</th>\n",
       "      <th>1/27/20</th>\n",
       "      <th>...</th>\n",
       "      <th>3/17/20</th>\n",
       "      <th>3/18/20</th>\n",
       "      <th>3/19/20</th>\n",
       "      <th>3/20/20</th>\n",
       "      <th>3/21/20</th>\n",
       "      <th>3/22/20</th>\n",
       "      <th>3/23/20</th>\n",
       "      <th>3/24/20</th>\n",
       "      <th>3/25/20</th>\n",
       "      <th>3/26/20</th>\n",
       "    </tr>\n",
       "  </thead>\n",
       "  <tbody>\n",
       "    <tr>\n",
       "      <th>28</th>\n",
       "      <td>NaN</td>\n",
       "      <td>Brazil</td>\n",
       "      <td>-14.235</td>\n",
       "      <td>-51.9253</td>\n",
       "      <td>0</td>\n",
       "      <td>0</td>\n",
       "      <td>0</td>\n",
       "      <td>0</td>\n",
       "      <td>0</td>\n",
       "      <td>0</td>\n",
       "      <td>...</td>\n",
       "      <td>346</td>\n",
       "      <td>509</td>\n",
       "      <td>621</td>\n",
       "      <td>793</td>\n",
       "      <td>1021</td>\n",
       "      <td>1593</td>\n",
       "      <td>1924</td>\n",
       "      <td>2247</td>\n",
       "      <td>2554</td>\n",
       "      <td>2985</td>\n",
       "    </tr>\n",
       "  </tbody>\n",
       "</table>\n",
       "<p>1 rows × 69 columns</p>\n",
       "</div>"
      ],
      "text/plain": [
       "   Province/State Country/Region     Lat     Long  1/22/20  1/23/20  1/24/20  \\\n",
       "28            NaN         Brazil -14.235 -51.9253        0        0        0   \n",
       "\n",
       "    1/25/20  1/26/20  1/27/20  ...  3/17/20  3/18/20  3/19/20  3/20/20  \\\n",
       "28        0        0        0  ...      346      509      621      793   \n",
       "\n",
       "    3/21/20  3/22/20  3/23/20  3/24/20  3/25/20  3/26/20  \n",
       "28     1021     1593     1924     2247     2554     2985  \n",
       "\n",
       "[1 rows x 69 columns]"
      ]
     },
     "execution_count": 117,
     "metadata": {},
     "output_type": "execute_result"
    }
   ],
   "source": [
    "casesBrazil.head(100)"
   ]
  },
  {
   "cell_type": "code",
   "execution_count": 118,
   "metadata": {},
   "outputs": [
    {
     "name": "stderr",
     "output_type": "stream",
     "text": [
      "/home/caiquecoelho/.local/lib/python3.6/site-packages/pandas/core/frame.py:3997: SettingWithCopyWarning: \n",
      "A value is trying to be set on a copy of a slice from a DataFrame\n",
      "\n",
      "See the caveats in the documentation: https://pandas.pydata.org/pandas-docs/stable/user_guide/indexing.html#returning-a-view-versus-a-copy\n",
      "  errors=errors,\n"
     ]
    }
   ],
   "source": [
    "casesBrazil.drop(['Province/State', 'Country/Region', 'Lat', 'Long'], axis=1, inplace=True)"
   ]
  },
  {
   "cell_type": "code",
   "execution_count": 119,
   "metadata": {},
   "outputs": [
    {
     "data": {
      "text/html": [
       "<div>\n",
       "<style scoped>\n",
       "    .dataframe tbody tr th:only-of-type {\n",
       "        vertical-align: middle;\n",
       "    }\n",
       "\n",
       "    .dataframe tbody tr th {\n",
       "        vertical-align: top;\n",
       "    }\n",
       "\n",
       "    .dataframe thead th {\n",
       "        text-align: right;\n",
       "    }\n",
       "</style>\n",
       "<table border=\"1\" class=\"dataframe\">\n",
       "  <thead>\n",
       "    <tr style=\"text-align: right;\">\n",
       "      <th></th>\n",
       "      <th>1/22/20</th>\n",
       "      <th>1/23/20</th>\n",
       "      <th>1/24/20</th>\n",
       "      <th>1/25/20</th>\n",
       "      <th>1/26/20</th>\n",
       "      <th>1/27/20</th>\n",
       "      <th>1/28/20</th>\n",
       "      <th>1/29/20</th>\n",
       "      <th>1/30/20</th>\n",
       "      <th>1/31/20</th>\n",
       "      <th>...</th>\n",
       "      <th>3/17/20</th>\n",
       "      <th>3/18/20</th>\n",
       "      <th>3/19/20</th>\n",
       "      <th>3/20/20</th>\n",
       "      <th>3/21/20</th>\n",
       "      <th>3/22/20</th>\n",
       "      <th>3/23/20</th>\n",
       "      <th>3/24/20</th>\n",
       "      <th>3/25/20</th>\n",
       "      <th>3/26/20</th>\n",
       "    </tr>\n",
       "  </thead>\n",
       "  <tbody>\n",
       "    <tr>\n",
       "      <th>28</th>\n",
       "      <td>0</td>\n",
       "      <td>0</td>\n",
       "      <td>0</td>\n",
       "      <td>0</td>\n",
       "      <td>0</td>\n",
       "      <td>0</td>\n",
       "      <td>0</td>\n",
       "      <td>0</td>\n",
       "      <td>0</td>\n",
       "      <td>0</td>\n",
       "      <td>...</td>\n",
       "      <td>346</td>\n",
       "      <td>509</td>\n",
       "      <td>621</td>\n",
       "      <td>793</td>\n",
       "      <td>1021</td>\n",
       "      <td>1593</td>\n",
       "      <td>1924</td>\n",
       "      <td>2247</td>\n",
       "      <td>2554</td>\n",
       "      <td>2985</td>\n",
       "    </tr>\n",
       "  </tbody>\n",
       "</table>\n",
       "<p>1 rows × 65 columns</p>\n",
       "</div>"
      ],
      "text/plain": [
       "    1/22/20  1/23/20  1/24/20  1/25/20  1/26/20  1/27/20  1/28/20  1/29/20  \\\n",
       "28        0        0        0        0        0        0        0        0   \n",
       "\n",
       "    1/30/20  1/31/20  ...  3/17/20  3/18/20  3/19/20  3/20/20  3/21/20  \\\n",
       "28        0        0  ...      346      509      621      793     1021   \n",
       "\n",
       "    3/22/20  3/23/20  3/24/20  3/25/20  3/26/20  \n",
       "28     1593     1924     2247     2554     2985  \n",
       "\n",
       "[1 rows x 65 columns]"
      ]
     },
     "execution_count": 119,
     "metadata": {},
     "output_type": "execute_result"
    }
   ],
   "source": [
    "casesBrazil.head()"
   ]
  },
  {
   "cell_type": "code",
   "execution_count": 120,
   "metadata": {},
   "outputs": [],
   "source": [
    "casesBrazil_transposed = casesBrazil.T"
   ]
  },
  {
   "cell_type": "code",
   "execution_count": 121,
   "metadata": {},
   "outputs": [],
   "source": [
    "casesBrazil_transposed.columns = ['cases']"
   ]
  },
  {
   "cell_type": "code",
   "execution_count": 122,
   "metadata": {},
   "outputs": [
    {
     "data": {
      "text/html": [
       "<div>\n",
       "<style scoped>\n",
       "    .dataframe tbody tr th:only-of-type {\n",
       "        vertical-align: middle;\n",
       "    }\n",
       "\n",
       "    .dataframe tbody tr th {\n",
       "        vertical-align: top;\n",
       "    }\n",
       "\n",
       "    .dataframe thead th {\n",
       "        text-align: right;\n",
       "    }\n",
       "</style>\n",
       "<table border=\"1\" class=\"dataframe\">\n",
       "  <thead>\n",
       "    <tr style=\"text-align: right;\">\n",
       "      <th></th>\n",
       "      <th>cases</th>\n",
       "    </tr>\n",
       "  </thead>\n",
       "  <tbody>\n",
       "    <tr>\n",
       "      <th>1/22/20</th>\n",
       "      <td>0</td>\n",
       "    </tr>\n",
       "    <tr>\n",
       "      <th>1/23/20</th>\n",
       "      <td>0</td>\n",
       "    </tr>\n",
       "    <tr>\n",
       "      <th>1/24/20</th>\n",
       "      <td>0</td>\n",
       "    </tr>\n",
       "    <tr>\n",
       "      <th>1/25/20</th>\n",
       "      <td>0</td>\n",
       "    </tr>\n",
       "    <tr>\n",
       "      <th>1/26/20</th>\n",
       "      <td>0</td>\n",
       "    </tr>\n",
       "    <tr>\n",
       "      <th>...</th>\n",
       "      <td>...</td>\n",
       "    </tr>\n",
       "    <tr>\n",
       "      <th>3/22/20</th>\n",
       "      <td>1593</td>\n",
       "    </tr>\n",
       "    <tr>\n",
       "      <th>3/23/20</th>\n",
       "      <td>1924</td>\n",
       "    </tr>\n",
       "    <tr>\n",
       "      <th>3/24/20</th>\n",
       "      <td>2247</td>\n",
       "    </tr>\n",
       "    <tr>\n",
       "      <th>3/25/20</th>\n",
       "      <td>2554</td>\n",
       "    </tr>\n",
       "    <tr>\n",
       "      <th>3/26/20</th>\n",
       "      <td>2985</td>\n",
       "    </tr>\n",
       "  </tbody>\n",
       "</table>\n",
       "<p>65 rows × 1 columns</p>\n",
       "</div>"
      ],
      "text/plain": [
       "         cases\n",
       "1/22/20      0\n",
       "1/23/20      0\n",
       "1/24/20      0\n",
       "1/25/20      0\n",
       "1/26/20      0\n",
       "...        ...\n",
       "3/22/20   1593\n",
       "3/23/20   1924\n",
       "3/24/20   2247\n",
       "3/25/20   2554\n",
       "3/26/20   2985\n",
       "\n",
       "[65 rows x 1 columns]"
      ]
     },
     "execution_count": 122,
     "metadata": {},
     "output_type": "execute_result"
    }
   ],
   "source": [
    "casesBrazil_transposed.head(100)"
   ]
  },
  {
   "cell_type": "code",
   "execution_count": 123,
   "metadata": {},
   "outputs": [],
   "source": [
    "casesBrazil_transposed_density = casesBrazil_transposed.copy()\n",
    "casesBrazil_transposed_density = casesBrazil_transposed_density[casesBrazil_transposed_density['cases'] > 0]"
   ]
  },
  {
   "cell_type": "code",
   "execution_count": 124,
   "metadata": {},
   "outputs": [
    {
     "data": {
      "text/html": [
       "<div>\n",
       "<style scoped>\n",
       "    .dataframe tbody tr th:only-of-type {\n",
       "        vertical-align: middle;\n",
       "    }\n",
       "\n",
       "    .dataframe tbody tr th {\n",
       "        vertical-align: top;\n",
       "    }\n",
       "\n",
       "    .dataframe thead th {\n",
       "        text-align: right;\n",
       "    }\n",
       "</style>\n",
       "<table border=\"1\" class=\"dataframe\">\n",
       "  <thead>\n",
       "    <tr style=\"text-align: right;\">\n",
       "      <th></th>\n",
       "      <th>cases</th>\n",
       "    </tr>\n",
       "  </thead>\n",
       "  <tbody>\n",
       "    <tr>\n",
       "      <th>2/25/20</th>\n",
       "      <td>1</td>\n",
       "    </tr>\n",
       "    <tr>\n",
       "      <th>2/26/20</th>\n",
       "      <td>1</td>\n",
       "    </tr>\n",
       "    <tr>\n",
       "      <th>2/27/20</th>\n",
       "      <td>2</td>\n",
       "    </tr>\n",
       "    <tr>\n",
       "      <th>2/28/20</th>\n",
       "      <td>3</td>\n",
       "    </tr>\n",
       "    <tr>\n",
       "      <th>2/29/20</th>\n",
       "      <td>4</td>\n",
       "    </tr>\n",
       "  </tbody>\n",
       "</table>\n",
       "</div>"
      ],
      "text/plain": [
       "         cases\n",
       "2/25/20      1\n",
       "2/26/20      1\n",
       "2/27/20      2\n",
       "2/28/20      3\n",
       "2/29/20      4"
      ]
     },
     "execution_count": 124,
     "metadata": {},
     "output_type": "execute_result"
    }
   ],
   "source": [
    "casesBrazil_transposed_density.head()"
   ]
  },
  {
   "cell_type": "code",
   "execution_count": 125,
   "metadata": {},
   "outputs": [],
   "source": [
    "casesBrazil_transposed_density = casesBrazil_transposed_density['cases'].apply(lambda x: x/209)"
   ]
  },
  {
   "cell_type": "code",
   "execution_count": 126,
   "metadata": {},
   "outputs": [
    {
     "data": {
      "text/plain": [
       "2/25/20    0.004785\n",
       "2/26/20    0.004785\n",
       "2/27/20    0.009569\n",
       "2/28/20    0.014354\n",
       "2/29/20    0.019139\n",
       "Name: cases, dtype: float64"
      ]
     },
     "execution_count": 126,
     "metadata": {},
     "output_type": "execute_result"
    }
   ],
   "source": [
    "casesBrazil_transposed_density.head()"
   ]
  },
  {
   "cell_type": "code",
   "execution_count": 127,
   "metadata": {},
   "outputs": [],
   "source": [
    "days = casesBrazil_transposed.index.values"
   ]
  },
  {
   "cell_type": "code",
   "execution_count": 128,
   "metadata": {},
   "outputs": [
    {
     "data": {
      "text/plain": [
       "<matplotlib.axes._subplots.AxesSubplot at 0x7f3a24bd0e10>"
      ]
     },
     "execution_count": 128,
     "metadata": {},
     "output_type": "execute_result"
    },
    {
     "data": {
      "image/png": "[encoded data removed]",
      "text/plain": [
       "<matplotlib.figure.Figure at 0x7f3a24bd9c88>"
      ]
     },
     "metadata": {
      "needs_background": "light"
     },
     "output_type": "display_data"
    }
   ],
   "source": [
    "casesBrazil_transposed['cases'].plot()"
   ]
  },
  {
   "cell_type": "code",
   "execution_count": 129,
   "metadata": {},
   "outputs": [],
   "source": [
    "casesBrazil_transposed_with_cases = casesBrazil_transposed[casesBrazil_transposed['cases'] > 0]"
   ]
  },
  {
   "cell_type": "code",
   "execution_count": 130,
   "metadata": {},
   "outputs": [
    {
     "data": {
      "text/plain": [
       "<matplotlib.axes._subplots.AxesSubplot at 0x7f3a24be2a58>"
      ]
     },
     "execution_count": 130,
     "metadata": {},
     "output_type": "execute_result"
    },
    {
     "data": {
      "image/png": "[encoded data removed]",
      "text/plain": [
       "<matplotlib.figure.Figure at 0x7f3a24cf0c18>"
      ]
     },
     "metadata": {
      "needs_background": "light"
     },
     "output_type": "display_data"
    }
   ],
   "source": [
    "casesBrazil_transposed_with_cases['cases'].plot(figsize=(12,7))"
   ]
  },
  {
   "cell_type": "code",
   "execution_count": 131,
   "metadata": {},
   "outputs": [],
   "source": [
    "Y = np.array(casesBrazil_transposed_with_cases['cases'].values)"
   ]
  },
  {
   "cell_type": "code",
   "execution_count": 132,
   "metadata": {},
   "outputs": [
    {
     "data": {
      "text/plain": [
       "array([   1,    1,    2,    3,    4,    5,    8,   10,   13,   25,   28,\n",
       "         31,   34,   42,   52,   77,  120,  150,  180,  200,  234,  346,\n",
       "        509,  621,  793, 1021, 1593, 1924, 2247, 2554, 2985])"
      ]
     },
     "execution_count": 132,
     "metadata": {},
     "output_type": "execute_result"
    }
   ],
   "source": [
    "Y"
   ]
  },
  {
   "cell_type": "code",
   "execution_count": 133,
   "metadata": {},
   "outputs": [
    {
     "name": "stdout",
     "output_type": "stream",
     "text": [
      "[27.697262479871174, 28.7515762925599, 56.02350636630754, 20.778405524168235, 16.78794178794179, 13.662661326212728, 16.87548942834769]\n"
     ]
    }
   ],
   "source": [
    "percentByDayBrazil = []\n",
    "for i in range(0, len(Y)-1):\n",
    "    if(Y[i] > 509):\n",
    "        percent = 100/Y[i]\n",
    "        percent = (Y[i+1] - Y[i]) * percent\n",
    "        percentByDayBrazil.append(percent)\n",
    "print(percentByDayBrazil)"
   ]
  },
  {
   "cell_type": "code",
   "execution_count": 134,
   "metadata": {},
   "outputs": [
    {
     "name": "stdout",
     "output_type": "stream",
     "text": [
      "[0.0, 100.0, 50.0, 33.333333333333336, 25.0, 60.0, 25.0, 30.0, 92.3076923076923, 12.0, 10.714285714285715, 9.677419354838708, 23.529411764705884, 23.80952380952381, 48.07692307692308, 55.84415584415584, 25.0, 20.0, 11.11111111111111, 17.0, 47.863247863247864, 47.10982658959538, 22.003929273084477, 27.697262479871174, 28.7515762925599, 56.02350636630754, 20.778405524168235, 16.78794178794179, 13.662661326212728, 16.87548942834769]\n"
     ]
    }
   ],
   "source": [
    "percentByDayBrazilTotal = []\n",
    "for i in range(0, len(Y)-1):\n",
    "        percent = 100/Y[i]\n",
    "        percent = (Y[i+1] - Y[i]) * percent\n",
    "        percentByDayBrazilTotal.append(percent)\n",
    "print(percentByDayBrazilTotal)"
   ]
  },
  {
   "cell_type": "code",
   "execution_count": 135,
   "metadata": {},
   "outputs": [],
   "source": [
    "X_b = []\n",
    "X_b.append(0)\n",
    "for index in range(1, len(Y)):\n",
    "    X_b.append(Y[index-1])\n",
    "X_b = np.array(X_b)"
   ]
  },
  {
   "cell_type": "code",
   "execution_count": 136,
   "metadata": {},
   "outputs": [],
   "source": [
    "X_a = []\n",
    "X_a.append(0)\n",
    "for index in range(1, len(Y)):\n",
    "    X_a.append(index)\n",
    "X_a = np.array(X_a)"
   ]
  },
  {
   "cell_type": "code",
   "execution_count": 137,
   "metadata": {},
   "outputs": [],
   "source": [
    "X_2d = []\n",
    "for index in range(0, len(X_a)):\n",
    "    X_2d.append([X_a[index], X_b[index]])"
   ]
  },
  {
   "cell_type": "code",
   "execution_count": 138,
   "metadata": {},
   "outputs": [],
   "source": [
    "from sklearn.linear_model import LinearRegression"
   ]
  },
  {
   "cell_type": "code",
   "execution_count": 139,
   "metadata": {},
   "outputs": [],
   "source": [
    "X_reshape = X_b.reshape(-1, 1)\n",
    "reg = LinearRegression().fit(X_reshape, Y)"
   ]
  },
  {
   "cell_type": "code",
   "execution_count": 140,
   "metadata": {},
   "outputs": [
    {
     "data": {
      "text/plain": [
       "0.9916983086037005"
      ]
     },
     "execution_count": 140,
     "metadata": {},
     "output_type": "execute_result"
    }
   ],
   "source": [
    "reg.score(X_reshape, Y)"
   ]
  },
  {
   "cell_type": "code",
   "execution_count": 141,
   "metadata": {},
   "outputs": [
    {
     "data": {
      "text/plain": [
       "array([1.18122808])"
      ]
     },
     "execution_count": 141,
     "metadata": {},
     "output_type": "execute_result"
    }
   ],
   "source": [
    "reg.coef_"
   ]
  },
  {
   "cell_type": "code",
   "execution_count": 142,
   "metadata": {},
   "outputs": [
    {
     "data": {
      "text/plain": [
       "21.296972287647748"
      ]
     },
     "execution_count": 142,
     "metadata": {},
     "output_type": "execute_result"
    }
   ],
   "source": [
    "reg.intercept_"
   ]
  },
  {
   "cell_type": "code",
   "execution_count": 143,
   "metadata": {},
   "outputs": [
    {
     "data": {
      "text/plain": [
       "array([3547.26280245])"
      ]
     },
     "execution_count": 143,
     "metadata": {},
     "output_type": "execute_result"
    }
   ],
   "source": [
    "reg.predict(np.array([[2985]]))"
   ]
  },
  {
   "cell_type": "code",
   "execution_count": 144,
   "metadata": {},
   "outputs": [],
   "source": [
    "#y = mx + b\n",
    "#699 = 1.37664987 * 509 - 1.434746415542719"
   ]
  },
  {
   "cell_type": "code",
   "execution_count": 145,
   "metadata": {},
   "outputs": [],
   "source": [
    "# General Functions\n",
    "def func_exp(x, a, b, c):\n",
    "    \"\"\"Return values from a general exponential function.\"\"\"\n",
    "    return a * np.exp(b * x) + c\n",
    "\n",
    "\n",
    "def func_log(x, a, b, c):\n",
    "    \"\"\"Return values from a general log function.\"\"\"\n",
    "    return a * np.log(b * x) + c"
   ]
  },
  {
   "cell_type": "code",
   "execution_count": 146,
   "metadata": {},
   "outputs": [],
   "source": [
    "from sklearn.svm import SVR\n",
    "svr_lin = SVR(kernel='linear', C=100, gamma='auto').fit(X_reshape, Y) #2051.0010101"
   ]
  },
  {
   "cell_type": "code",
   "execution_count": 147,
   "metadata": {},
   "outputs": [
    {
     "data": {
      "text/plain": [
       "SVR(C=100, cache_size=200, coef0=0.0, degree=3, epsilon=0.1, gamma='auto',\n",
       "    kernel='linear', max_iter=-1, shrinking=True, tol=0.001, verbose=False)"
      ]
     },
     "execution_count": 147,
     "metadata": {},
     "output_type": "execute_result"
    }
   ],
   "source": [
    "### Use the relation ln(Y) = ln(A) - BX to fit X to ln(Y)\n",
    "exp_reg_weighted = SVR(kernel='linear', C=100, gamma='auto')\n",
    "exp_reg_weighted.fit(X_reshape, Y, sample_weight=np.array(1/((X_reshape - 100)**2)).reshape(-1))"
   ]
  },
  {
   "cell_type": "code",
   "execution_count": 155,
   "metadata": {},
   "outputs": [
    {
     "data": {
      "text/plain": [
       "array([3713.29327731])"
      ]
     },
     "execution_count": 155,
     "metadata": {},
     "output_type": "execute_result"
    }
   ],
   "source": [
    "exp_reg_weighted.predict(np.array([[2985]]))"
   ]
  },
  {
   "cell_type": "code",
   "execution_count": 156,
   "metadata": {},
   "outputs": [],
   "source": [
    "predict_lin = []\n",
    "predict_lin = np.array([[2985]])\n",
    "for i in range(0, 15):\n",
    "    result = reg.predict([predict_lin[i]])\n",
    "    predict_lin = np.concatenate((predict_lin, np.array([result])))"
   ]
  },
  {
   "cell_type": "code",
   "execution_count": 159,
   "metadata": {},
   "outputs": [
    {
     "data": {
      "text/plain": [
       "array([3547.26280245])"
      ]
     },
     "execution_count": 159,
     "metadata": {},
     "output_type": "execute_result"
    }
   ],
   "source": [
    "predict_lin[1]"
   ]
  },
  {
   "cell_type": "code",
   "execution_count": 160,
   "metadata": {},
   "outputs": [
    {
     "data": {
      "text/plain": [
       "array([[ 2985.        ],\n",
       "       [ 3547.26280245],\n",
       "       [ 4211.42341519],\n",
       "       [ 4995.94858312],\n",
       "       [ 5922.65174392],\n",
       "       [ 7017.29954282],\n",
       "       [ 8310.32826476],\n",
       "       [ 9837.69010428],\n",
       "       [11641.85280326],\n",
       "       [13772.98045105],\n",
       "       [16290.3282788 ],\n",
       "       [19263.89022965],\n",
       "       [22776.34511493],\n",
       "       [26925.35546854],\n",
       "       [31826.28301822],\n",
       "       [37615.39627662]])"
      ]
     },
     "execution_count": 160,
     "metadata": {},
     "output_type": "execute_result"
    }
   ],
   "source": [
    "predict_lin"
   ]
  },
  {
   "cell_type": "code",
   "execution_count": 161,
   "metadata": {},
   "outputs": [],
   "source": [
    "predict_svr = []\n",
    "predict_svr = np.array([[2985]])\n",
    "for i in range(0, 15):\n",
    "    result = svr_lin.predict([predict_svr[i]])\n",
    "    predict_svr = np.concatenate((predict_svr, np.array([result])))"
   ]
  },
  {
   "cell_type": "code",
   "execution_count": 162,
   "metadata": {},
   "outputs": [
    {
     "ename": "NameError",
     "evalue": "name 'predict_svr_reshape' is not defined",
     "output_type": "error",
     "traceback": [
      "\u001b[0;31m---------------------------------------------------------------------------\u001b[0m",
      "\u001b[0;31mNameError\u001b[0m                                 Traceback (most recent call last)",
      "\u001b[0;32m<ipython-input-162-8ed15cad60ec>\u001b[0m in \u001b[0;36m<module>\u001b[0;34m\u001b[0m\n\u001b[0;32m----> 1\u001b[0;31m \u001b[0mpredict_svr_reshape\u001b[0m\u001b[0;34m\u001b[0m\u001b[0;34m\u001b[0m\u001b[0m\n\u001b[0m",
      "\u001b[0;31mNameError\u001b[0m: name 'predict_svr_reshape' is not defined"
     ]
    }
   ],
   "source": [
    "predict_svr_reshape"
   ]
  },
  {
   "cell_type": "code",
   "execution_count": 163,
   "metadata": {},
   "outputs": [],
   "source": [
    "from sklearn.linear_model import (\n",
    "    LinearRegression, TheilSenRegressor, RANSACRegressor, HuberRegressor)\n",
    "\n",
    "huber = HuberRegressor().fit(X_reshape, Y) #3492.4925781\n",
    "ransa = RANSACRegressor(random_state=42).fit(X_reshape, Y) #3530.66400751\n",
    "\n",
    "predict_huber = []\n",
    "predict_huber = np.array([[2985]])\n",
    "for i in range(0, 15):\n",
    "    result = huber.predict([predict_huber[i]])\n",
    "    predict_huber = np.concatenate((predict_huber, np.array([result])))\n",
    "    \n",
    "predict_ransa = []\n",
    "predict_ransa = np.array([[2985]])\n",
    "for i in range(0, 15):\n",
    "    result = ransa.predict([predict_ransa[i]])\n",
    "    predict_ransa = np.concatenate((predict_ransa, np.array([result])))"
   ]
  },
  {
   "cell_type": "code",
   "execution_count": 164,
   "metadata": {},
   "outputs": [
    {
     "data": {
      "text/plain": [
       "array([[ 2985.        ],\n",
       "       [ 3492.4925781 ],\n",
       "       [ 4085.55742403],\n",
       "       [ 4778.62354292],\n",
       "       [ 5588.55292664],\n",
       "       [ 6535.05079851],\n",
       "       [ 7641.14503274],\n",
       "       [ 8933.74641237],\n",
       "       [10444.30335671],\n",
       "       [12209.56704748],\n",
       "       [14272.48556879],\n",
       "       [16683.24881497],\n",
       "       [19500.50958855],\n",
       "       [22792.8105969 ],\n",
       "       [26640.25206603],\n",
       "       [31136.44054359]])"
      ]
     },
     "execution_count": 164,
     "metadata": {},
     "output_type": "execute_result"
    }
   ],
   "source": [
    "predict_huber"
   ]
  },
  {
   "cell_type": "code",
   "execution_count": 165,
   "metadata": {},
   "outputs": [
    {
     "data": {
      "text/plain": [
       "array([[ 2985.        ],\n",
       "       [ 3530.66400751],\n",
       "       [ 4174.17854736],\n",
       "       [ 4933.09054686],\n",
       "       [ 5828.09351466],\n",
       "       [ 6883.59179761],\n",
       "       [ 8128.36602224],\n",
       "       [ 9596.35786587],\n",
       "       [11327.59555564],\n",
       "       [13369.28533171],\n",
       "       [15777.09863565],\n",
       "       [18616.69012235],\n",
       "       [21965.4878876 ],\n",
       "       [25914.80472597],\n",
       "       [30572.32798752],\n",
       "       [36065.05592493]])"
      ]
     },
     "execution_count": 165,
     "metadata": {},
     "output_type": "execute_result"
    }
   ],
   "source": [
    "predict_ransa"
   ]
  },
  {
   "cell_type": "code",
   "execution_count": 166,
   "metadata": {},
   "outputs": [
    {
     "data": {
      "text/plain": [
       "array([[ 2985.        ,  3547.26280245,  4211.42341519,  4995.94858312,\n",
       "         5922.65174392,  7017.29954282,  8310.32826476,  9837.69010428,\n",
       "        11641.85280326, 13772.98045105, 16290.3282788 , 19263.89022965,\n",
       "        22776.34511493, 26925.35546854, 31826.28301822, 37615.39627662]])"
      ]
     },
     "execution_count": 166,
     "metadata": {},
     "output_type": "execute_result"
    }
   ],
   "source": [
    "labels_y = predict_lin.reshape(1, -1)\n",
    "labels_y "
   ]
  },
  {
   "cell_type": "code",
   "execution_count": 167,
   "metadata": {},
   "outputs": [],
   "source": [
    "labels_y = []\n",
    "for item in predict_lin.reshape(1, -1)[0]:\n",
    "    if(item == 509 or item > 2198):\n",
    "        labels_y.append(int(item))"
   ]
  },
  {
   "cell_type": "code",
   "execution_count": 168,
   "metadata": {},
   "outputs": [
    {
     "data": {
      "text/plain": [
       "[2985,\n",
       " 3547,\n",
       " 4211,\n",
       " 4995,\n",
       " 5922,\n",
       " 7017,\n",
       " 8310,\n",
       " 9837,\n",
       " 11641,\n",
       " 13772,\n",
       " 16290,\n",
       " 19263,\n",
       " 22776,\n",
       " 26925,\n",
       " 31826,\n",
       " 37615]"
      ]
     },
     "execution_count": 168,
     "metadata": {},
     "output_type": "execute_result"
    }
   ],
   "source": [
    "labels_y"
   ]
  },
  {
   "cell_type": "code",
   "execution_count": 169,
   "metadata": {},
   "outputs": [
    {
     "data": {
      "text/plain": [
       "<matplotlib.legend.Legend at 0x7f3a246c8ac8>"
      ]
     },
     "execution_count": 169,
     "metadata": {},
     "output_type": "execute_result"
    },
    {
     "data": {
      "image/png": "[encoded data removed]",
      "text/plain": [
       "<matplotlib.figure.Figure at 0x7f3a24697b70>"
      ]
     },
     "metadata": {
      "needs_background": "light"
     },
     "output_type": "display_data"
    }
   ],
   "source": [
    "import matplotlib.ticker as ticker\n",
    "fig, ax = plt.subplots()\n",
    "plt.plot(predict_lin, label = 'Pessimistic')\n",
    "plt.plot(predict_svr, label = 'Optimistic')\n",
    "sizefactor = 2.8 #Set a zoom factor\n",
    "# Modify the current size by the factor\n",
    "labels =['19/03/2020', '20/03/2020', '21/03/2020', '22/03/2020', '23/03/2020','24/03/2020', '25/03/2020',\n",
    "        '26/03/2020', '27/03/2020','28/03/2020','29/03/2020','30/03/2020', '31/03/2020', '01/03/2020',\n",
    "        '02/03/2020', '03/03/2020','04/03/2020']\n",
    "start, end = ax.get_xlim()\n",
    "ax.xaxis.set_ticks(np.arange(start, end, 1))\n",
    "ax.xaxis.set_major_formatter(ticker.FormatStrFormatter('%0.1f'))\n",
    "ax.set_xticklabels(labels)\n",
    "plt.yticks(labels_y)\n",
    "plt.xticks(rotation=50)\n",
    "fig_size = plt.gcf().get_size_inches() \n",
    "plt.gcf().set_size_inches(sizefactor * fig_size)\n",
    "plt.title('Predict Cases COVID-19 in Brazil x Day')\n",
    "plt.legend()"
   ]
  },
  {
   "cell_type": "code",
   "execution_count": 170,
   "metadata": {},
   "outputs": [],
   "source": [
    "#from sklearn.svm import SVR\n",
    "#svr_poly = SVR(kernel='poly', C=100, gamma='auto', degree=3, epsilon=.1, coef0=1).fit(X_2d, Y)\n",
    "#svr_polyR.predict(np.array([[23, 346.0]]))"
   ]
  },
  {
   "cell_type": "code",
   "execution_count": 171,
   "metadata": {},
   "outputs": [],
   "source": [
    "from sklearn.ensemble import BaggingRegressor\n",
    "from sklearn.svm import SVR\n",
    "from sklearn.tree import DecisionTreeRegressor\n",
    "from sklearn.ensemble import AdaBoostRegressor\n",
    "from sklearn.ensemble import RandomForestRegressor\n",
    "from sklearn.linear_model import LinearRegression\n",
    "from sklearn.ensemble import VotingRegressor\n",
    "from sklearn.ensemble import GradientBoostingRegressor\n",
    "from sklearn.linear_model import Lasso\n",
    "from sklearn.model_selection import GridSearchCV\n",
    "from sklearn.linear_model import (\n",
    "    LinearRegression, TheilSenRegressor, RANSACRegressor, HuberRegressor)\n",
    "from sklearn.metrics import mean_squared_error\n",
    "from sklearn.linear_model import BayesianRidge\n",
    "from sklearn.preprocessing import KBinsDiscretizer\n",
    "\n",
    "theil = TheilSenRegressor(random_state=42).fit(X_reshape, Y) #3644.78956492\n",
    "ransa = RANSACRegressor(random_state=42).fit(X_reshape, Y) #3530.66400751\n",
    "huber = HuberRegressor().fit(X_reshape, Y) #3492.4925781\n",
    "bayesian = BayesianRidge(compute_score=True).fit(X_reshape, Y) #3546.41531258\n",
    "\n",
    "lasso = Lasso(random_state=0, max_iter=10000)\n",
    "alphas = np.logspace(-4, -0.5, 30)\n",
    "tuned_parameters = [{'alpha': alphas}]\n",
    "n_folds = 5\n",
    "clf = GridSearchCV(lasso, tuned_parameters, cv=n_folds, refit=True).fit(X_reshape, Y)\n",
    "clf = clf.best_estimator_ #3547.26280193\n",
    "\n",
    "decitionTree1 = DecisionTreeRegressor(max_depth=30).fit(X_reshape, Y) #1593\n",
    "ada = AdaBoostRegressor(random_state=0, n_estimators=500).fit(X_reshape, Y) #1593\n",
    "ada3 = AdaBoostRegressor(DecisionTreeRegressor(max_depth=120), n_estimators=1200).fit(X_reshape, Y) #1593\n",
    "randomForest = RandomForestRegressor(max_depth=5, random_state=0, n_estimators=1).fit(X_reshape, Y)#1021\n",
    "reg1 = GradientBoostingRegressor(random_state=1, n_estimators=10).fit(X_reshape, Y) #1114.72940633\n",
    "reg2 = RandomForestRegressor(random_state=1, n_estimators=10).fit(X_reshape, Y) #1227\n",
    "linear = LinearRegression().fit(X_reshape, Y) #2239.16074454\n",
    "votin = VotingRegressor(estimators=[('gb', reg1), ('rf', reg2), ('lr', linear)]).fit(X_reshape, Y) #1526.96338362\n",
    "svr_rbf = SVR(kernel='rbf', C=100, gamma=0.1, epsilon=.1).fit(X_reshape, Y) #138\n",
    "svr_lin = SVR(kernel='linear', C=100, gamma='auto').fit(X_reshape, Y) #2051.0010101\n",
    "#svr_poly = SVR(kernel='poly', C=100, gamma='auto', degree=3, epsilon=.1, coef0=1).fit(X_2d, Y)"
   ]
  },
  {
   "cell_type": "code",
   "execution_count": 172,
   "metadata": {},
   "outputs": [
    {
     "data": {
      "text/plain": [
       "array([2821.20580209])"
      ]
     },
     "execution_count": 172,
     "metadata": {},
     "output_type": "execute_result"
    }
   ],
   "source": [
    "votin.predict(np.array([[2985]]))"
   ]
  },
  {
   "cell_type": "code",
   "execution_count": 173,
   "metadata": {},
   "outputs": [],
   "source": [
    "casesItaly = confirmedCases.loc[confirmedCases['Country/Region'] == 'Italy']\n",
    "casesChina = confirmedCases.loc[confirmedCases['Province/State'] == 'Hubei']\n",
    "casesSouthKorea = confirmedCases.loc[confirmedCases['Country/Region'] == 'Korea, South']"
   ]
  },
  {
   "cell_type": "code",
   "execution_count": 174,
   "metadata": {},
   "outputs": [
    {
     "data": {
      "text/html": [
       "<div>\n",
       "<style scoped>\n",
       "    .dataframe tbody tr th:only-of-type {\n",
       "        vertical-align: middle;\n",
       "    }\n",
       "\n",
       "    .dataframe tbody tr th {\n",
       "        vertical-align: top;\n",
       "    }\n",
       "\n",
       "    .dataframe thead th {\n",
       "        text-align: right;\n",
       "    }\n",
       "</style>\n",
       "<table border=\"1\" class=\"dataframe\">\n",
       "  <thead>\n",
       "    <tr style=\"text-align: right;\">\n",
       "      <th></th>\n",
       "      <th>Province/State</th>\n",
       "      <th>Country/Region</th>\n",
       "      <th>Lat</th>\n",
       "      <th>Long</th>\n",
       "      <th>1/22/20</th>\n",
       "      <th>1/23/20</th>\n",
       "      <th>1/24/20</th>\n",
       "      <th>1/25/20</th>\n",
       "      <th>1/26/20</th>\n",
       "      <th>1/27/20</th>\n",
       "      <th>...</th>\n",
       "      <th>3/16/20</th>\n",
       "      <th>3/17/20</th>\n",
       "      <th>3/18/20</th>\n",
       "      <th>3/19/20</th>\n",
       "      <th>3/20/20</th>\n",
       "      <th>3/21/20</th>\n",
       "      <th>3/22/20</th>\n",
       "      <th>3/23/20</th>\n",
       "      <th>3/24/20</th>\n",
       "      <th>3/25/20</th>\n",
       "    </tr>\n",
       "  </thead>\n",
       "  <tbody>\n",
       "    <tr>\n",
       "      <th>143</th>\n",
       "      <td>NaN</td>\n",
       "      <td>Korea, South</td>\n",
       "      <td>36.0</td>\n",
       "      <td>128.0</td>\n",
       "      <td>1</td>\n",
       "      <td>1</td>\n",
       "      <td>2</td>\n",
       "      <td>2</td>\n",
       "      <td>3</td>\n",
       "      <td>4</td>\n",
       "      <td>...</td>\n",
       "      <td>8236</td>\n",
       "      <td>8320</td>\n",
       "      <td>8413</td>\n",
       "      <td>8565</td>\n",
       "      <td>8652</td>\n",
       "      <td>8799</td>\n",
       "      <td>8961</td>\n",
       "      <td>8961</td>\n",
       "      <td>9037</td>\n",
       "      <td>9137</td>\n",
       "    </tr>\n",
       "  </tbody>\n",
       "</table>\n",
       "<p>1 rows × 68 columns</p>\n",
       "</div>"
      ],
      "text/plain": [
       "    Province/State Country/Region   Lat   Long  1/22/20  1/23/20  1/24/20  \\\n",
       "143            NaN   Korea, South  36.0  128.0        1        1        2   \n",
       "\n",
       "     1/25/20  1/26/20  1/27/20  ...  3/16/20  3/17/20  3/18/20  3/19/20  \\\n",
       "143        2        3        4  ...     8236     8320     8413     8565   \n",
       "\n",
       "     3/20/20  3/21/20  3/22/20  3/23/20  3/24/20  3/25/20  \n",
       "143     8652     8799     8961     8961     9037     9137  \n",
       "\n",
       "[1 rows x 68 columns]"
      ]
     },
     "execution_count": 174,
     "metadata": {},
     "output_type": "execute_result"
    }
   ],
   "source": [
    "casesSouthKorea.head()"
   ]
  },
  {
   "cell_type": "code",
   "execution_count": 175,
   "metadata": {},
   "outputs": [
    {
     "data": {
      "text/html": [
       "<div>\n",
       "<style scoped>\n",
       "    .dataframe tbody tr th:only-of-type {\n",
       "        vertical-align: middle;\n",
       "    }\n",
       "\n",
       "    .dataframe tbody tr th {\n",
       "        vertical-align: top;\n",
       "    }\n",
       "\n",
       "    .dataframe thead th {\n",
       "        text-align: right;\n",
       "    }\n",
       "</style>\n",
       "<table border=\"1\" class=\"dataframe\">\n",
       "  <thead>\n",
       "    <tr style=\"text-align: right;\">\n",
       "      <th></th>\n",
       "      <th>Province/State</th>\n",
       "      <th>Country/Region</th>\n",
       "      <th>Lat</th>\n",
       "      <th>Long</th>\n",
       "      <th>1/22/20</th>\n",
       "      <th>1/23/20</th>\n",
       "      <th>1/24/20</th>\n",
       "      <th>1/25/20</th>\n",
       "      <th>1/26/20</th>\n",
       "      <th>1/27/20</th>\n",
       "      <th>...</th>\n",
       "      <th>3/16/20</th>\n",
       "      <th>3/17/20</th>\n",
       "      <th>3/18/20</th>\n",
       "      <th>3/19/20</th>\n",
       "      <th>3/20/20</th>\n",
       "      <th>3/21/20</th>\n",
       "      <th>3/22/20</th>\n",
       "      <th>3/23/20</th>\n",
       "      <th>3/24/20</th>\n",
       "      <th>3/25/20</th>\n",
       "    </tr>\n",
       "  </thead>\n",
       "  <tbody>\n",
       "    <tr>\n",
       "      <th>62</th>\n",
       "      <td>Hubei</td>\n",
       "      <td>China</td>\n",
       "      <td>30.9756</td>\n",
       "      <td>112.2707</td>\n",
       "      <td>444</td>\n",
       "      <td>444</td>\n",
       "      <td>549</td>\n",
       "      <td>761</td>\n",
       "      <td>1058</td>\n",
       "      <td>1423</td>\n",
       "      <td>...</td>\n",
       "      <td>67798</td>\n",
       "      <td>67799</td>\n",
       "      <td>67800</td>\n",
       "      <td>67800</td>\n",
       "      <td>67800</td>\n",
       "      <td>67800</td>\n",
       "      <td>67800</td>\n",
       "      <td>67800</td>\n",
       "      <td>67801</td>\n",
       "      <td>67801</td>\n",
       "    </tr>\n",
       "  </tbody>\n",
       "</table>\n",
       "<p>1 rows × 68 columns</p>\n",
       "</div>"
      ],
      "text/plain": [
       "   Province/State Country/Region      Lat      Long  1/22/20  1/23/20  \\\n",
       "62          Hubei          China  30.9756  112.2707      444      444   \n",
       "\n",
       "    1/24/20  1/25/20  1/26/20  1/27/20  ...  3/16/20  3/17/20  3/18/20  \\\n",
       "62      549      761     1058     1423  ...    67798    67799    67800   \n",
       "\n",
       "    3/19/20  3/20/20  3/21/20  3/22/20  3/23/20  3/24/20  3/25/20  \n",
       "62    67800    67800    67800    67800    67800    67801    67801  \n",
       "\n",
       "[1 rows x 68 columns]"
      ]
     },
     "execution_count": 175,
     "metadata": {},
     "output_type": "execute_result"
    }
   ],
   "source": [
    "casesChina.head()"
   ]
  },
  {
   "cell_type": "code",
   "execution_count": 176,
   "metadata": {},
   "outputs": [
    {
     "name": "stderr",
     "output_type": "stream",
     "text": [
      "/home/caiquecoelho/.local/lib/python3.6/site-packages/pandas/core/frame.py:3997: SettingWithCopyWarning: \n",
      "A value is trying to be set on a copy of a slice from a DataFrame\n",
      "\n",
      "See the caveats in the documentation: https://pandas.pydata.org/pandas-docs/stable/user_guide/indexing.html#returning-a-view-versus-a-copy\n",
      "  errors=errors,\n",
      "/usr/local/lib/python3.6/dist-packages/ipykernel_launcher.py:5: SettingWithCopyWarning: \n",
      "A value is trying to be set on a copy of a slice from a DataFrame.\n",
      "Try using .loc[row_indexer,col_indexer] = value instead\n",
      "\n",
      "See the caveats in the documentation: https://pandas.pydata.org/pandas-docs/stable/user_guide/indexing.html#returning-a-view-versus-a-copy\n",
      "  \"\"\"\n",
      "/usr/local/lib/python3.6/dist-packages/ipykernel_launcher.py:6: SettingWithCopyWarning: \n",
      "A value is trying to be set on a copy of a slice from a DataFrame.\n",
      "Try using .loc[row_indexer,col_indexer] = value instead\n",
      "\n",
      "See the caveats in the documentation: https://pandas.pydata.org/pandas-docs/stable/user_guide/indexing.html#returning-a-view-versus-a-copy\n",
      "  \n",
      "/usr/local/lib/python3.6/dist-packages/ipykernel_launcher.py:7: SettingWithCopyWarning: \n",
      "A value is trying to be set on a copy of a slice from a DataFrame.\n",
      "Try using .loc[row_indexer,col_indexer] = value instead\n",
      "\n",
      "See the caveats in the documentation: https://pandas.pydata.org/pandas-docs/stable/user_guide/indexing.html#returning-a-view-versus-a-copy\n",
      "  import sys\n",
      "/usr/local/lib/python3.6/dist-packages/ipykernel_launcher.py:8: SettingWithCopyWarning: \n",
      "A value is trying to be set on a copy of a slice from a DataFrame.\n",
      "Try using .loc[row_indexer,col_indexer] = value instead\n",
      "\n",
      "See the caveats in the documentation: https://pandas.pydata.org/pandas-docs/stable/user_guide/indexing.html#returning-a-view-versus-a-copy\n",
      "  \n",
      "/usr/local/lib/python3.6/dist-packages/ipykernel_launcher.py:9: SettingWithCopyWarning: \n",
      "A value is trying to be set on a copy of a slice from a DataFrame.\n",
      "Try using .loc[row_indexer,col_indexer] = value instead\n",
      "\n",
      "See the caveats in the documentation: https://pandas.pydata.org/pandas-docs/stable/user_guide/indexing.html#returning-a-view-versus-a-copy\n",
      "  if __name__ == '__main__':\n",
      "/usr/local/lib/python3.6/dist-packages/ipykernel_launcher.py:10: SettingWithCopyWarning: \n",
      "A value is trying to be set on a copy of a slice from a DataFrame.\n",
      "Try using .loc[row_indexer,col_indexer] = value instead\n",
      "\n",
      "See the caveats in the documentation: https://pandas.pydata.org/pandas-docs/stable/user_guide/indexing.html#returning-a-view-versus-a-copy\n",
      "  # Remove the CWD from sys.path while we load stuff.\n"
     ]
    }
   ],
   "source": [
    "casesChina.drop(['Province/State', 'Country/Region', 'Lat', 'Long'], axis=1, inplace=True)\n",
    "casesItaly.drop(['Province/State', 'Country/Region', 'Lat', 'Long'], axis=1, inplace=True)\n",
    "casesSouthKorea.drop(['Province/State', 'Country/Region', 'Lat', 'Long'], axis=1, inplace=True)\n",
    "\n",
    "casesItaly['2/16/20'] = 6\n",
    "casesItaly['2/17/20'] = 9\n",
    "casesItaly['2/18/20'] = 12\n",
    "casesItaly['2/19/20'] = 15\n",
    "casesItaly['2/20/20'] = 18\n",
    "casesItaly['3/12/20'] = 15000"
   ]
  },
  {
   "cell_type": "code",
   "execution_count": 177,
   "metadata": {},
   "outputs": [
    {
     "data": {
      "text/html": [
       "<div>\n",
       "<style scoped>\n",
       "    .dataframe tbody tr th:only-of-type {\n",
       "        vertical-align: middle;\n",
       "    }\n",
       "\n",
       "    .dataframe tbody tr th {\n",
       "        vertical-align: top;\n",
       "    }\n",
       "\n",
       "    .dataframe thead th {\n",
       "        text-align: right;\n",
       "    }\n",
       "</style>\n",
       "<table border=\"1\" class=\"dataframe\">\n",
       "  <thead>\n",
       "    <tr style=\"text-align: right;\">\n",
       "      <th></th>\n",
       "      <th>1/22/20</th>\n",
       "      <th>1/23/20</th>\n",
       "      <th>1/24/20</th>\n",
       "      <th>1/25/20</th>\n",
       "      <th>1/26/20</th>\n",
       "      <th>1/27/20</th>\n",
       "      <th>1/28/20</th>\n",
       "      <th>1/29/20</th>\n",
       "      <th>1/30/20</th>\n",
       "      <th>1/31/20</th>\n",
       "      <th>...</th>\n",
       "      <th>3/16/20</th>\n",
       "      <th>3/17/20</th>\n",
       "      <th>3/18/20</th>\n",
       "      <th>3/19/20</th>\n",
       "      <th>3/20/20</th>\n",
       "      <th>3/21/20</th>\n",
       "      <th>3/22/20</th>\n",
       "      <th>3/23/20</th>\n",
       "      <th>3/24/20</th>\n",
       "      <th>3/25/20</th>\n",
       "    </tr>\n",
       "  </thead>\n",
       "  <tbody>\n",
       "    <tr>\n",
       "      <th>143</th>\n",
       "      <td>1</td>\n",
       "      <td>1</td>\n",
       "      <td>2</td>\n",
       "      <td>2</td>\n",
       "      <td>3</td>\n",
       "      <td>4</td>\n",
       "      <td>4</td>\n",
       "      <td>4</td>\n",
       "      <td>4</td>\n",
       "      <td>11</td>\n",
       "      <td>...</td>\n",
       "      <td>8236</td>\n",
       "      <td>8320</td>\n",
       "      <td>8413</td>\n",
       "      <td>8565</td>\n",
       "      <td>8652</td>\n",
       "      <td>8799</td>\n",
       "      <td>8961</td>\n",
       "      <td>8961</td>\n",
       "      <td>9037</td>\n",
       "      <td>9137</td>\n",
       "    </tr>\n",
       "  </tbody>\n",
       "</table>\n",
       "<p>1 rows × 64 columns</p>\n",
       "</div>"
      ],
      "text/plain": [
       "     1/22/20  1/23/20  1/24/20  1/25/20  1/26/20  1/27/20  1/28/20  1/29/20  \\\n",
       "143        1        1        2        2        3        4        4        4   \n",
       "\n",
       "     1/30/20  1/31/20  ...  3/16/20  3/17/20  3/18/20  3/19/20  3/20/20  \\\n",
       "143        4       11  ...     8236     8320     8413     8565     8652   \n",
       "\n",
       "     3/21/20  3/22/20  3/23/20  3/24/20  3/25/20  \n",
       "143     8799     8961     8961     9037     9137  \n",
       "\n",
       "[1 rows x 64 columns]"
      ]
     },
     "execution_count": 177,
     "metadata": {},
     "output_type": "execute_result"
    }
   ],
   "source": [
    "casesSouthKorea.head()"
   ]
  },
  {
   "cell_type": "code",
   "execution_count": 178,
   "metadata": {},
   "outputs": [],
   "source": [
    "casesChina_transposed = casesChina.T\n",
    "casesItaly_transposed = casesItaly.T\n",
    "casesSouthKorea_transposed = casesSouthKorea.T\n",
    "casesItaly_transposed.columns = ['cases']\n",
    "casesChina_transposed.columns = ['cases']\n",
    "casesSouthKorea_transposed.columns = ['cases']\n",
    "casesItaly_transposed_with_values = casesItaly_transposed[casesItaly_transposed['cases'] > 0]\n",
    "casesChina_transposed_with_values  = casesChina_transposed[casesChina_transposed['cases'] > 0]\n",
    "casesSouthKorea_transposed_with_values  = casesSouthKorea_transposed[casesSouthKorea_transposed['cases'] > 0]\n",
    "\n",
    "casesItaly_transposed_density = casesItaly_transposed_with_values.copy()\n",
    "casesItaly_transposed_density = casesItaly_transposed_density['cases'].apply(lambda x: x/60)"
   ]
  },
  {
   "cell_type": "code",
   "execution_count": 179,
   "metadata": {},
   "outputs": [],
   "source": [
    "casesSouthKorea_last60 = casesSouthKorea_transposed_with_values['cases'].values[-30:]\n",
    "casesChina_last60 = casesChina_transposed_with_values['cases'].values[-60:]"
   ]
  },
  {
   "cell_type": "code",
   "execution_count": 180,
   "metadata": {},
   "outputs": [
    {
     "data": {
      "text/plain": [
       "array([ 1058,  1423,  3554,  3554,  4903,  5806,  7153, 11177, 13522,\n",
       "       16678, 19665, 22112, 24953, 27100, 29631, 31728, 33366, 33366,\n",
       "       48206, 54406, 56249, 58182, 59989, 61682, 62031, 62442, 62662,\n",
       "       64084, 64084, 64287, 64786, 65187, 65596, 65914, 66337, 66907,\n",
       "       67103, 67217, 67332, 67466, 67592, 67666, 67707, 67743, 67760,\n",
       "       67773, 67781, 67786, 67790, 67794, 67798, 67799, 67800, 67800,\n",
       "       67800, 67800, 67800, 67800, 67801, 67801])"
      ]
     },
     "execution_count": 180,
     "metadata": {},
     "output_type": "execute_result"
    }
   ],
   "source": [
    "casesChina_last60"
   ]
  },
  {
   "cell_type": "code",
   "execution_count": 181,
   "metadata": {},
   "outputs": [
    {
     "data": {
      "text/plain": [
       "<matplotlib.axes._subplots.AxesSubplot at 0x7f3a24d15898>"
      ]
     },
     "execution_count": 181,
     "metadata": {},
     "output_type": "execute_result"
    },
    {
     "data": {
      "image/png": "[encoded data removed]",
      "text/plain": [
       "<matplotlib.figure.Figure at 0x7f3a24d1b940>"
      ]
     },
     "metadata": {
      "needs_background": "light"
     },
     "output_type": "display_data"
    }
   ],
   "source": [
    "casesSouthKorea_transposed_with_values['cases'].plot(figsize=(12,7), title='Cases COVID-19 x Day in South Korea')"
   ]
  },
  {
   "cell_type": "code",
   "execution_count": 182,
   "metadata": {},
   "outputs": [
    {
     "data": {
      "text/plain": [
       "<matplotlib.axes._subplots.AxesSubplot at 0x7f3a24cb91d0>"
      ]
     },
     "execution_count": 182,
     "metadata": {},
     "output_type": "execute_result"
    },
    {
     "data": {
      "image/png": "[encoded data removed]",
      "text/plain": [
       "<matplotlib.figure.Figure at 0x7f3a22a56b70>"
      ]
     },
     "metadata": {
      "needs_background": "light"
     },
     "output_type": "display_data"
    }
   ],
   "source": [
    "casesChina_transposed_with_values.plot(figsize=(12,7), title='Cases COVID-19 x Day in China (Hubei)')"
   ]
  },
  {
   "cell_type": "code",
   "execution_count": 183,
   "metadata": {},
   "outputs": [
    {
     "data": {
      "text/plain": [
       "<matplotlib.legend.Legend at 0x7f3a22959c18>"
      ]
     },
     "execution_count": 183,
     "metadata": {},
     "output_type": "execute_result"
    },
    {
     "data": {
      "image/png": "[encoded data removed]",
      "text/plain": [
       "<matplotlib.figure.Figure at 0x7f3a229d1be0>"
      ]
     },
     "metadata": {
      "needs_background": "light"
     },
     "output_type": "display_data"
    }
   ],
   "source": [
    "plt.plot(np.array(casesChina_transposed['cases']), label = 'China')\n",
    "plt.plot(np.array(casesSouthKorea_transposed_with_values['cases']), label = 'South Korea')\n",
    "sizefactor = 2.8 #Set a zoom factor\n",
    "# Modify the current size by the factor\n",
    "plt.yticks(np.arange(casesBrazil_transposed['cases'].min(), casesChina_transposed['cases'].max(), 4000))\n",
    "fig_size = plt.gcf().get_size_inches() \n",
    "plt.gcf().set_size_inches(sizefactor * fig_size)\n",
    "plt.title('Cases COVID-19 x Day')\n",
    "plt.legend()"
   ]
  },
  {
   "cell_type": "code",
   "execution_count": 184,
   "metadata": {},
   "outputs": [],
   "source": [
    "casesItaly_transposed_with_values_30 = casesItaly_transposed_with_values[casesItaly_transposed_with_values['cases'] < 1694]\n",
    "casesItaly_transposed_with_values_7 = casesItaly_transposed_with_values_30[casesItaly_transposed_with_values_30['cases'] >= 155]\n",
    "\n",
    "casesItaly_transposed_with_values_30_last = casesItaly_transposed_with_values[casesItaly_transposed_with_values['cases'] > 452]\n",
    "\n",
    "casesItaly_transposed_density = casesItaly_transposed_with_values_30.copy()\n",
    "casesItaly_transposed_density = casesItaly_transposed_density['cases'].apply(lambda x: x/60)"
   ]
  },
  {
   "cell_type": "code",
   "execution_count": 185,
   "metadata": {},
   "outputs": [
    {
     "name": "stdout",
     "output_type": "stream",
     "text": [
      "[47.74193548387097, 40.61135371179039, 40.683229813664596, 44.59161147902869, 35.57251908396947, 27.027027027027028]\n"
     ]
    }
   ],
   "source": [
    "percentByDayItaly = []\n",
    "Y_italy = casesItaly_transposed_with_values_7['cases'].values\n",
    "for i in range(0, len(Y_italy)-1):\n",
    "        percent = 100/Y_italy[i]\n",
    "        percent = (Y_italy[i+1] - Y_italy[i]) * percent\n",
    "        percentByDayItaly.append(percent)\n",
    "print(percentByDayItaly)"
   ]
  },
  {
   "cell_type": "code",
   "execution_count": 186,
   "metadata": {},
   "outputs": [
    {
     "name": "stdout",
     "output_type": "stream",
     "text": [
      "[34.49905482041588, 149.75404075895995, 0.0, 37.9572312886888, 18.41729553334693, 23.20013778849466, 56.25611631483294, 20.980585130178046, 23.33974264162106, 17.90982132150138, 12.443427409102467, 12.848227206946454, 8.604175850599125, 9.339483394833948, 7.077047686544497, 5.162632375189108, 0.0, 44.47641311514715, 12.861469526614943, 3.3874940263941475, 3.4365055378762293, 3.1057715444639236, 2.822184067078964, 0.5658052592328394, 0.6625719398365333, 0.35232695941834025, 2.2693179279308033, 0.0, 0.31677173709506273, 0.7762066980882605, 0.6189608866113049, 0.6274257137159249, 0.48478565766205256, 0.6417453044876658, 0.8592489862369417, 0.2929439371067302, 0.16988808250003726, 0.17108767127363614, 0.1990138418582546, 0.1867607387424777, 0.10948041188306308, 0.060591729967782934, 0.053170277814701586, 0.02509484374769349, 0.019185360094451005, 0.011804110781579686, 0.007376698484826131, 0.005900923494526893, 0.005900575306092344, 0.005900227158745611, 0.001474969763119856, 0.001474948008082715, 0.0, 0.0, 0.0, 0.0, 0.0, 0.0014749262536873156, 0.0]\n"
     ]
    },
    {
     "ename": "NameError",
     "evalue": "name 'casesSouthKorea_last30' is not defined",
     "output_type": "error",
     "traceback": [
      "\u001b[0;31m---------------------------------------------------------------------------\u001b[0m",
      "\u001b[0;31mNameError\u001b[0m                                 Traceback (most recent call last)",
      "\u001b[0;32m<ipython-input-186-f7eab5624d2a>\u001b[0m in \u001b[0;36m<module>\u001b[0;34m\u001b[0m\n\u001b[1;32m      8\u001b[0m \u001b[0;34m\u001b[0m\u001b[0m\n\u001b[1;32m      9\u001b[0m \u001b[0mpercentByDaySouthKorea30\u001b[0m \u001b[0;34m=\u001b[0m \u001b[0;34m[\u001b[0m\u001b[0;34m]\u001b[0m\u001b[0;34m\u001b[0m\u001b[0;34m\u001b[0m\u001b[0m\n\u001b[0;32m---> 10\u001b[0;31m \u001b[0mY_coreia\u001b[0m \u001b[0;34m=\u001b[0m \u001b[0mcasesSouthKorea_last30\u001b[0m\u001b[0;34m\u001b[0m\u001b[0;34m\u001b[0m\u001b[0m\n\u001b[0m\u001b[1;32m     11\u001b[0m \u001b[0;32mfor\u001b[0m \u001b[0mi\u001b[0m \u001b[0;32min\u001b[0m \u001b[0mrange\u001b[0m\u001b[0;34m(\u001b[0m\u001b[0;36m0\u001b[0m\u001b[0;34m,\u001b[0m \u001b[0mlen\u001b[0m\u001b[0;34m(\u001b[0m\u001b[0mY_coreia\u001b[0m\u001b[0;34m)\u001b[0m\u001b[0;34m-\u001b[0m\u001b[0;36m1\u001b[0m\u001b[0;34m)\u001b[0m\u001b[0;34m:\u001b[0m\u001b[0;34m\u001b[0m\u001b[0;34m\u001b[0m\u001b[0m\n\u001b[1;32m     12\u001b[0m         \u001b[0mpercent\u001b[0m \u001b[0;34m=\u001b[0m \u001b[0;36m100\u001b[0m\u001b[0;34m/\u001b[0m\u001b[0mY_coreia\u001b[0m\u001b[0;34m[\u001b[0m\u001b[0mi\u001b[0m\u001b[0;34m]\u001b[0m\u001b[0;34m\u001b[0m\u001b[0;34m\u001b[0m\u001b[0m\n",
      "\u001b[0;31mNameError\u001b[0m: name 'casesSouthKorea_last30' is not defined"
     ]
    }
   ],
   "source": [
    "percentByDayChina60 = []\n",
    "Y_china = casesChina_last60\n",
    "for i in range(0, len(Y_china)-1):\n",
    "        percent = 100/Y_china[i]\n",
    "        percent = (Y_china[i+1] - Y_china[i]) * percent\n",
    "        percentByDayChina60.append(percent)\n",
    "print(percentByDayChina60)\n",
    "\n",
    "percentByDaySouthKorea30 = []\n",
    "Y_coreia = casesSouthKorea_last30\n",
    "for i in range(0, len(Y_coreia)-1):\n",
    "        percent = 100/Y_coreia[i]\n",
    "        percent = (Y_coreia[i+1] - Y_coreia[i]) * percent\n",
    "        percentByDaySouthKorea30.append(percent)\n",
    "print(percentByDaySouthKorea30)"
   ]
  },
  {
   "cell_type": "code",
   "execution_count": null,
   "metadata": {},
   "outputs": [],
   "source": [
    "fig, ax = plt.subplots()\n",
    "plt.plot(np.array(percentByDayItaly), label = 'Itália 23º ao 30º dia (22/02-29/02)')\n",
    "plt.plot(np.array(percentByDayBrazil), label = 'Brasil 23º ao 30º dia (19/03-25/03)')\n",
    "plt.title('Porcentagem de novos casos por dia')\n",
    "ax = plt.gca()\n",
    "for i, txt in enumerate(percentByDayBrazil):\n",
    "    ax.annotate(str(int(percentByDayBrazil[i])) + '%', (i, percentByDayBrazil[i]))\n",
    "    \n",
    "plt.xticks([],\"\")\n",
    "plt.yticks([],\"\")\n",
    "    \n",
    "for i, txt in enumerate(percentByDayItaly):\n",
    "    ax.annotate(str(int(percentByDayItaly[i])) + '%', (i, percentByDayItaly[i]))\n",
    "fig_size = plt.gcf().get_size_inches() \n",
    "plt.gcf().set_size_inches(sizefactor * fig_size)\n",
    "plt.legend()"
   ]
  },
  {
   "cell_type": "code",
   "execution_count": null,
   "metadata": {},
   "outputs": [],
   "source": [
    "fig, ax = plt.subplots()\n",
    "plt.plot(np.array(percentByDaySouthKorea30), label = 'Coréia do Sul')\n",
    "plt.title('Porcentagem de novos casos por dia nos últimos 30 dias na Coréia do Sul')\n",
    "ax = plt.gca()\n",
    "for i, txt in enumerate(percentByDaySouthKorea30):\n",
    "    ax.annotate(str(round((percentByDaySouthKorea30[i]), 1)) + '%', (i, percentByDaySouthKorea30[i]))\n",
    "    \n",
    "plt.xticks([],\"\")\n",
    "plt.yticks([],\"\")\n",
    "fig_size = plt.gcf().get_size_inches() \n",
    "plt.gcf().set_size_inches(sizefactor * fig_size)\n",
    "plt.legend()"
   ]
  },
  {
   "cell_type": "code",
   "execution_count": null,
   "metadata": {},
   "outputs": [],
   "source": [
    "fig, ax = plt.subplots()\n",
    "plt.plot(np.array(percentByDayChina60), label = 'China')\n",
    "plt.title('Porcentagem de novos casos por dia nos últimos 60 dias na China')\n",
    "ax = plt.gca()\n",
    "for i, txt in enumerate(percentByDayChina60):\n",
    "    ax.annotate(str(int(round((percentByDayChina60[i]), 0))) + '%', (i, percentByDayChina60[i]))\n",
    "\n",
    "sizefactor = 2.8\n",
    "plt.xticks([],\"\")\n",
    "plt.yticks([],\"\")\n",
    "fig_size = plt.gcf().get_size_inches() \n",
    "plt.gcf().set_size_inches(sizefactor * fig_size)\n",
    "plt.legend()"
   ]
  },
  {
   "cell_type": "code",
   "execution_count": null,
   "metadata": {},
   "outputs": [],
   "source": [
    "Y_italy30 = casesItaly_transposed_with_values_30_last['cases'].values\n",
    "percentByDayItaly30Total = []\n",
    "for i in range(0, len(Y_italy30)-1):\n",
    "        percent = 100/Y_italy30[i]\n",
    "        percent = (Y_italy30[i+1] - Y_italy30[i]) * percent\n",
    "        percentByDayItaly30Total.append(percent)\n",
    "print(percentByDayItaly30Total)"
   ]
  },
  {
   "cell_type": "code",
   "execution_count": null,
   "metadata": {},
   "outputs": [],
   "source": [
    "fig, ax = plt.subplots()\n",
    "plt.plot(np.array(percentByDayBrazilTotal), label = 'Brasil')\n",
    "plt.title('Porcentagem de novos casos por dia no Brasil')\n",
    "ax = plt.gca()\n",
    "for i, txt in enumerate(percentByDayBrazilTotal):\n",
    "    ax.annotate(str(int(percentByDayBrazilTotal[i])) + '%', (i, percentByDayBrazilTotal[i]))\n",
    "    \n",
    "plt.xticks([],\"\")\n",
    "plt.yticks([],\"\")\n",
    "\n",
    "fig_size = plt.gcf().get_size_inches() \n",
    "plt.gcf().set_size_inches(sizefactor * fig_size)\n",
    "plt.legend()"
   ]
  },
  {
   "cell_type": "code",
   "execution_count": null,
   "metadata": {},
   "outputs": [],
   "source": [
    "fig, ax = plt.subplots()\n",
    "plt.plot(np.array(percentByDayItaly30Total), label = 'Itália')\n",
    "plt.title('Porcentagem de novos casos por dia na Itália nos últimos 30 dias')\n",
    "ax = plt.gca()\n",
    "for i, txt in enumerate(percentByDayItaly30Total):\n",
    "    ax.annotate(str(int(percentByDayItaly30Total[i])) + '%', (i, percentByDayItaly30Total[i]))\n",
    "    \n",
    "plt.xticks([],\"\")\n",
    "plt.yticks([],\"\")\n",
    "\n",
    "fig_size = plt.gcf().get_size_inches() \n",
    "plt.gcf().set_size_inches(sizefactor * fig_size)\n",
    "plt.legend()"
   ]
  },
  {
   "cell_type": "code",
   "execution_count": 187,
   "metadata": {},
   "outputs": [
    {
     "data": {
      "text/plain": [
       "<matplotlib.axes._subplots.AxesSubplot at 0x7f3a229df780>"
      ]
     },
     "execution_count": 187,
     "metadata": {},
     "output_type": "execute_result"
    },
    {
     "data": {
      "image/png": "[encoded data removed]",
      "text/plain": [
       "<matplotlib.figure.Figure at 0x7f3a24cafe48>"
      ]
     },
     "metadata": {
      "needs_background": "light"
     },
     "output_type": "display_data"
    }
   ],
   "source": [
    "casesItaly_transposed_with_values.plot(figsize=(12,7))"
   ]
  },
  {
   "cell_type": "code",
   "execution_count": 188,
   "metadata": {},
   "outputs": [],
   "source": [
    "Y = np.array(casesChina_transposed['cases'].values)\n",
    "\n",
    "X_a = []\n",
    "for index in range(1, len(Y) -1):\n",
    "    X_a.append(Y[index-1])\n",
    "X_a = np.array(X_a)\n",
    "\n",
    "X_b = []\n",
    "for index in range(2, len(Y)):\n",
    "    X_b.append(Y[index-1])\n",
    "X_b = np.array(X_b)\n",
    "\n",
    "X_2d = []\n",
    "for index in range(0, len(X_a)):\n",
    "    X_2d.append([X_a[index], X_b[index]])"
   ]
  },
  {
   "cell_type": "code",
   "execution_count": 189,
   "metadata": {},
   "outputs": [
    {
     "data": {
      "text/plain": [
       "array([  444,   444,   549,   761,  1058,  1423,  3554,  3554,  4903,\n",
       "        5806,  7153, 11177, 13522, 16678, 19665, 22112, 24953, 27100,\n",
       "       29631, 31728, 33366, 33366, 48206, 54406])"
      ]
     },
     "execution_count": 189,
     "metadata": {},
     "output_type": "execute_result"
    }
   ],
   "source": [
    "mean_new_cases = X_a[:24]\n",
    "mean_new_cases_limit = X_a[24:]\n",
    "mean_new_cases"
   ]
  },
  {
   "cell_type": "code",
   "execution_count": 190,
   "metadata": {},
   "outputs": [],
   "source": [
    "array_new_cases = []\n",
    "for i in range(1, len(mean_new_cases)):\n",
    "    array_new_cases.append(mean_new_cases[i] - mean_new_cases[i - 1])\n",
    "    \n",
    "array_new_cases_limit = []\n",
    "for i in range(1, len(mean_new_cases_limit)):\n",
    "    array_new_cases_limit.append(mean_new_cases_limit[i] - mean_new_cases_limit[i - 1])"
   ]
  },
  {
   "cell_type": "code",
   "execution_count": 191,
   "metadata": {},
   "outputs": [
    {
     "data": {
      "text/plain": [
       "2346.1739130434785"
      ]
     },
     "execution_count": 191,
     "metadata": {},
     "output_type": "execute_result"
    }
   ],
   "source": [
    "np.mean(array_new_cases)"
   ]
  },
  {
   "cell_type": "code",
   "execution_count": 192,
   "metadata": {},
   "outputs": [
    {
     "data": {
      "text/plain": [
       "312.18918918918916"
      ]
     },
     "execution_count": 192,
     "metadata": {},
     "output_type": "execute_result"
    }
   ],
   "source": [
    "np.mean(array_new_cases_limit)"
   ]
  },
  {
   "cell_type": "code",
   "execution_count": 193,
   "metadata": {},
   "outputs": [],
   "source": [
    "Y = Y[2:len(Y)]"
   ]
  },
  {
   "cell_type": "code",
   "execution_count": 194,
   "metadata": {},
   "outputs": [
    {
     "data": {
      "text/plain": [
       "[[444, 444],\n",
       " [444, 549],\n",
       " [549, 761],\n",
       " [761, 1058],\n",
       " [1058, 1423],\n",
       " [1423, 3554],\n",
       " [3554, 3554],\n",
       " [3554, 4903],\n",
       " [4903, 5806],\n",
       " [5806, 7153],\n",
       " [7153, 11177],\n",
       " [11177, 13522],\n",
       " [13522, 16678],\n",
       " [16678, 19665],\n",
       " [19665, 22112],\n",
       " [22112, 24953],\n",
       " [24953, 27100],\n",
       " [27100, 29631],\n",
       " [29631, 31728],\n",
       " [31728, 33366],\n",
       " [33366, 33366],\n",
       " [33366, 48206],\n",
       " [48206, 54406],\n",
       " [54406, 56249],\n",
       " [56249, 58182],\n",
       " [58182, 59989],\n",
       " [59989, 61682],\n",
       " [61682, 62031],\n",
       " [62031, 62442],\n",
       " [62442, 62662],\n",
       " [62662, 64084],\n",
       " [64084, 64084],\n",
       " [64084, 64287],\n",
       " [64287, 64786],\n",
       " [64786, 65187],\n",
       " [65187, 65596],\n",
       " [65596, 65914],\n",
       " [65914, 66337],\n",
       " [66337, 66907],\n",
       " [66907, 67103],\n",
       " [67103, 67217],\n",
       " [67217, 67332],\n",
       " [67332, 67466],\n",
       " [67466, 67592],\n",
       " [67592, 67666],\n",
       " [67666, 67707],\n",
       " [67707, 67743],\n",
       " [67743, 67760],\n",
       " [67760, 67773],\n",
       " [67773, 67781],\n",
       " [67781, 67786],\n",
       " [67786, 67790],\n",
       " [67790, 67794],\n",
       " [67794, 67798],\n",
       " [67798, 67799],\n",
       " [67799, 67800],\n",
       " [67800, 67800],\n",
       " [67800, 67800],\n",
       " [67800, 67800],\n",
       " [67800, 67800],\n",
       " [67800, 67800],\n",
       " [67800, 67801]]"
      ]
     },
     "execution_count": 194,
     "metadata": {},
     "output_type": "execute_result"
    }
   ],
   "source": [
    "X_2d"
   ]
  },
  {
   "cell_type": "code",
   "execution_count": 195,
   "metadata": {},
   "outputs": [
    {
     "data": {
      "text/plain": [
       "array([68095.03540049])"
      ]
     },
     "execution_count": 195,
     "metadata": {},
     "output_type": "execute_result"
    }
   ],
   "source": [
    "reg = LinearRegression().fit(X_2d, Y)\n",
    "reg.predict(np.array([[67799, 67800]]))"
   ]
  },
  {
   "cell_type": "code",
   "execution_count": 196,
   "metadata": {},
   "outputs": [
    {
     "data": {
      "text/plain": [
       "21"
      ]
     },
     "execution_count": 196,
     "metadata": {},
     "output_type": "execute_result"
    }
   ],
   "source": [
    "lenDays = []\n",
    "for i in range(len(casesBrazil_transposed['cases'].values)):\n",
    "    lenDays.append(i)\n",
    "    \n",
    "newDays = []\n",
    "for i in range(len(days)):\n",
    "    if i % 2 == 0:\n",
    "        newDays.append(days[i])\n",
    "\n",
    "newDays = newDays[12:]\n",
    "len(newDays)"
   ]
  },
  {
   "cell_type": "code",
   "execution_count": 197,
   "metadata": {},
   "outputs": [
    {
     "data": {
      "text/plain": [
       "<matplotlib.legend.Legend at 0x7f3a22835828>"
      ]
     },
     "execution_count": 197,
     "metadata": {},
     "output_type": "execute_result"
    },
    {
     "data": {
      "image/png": "[encoded data removed]",
      "text/plain": [
       "<matplotlib.figure.Figure at 0x7f3a22a25630>"
      ]
     },
     "metadata": {
      "needs_background": "light"
     },
     "output_type": "display_data"
    }
   ],
   "source": [
    "plt.plot(np.array(casesChina_transposed['cases']), label = 'China')\n",
    "plt.plot(np.array(casesItaly_transposed['cases']), label = 'Itália')\n",
    "plt.plot(np.array(casesBrazil_transposed['cases']), label = 'Brasil')\n",
    "sizefactor = 2.8 #Set a zoom factor\n",
    "# Modify the current size by the factor\n",
    "plt.yticks(np.arange(casesBrazil_transposed['cases'].min(), casesChina_transposed['cases'].max(), 4000))\n",
    "fig_size = plt.gcf().get_size_inches() \n",
    "plt.gcf().set_size_inches(sizefactor * fig_size)\n",
    "plt.legend()"
   ]
  },
  {
   "cell_type": "code",
   "execution_count": 198,
   "metadata": {},
   "outputs": [
    {
     "data": {
      "text/plain": [
       "<matplotlib.legend.Legend at 0x7f3a227c4550>"
      ]
     },
     "execution_count": 198,
     "metadata": {},
     "output_type": "execute_result"
    },
    {
     "data": {
      "image/png": "[encoded data removed]",
      "text/plain": [
       "<matplotlib.figure.Figure at 0x7f3a22874668>"
      ]
     },
     "metadata": {
      "needs_background": "light"
     },
     "output_type": "display_data"
    }
   ],
   "source": [
    "plt.plot(np.array(casesChina_transposed['cases']), label = 'China')\n",
    "plt.plot(np.array(casesItaly_transposed['cases']), label = 'Itália')\n",
    "plt.plot(np.array(casesBrazil_transposed['cases']), label = 'Brasil')\n",
    "sizefactor = 2.8 #Set a zoom factor\n",
    "# Modify the current size by the factor\n",
    "plt.yticks(np.arange(casesBrazil_transposed['cases'].min(), casesChina_transposed['cases'].max(), 4000))\n",
    "fig_size = plt.gcf().get_size_inches() \n",
    "plt.gcf().set_size_inches(sizefactor * fig_size)\n",
    "plt.legend()"
   ]
  },
  {
   "cell_type": "code",
   "execution_count": 199,
   "metadata": {},
   "outputs": [
    {
     "data": {
      "text/plain": [
       "<matplotlib.legend.Legend at 0x7f3a24b51f28>"
      ]
     },
     "execution_count": 199,
     "metadata": {},
     "output_type": "execute_result"
    },
    {
     "data": {
      "image/png": "[encoded data removed]",
      "text/plain": [
       "<matplotlib.figure.Figure at 0x7f3a227cc080>"
      ]
     },
     "metadata": {
      "needs_background": "light"
     },
     "output_type": "display_data"
    }
   ],
   "source": [
    "fig, ax = plt.subplots()\n",
    "plt.plot(np.array(casesItaly_transposed_with_values['cases']), label = 'Itália')\n",
    "plt.plot(np.array(casesBrazil_transposed_with_cases['cases']), label = 'Brasil')\n",
    "\n",
    "ax = plt.gca()\n",
    "fig_size = plt.gcf().get_size_inches() \n",
    "plt.gcf().set_size_inches(sizefactor * fig_size)\n",
    "plt.legend()"
   ]
  },
  {
   "cell_type": "code",
   "execution_count": 200,
   "metadata": {},
   "outputs": [
    {
     "data": {
      "text/plain": [
       "31"
      ]
     },
     "execution_count": 200,
     "metadata": {},
     "output_type": "execute_result"
    }
   ],
   "source": [
    "len(casesBrazil_transposed_with_cases['cases'].values)"
   ]
  },
  {
   "cell_type": "code",
   "execution_count": 201,
   "metadata": {},
   "outputs": [
    {
     "data": {
      "text/html": [
       "<div>\n",
       "<style scoped>\n",
       "    .dataframe tbody tr th:only-of-type {\n",
       "        vertical-align: middle;\n",
       "    }\n",
       "\n",
       "    .dataframe tbody tr th {\n",
       "        vertical-align: top;\n",
       "    }\n",
       "\n",
       "    .dataframe thead th {\n",
       "        text-align: right;\n",
       "    }\n",
       "</style>\n",
       "<table border=\"1\" class=\"dataframe\">\n",
       "  <thead>\n",
       "    <tr style=\"text-align: right;\">\n",
       "      <th></th>\n",
       "      <th>cases</th>\n",
       "    </tr>\n",
       "  </thead>\n",
       "  <tbody>\n",
       "    <tr>\n",
       "      <th>2/25/20</th>\n",
       "      <td>1</td>\n",
       "    </tr>\n",
       "    <tr>\n",
       "      <th>2/26/20</th>\n",
       "      <td>1</td>\n",
       "    </tr>\n",
       "    <tr>\n",
       "      <th>2/27/20</th>\n",
       "      <td>2</td>\n",
       "    </tr>\n",
       "    <tr>\n",
       "      <th>2/28/20</th>\n",
       "      <td>3</td>\n",
       "    </tr>\n",
       "    <tr>\n",
       "      <th>2/29/20</th>\n",
       "      <td>4</td>\n",
       "    </tr>\n",
       "    <tr>\n",
       "      <th>3/1/20</th>\n",
       "      <td>5</td>\n",
       "    </tr>\n",
       "    <tr>\n",
       "      <th>3/2/20</th>\n",
       "      <td>8</td>\n",
       "    </tr>\n",
       "    <tr>\n",
       "      <th>3/3/20</th>\n",
       "      <td>10</td>\n",
       "    </tr>\n",
       "    <tr>\n",
       "      <th>3/4/20</th>\n",
       "      <td>13</td>\n",
       "    </tr>\n",
       "    <tr>\n",
       "      <th>3/5/20</th>\n",
       "      <td>25</td>\n",
       "    </tr>\n",
       "    <tr>\n",
       "      <th>3/6/20</th>\n",
       "      <td>28</td>\n",
       "    </tr>\n",
       "    <tr>\n",
       "      <th>3/7/20</th>\n",
       "      <td>31</td>\n",
       "    </tr>\n",
       "    <tr>\n",
       "      <th>3/8/20</th>\n",
       "      <td>34</td>\n",
       "    </tr>\n",
       "    <tr>\n",
       "      <th>3/9/20</th>\n",
       "      <td>42</td>\n",
       "    </tr>\n",
       "    <tr>\n",
       "      <th>3/10/20</th>\n",
       "      <td>52</td>\n",
       "    </tr>\n",
       "    <tr>\n",
       "      <th>3/11/20</th>\n",
       "      <td>77</td>\n",
       "    </tr>\n",
       "    <tr>\n",
       "      <th>3/12/20</th>\n",
       "      <td>120</td>\n",
       "    </tr>\n",
       "    <tr>\n",
       "      <th>3/13/20</th>\n",
       "      <td>150</td>\n",
       "    </tr>\n",
       "    <tr>\n",
       "      <th>3/14/20</th>\n",
       "      <td>180</td>\n",
       "    </tr>\n",
       "    <tr>\n",
       "      <th>3/15/20</th>\n",
       "      <td>200</td>\n",
       "    </tr>\n",
       "    <tr>\n",
       "      <th>3/16/20</th>\n",
       "      <td>234</td>\n",
       "    </tr>\n",
       "    <tr>\n",
       "      <th>3/17/20</th>\n",
       "      <td>346</td>\n",
       "    </tr>\n",
       "    <tr>\n",
       "      <th>3/18/20</th>\n",
       "      <td>509</td>\n",
       "    </tr>\n",
       "    <tr>\n",
       "      <th>3/19/20</th>\n",
       "      <td>621</td>\n",
       "    </tr>\n",
       "    <tr>\n",
       "      <th>3/20/20</th>\n",
       "      <td>793</td>\n",
       "    </tr>\n",
       "    <tr>\n",
       "      <th>3/21/20</th>\n",
       "      <td>1021</td>\n",
       "    </tr>\n",
       "    <tr>\n",
       "      <th>3/22/20</th>\n",
       "      <td>1593</td>\n",
       "    </tr>\n",
       "    <tr>\n",
       "      <th>3/23/20</th>\n",
       "      <td>1924</td>\n",
       "    </tr>\n",
       "    <tr>\n",
       "      <th>3/24/20</th>\n",
       "      <td>2247</td>\n",
       "    </tr>\n",
       "    <tr>\n",
       "      <th>3/25/20</th>\n",
       "      <td>2554</td>\n",
       "    </tr>\n",
       "    <tr>\n",
       "      <th>3/26/20</th>\n",
       "      <td>2985</td>\n",
       "    </tr>\n",
       "  </tbody>\n",
       "</table>\n",
       "</div>"
      ],
      "text/plain": [
       "         cases\n",
       "2/25/20      1\n",
       "2/26/20      1\n",
       "2/27/20      2\n",
       "2/28/20      3\n",
       "2/29/20      4\n",
       "3/1/20       5\n",
       "3/2/20       8\n",
       "3/3/20      10\n",
       "3/4/20      13\n",
       "3/5/20      25\n",
       "3/6/20      28\n",
       "3/7/20      31\n",
       "3/8/20      34\n",
       "3/9/20      42\n",
       "3/10/20     52\n",
       "3/11/20     77\n",
       "3/12/20    120\n",
       "3/13/20    150\n",
       "3/14/20    180\n",
       "3/15/20    200\n",
       "3/16/20    234\n",
       "3/17/20    346\n",
       "3/18/20    509\n",
       "3/19/20    621\n",
       "3/20/20    793\n",
       "3/21/20   1021\n",
       "3/22/20   1593\n",
       "3/23/20   1924\n",
       "3/24/20   2247\n",
       "3/25/20   2554\n",
       "3/26/20   2985"
      ]
     },
     "execution_count": 201,
     "metadata": {},
     "output_type": "execute_result"
    }
   ],
   "source": [
    "casesBrazil_transposed_with_cases"
   ]
  },
  {
   "cell_type": "code",
   "execution_count": 202,
   "metadata": {},
   "outputs": [
    {
     "data": {
      "text/plain": [
       "<matplotlib.legend.Legend at 0x7f3a24b4a940>"
      ]
     },
     "execution_count": 202,
     "metadata": {},
     "output_type": "execute_result"
    },
    {
     "data": {
      "image/png": "[encoded data removed]",
      "text/plain": [
       "<matplotlib.figure.Figure at 0x7f3a24b92da0>"
      ]
     },
     "metadata": {
      "needs_background": "light"
     },
     "output_type": "display_data"
    }
   ],
   "source": [
    "fig, ax = plt.subplots()\n",
    "plt.plot(np.array(casesItaly_transposed_with_values_30['cases']), label = 'Itália 30º dia - 29/02')\n",
    "plt.plot(np.array(casesBrazil_transposed_with_cases['cases']), label = 'Brasil 30º dia - 25/03')\n",
    "plt.title('Número de casos confirmados no 30º dia de presença do vírus em cada país')\n",
    "ax = plt.gca()\n",
    "fig_size = plt.gcf().get_size_inches() \n",
    "plt.gcf().set_size_inches(sizefactor * fig_size)\n",
    "plt.legend()"
   ]
  },
  {
   "cell_type": "code",
   "execution_count": 203,
   "metadata": {},
   "outputs": [
    {
     "data": {
      "text/plain": [
       "1/31/20     0.033333\n",
       "2/1/20      0.033333\n",
       "2/2/20      0.033333\n",
       "2/3/20      0.033333\n",
       "2/4/20      0.033333\n",
       "2/5/20      0.033333\n",
       "2/6/20      0.033333\n",
       "2/7/20      0.050000\n",
       "2/8/20      0.050000\n",
       "2/9/20      0.050000\n",
       "2/10/20     0.050000\n",
       "2/11/20     0.050000\n",
       "2/12/20     0.050000\n",
       "2/13/20     0.050000\n",
       "2/14/20     0.050000\n",
       "2/15/20     0.050000\n",
       "2/16/20     0.100000\n",
       "2/17/20     0.150000\n",
       "2/18/20     0.200000\n",
       "2/19/20     0.250000\n",
       "2/20/20     0.300000\n",
       "2/21/20     0.333333\n",
       "2/22/20     1.033333\n",
       "2/23/20     2.583333\n",
       "2/24/20     3.816667\n",
       "2/25/20     5.366667\n",
       "2/26/20     7.550000\n",
       "2/27/20    10.916667\n",
       "2/28/20    14.800000\n",
       "2/29/20    18.800000\n",
       "Name: cases, dtype: float64"
      ]
     },
     "execution_count": 203,
     "metadata": {},
     "output_type": "execute_result"
    }
   ],
   "source": [
    "casesItaly_transposed_density.head(100)"
   ]
  },
  {
   "cell_type": "code",
   "execution_count": 204,
   "metadata": {},
   "outputs": [
    {
     "data": {
      "text/plain": [
       "2/25/20     0.004785\n",
       "2/26/20     0.004785\n",
       "2/27/20     0.009569\n",
       "2/28/20     0.014354\n",
       "2/29/20     0.019139\n",
       "3/1/20      0.023923\n",
       "3/2/20      0.038278\n",
       "3/3/20      0.047847\n",
       "3/4/20      0.062201\n",
       "3/5/20      0.119617\n",
       "3/6/20      0.133971\n",
       "3/7/20      0.148325\n",
       "3/8/20      0.162679\n",
       "3/9/20      0.200957\n",
       "3/10/20     0.248804\n",
       "3/11/20     0.368421\n",
       "3/12/20     0.574163\n",
       "3/13/20     0.717703\n",
       "3/14/20     0.861244\n",
       "3/15/20     0.956938\n",
       "3/16/20     1.119617\n",
       "3/17/20     1.655502\n",
       "3/18/20     2.435407\n",
       "3/19/20     2.971292\n",
       "3/20/20     3.794258\n",
       "3/21/20     4.885167\n",
       "3/22/20     7.622010\n",
       "3/23/20     9.205742\n",
       "3/24/20    10.751196\n",
       "3/25/20    12.220096\n",
       "3/26/20    14.282297\n",
       "Name: cases, dtype: float64"
      ]
     },
     "execution_count": 204,
     "metadata": {},
     "output_type": "execute_result"
    }
   ],
   "source": [
    "casesBrazil_transposed_density.head(100)"
   ]
  },
  {
   "cell_type": "code",
   "execution_count": 205,
   "metadata": {},
   "outputs": [
    {
     "data": {
      "text/plain": [
       "<matplotlib.legend.Legend at 0x7f3a226f78d0>"
      ]
     },
     "execution_count": 205,
     "metadata": {},
     "output_type": "execute_result"
    },
    {
     "data": {
      "image/png": "[encoded data removed]",
      "text/plain": [
       "<matplotlib.figure.Figure at 0x7f3a2288a860>"
      ]
     },
     "metadata": {
      "needs_background": "light"
     },
     "output_type": "display_data"
    }
   ],
   "source": [
    "fig, ax = plt.subplots()\n",
    "plt.plot(np.array(casesItaly_transposed_density), label = 'Itália 30º dia - 29/02')\n",
    "plt.plot(np.array(casesBrazil_transposed_density), label = 'Brasil 30º dia - 25/03')\n",
    "plt.title('Número de casos confirmados a cada 1 milhão de habitantes')\n",
    "\n",
    "ax = plt.gca()\n",
    "fig_size = plt.gcf().get_size_inches() \n",
    "plt.gcf().set_size_inches(sizefactor * fig_size)\n",
    "plt.legend()"
   ]
  },
  {
   "cell_type": "code",
   "execution_count": 206,
   "metadata": {},
   "outputs": [],
   "source": [
    "Y = np.array(casesChina_transposed['cases'].values)\n",
    "\n",
    "X_b = []\n",
    "X_b.append(0)\n",
    "for index in range(1, len(Y)):\n",
    "    X_b.append(Y[index-1])\n",
    "X_b = np.array(X_b)\n",
    "\n",
    "X_a = []\n",
    "X_a.append(0)\n",
    "for index in range(1, len(Y)):\n",
    "    X_a.append(index)\n",
    "X_a = np.array(X_a)\n",
    "\n",
    "X_2d = []\n",
    "for index in range(0, len(X_a)):\n",
    "    X_2d.append([X_a[index], X_b[index]])"
   ]
  },
  {
   "cell_type": "code",
   "execution_count": 207,
   "metadata": {},
   "outputs": [
    {
     "data": {
      "text/plain": [
       "[[0, 0],\n",
       " [1, 444],\n",
       " [2, 444],\n",
       " [3, 549],\n",
       " [4, 761],\n",
       " [5, 1058],\n",
       " [6, 1423],\n",
       " [7, 3554],\n",
       " [8, 3554],\n",
       " [9, 4903],\n",
       " [10, 5806],\n",
       " [11, 7153],\n",
       " [12, 11177],\n",
       " [13, 13522],\n",
       " [14, 16678],\n",
       " [15, 19665],\n",
       " [16, 22112],\n",
       " [17, 24953],\n",
       " [18, 27100],\n",
       " [19, 29631],\n",
       " [20, 31728],\n",
       " [21, 33366],\n",
       " [22, 33366],\n",
       " [23, 48206],\n",
       " [24, 54406],\n",
       " [25, 56249],\n",
       " [26, 58182],\n",
       " [27, 59989],\n",
       " [28, 61682],\n",
       " [29, 62031],\n",
       " [30, 62442],\n",
       " [31, 62662],\n",
       " [32, 64084],\n",
       " [33, 64084],\n",
       " [34, 64287],\n",
       " [35, 64786],\n",
       " [36, 65187],\n",
       " [37, 65596],\n",
       " [38, 65914],\n",
       " [39, 66337],\n",
       " [40, 66907],\n",
       " [41, 67103],\n",
       " [42, 67217],\n",
       " [43, 67332],\n",
       " [44, 67466],\n",
       " [45, 67592],\n",
       " [46, 67666],\n",
       " [47, 67707],\n",
       " [48, 67743],\n",
       " [49, 67760],\n",
       " [50, 67773],\n",
       " [51, 67781],\n",
       " [52, 67786],\n",
       " [53, 67790],\n",
       " [54, 67794],\n",
       " [55, 67798],\n",
       " [56, 67799],\n",
       " [57, 67800],\n",
       " [58, 67800],\n",
       " [59, 67800],\n",
       " [60, 67800],\n",
       " [61, 67800],\n",
       " [62, 67800],\n",
       " [63, 67801]]"
      ]
     },
     "execution_count": 207,
     "metadata": {},
     "output_type": "execute_result"
    }
   ],
   "source": [
    "X_2d"
   ]
  },
  {
   "cell_type": "code",
   "execution_count": 208,
   "metadata": {},
   "outputs": [],
   "source": [
    "casesUS = confirmedCases.loc[confirmedCases['Country/Region'] == 'US']"
   ]
  },
  {
   "cell_type": "code",
   "execution_count": 209,
   "metadata": {},
   "outputs": [
    {
     "data": {
      "text/html": [
       "<div>\n",
       "<style scoped>\n",
       "    .dataframe tbody tr th:only-of-type {\n",
       "        vertical-align: middle;\n",
       "    }\n",
       "\n",
       "    .dataframe tbody tr th {\n",
       "        vertical-align: top;\n",
       "    }\n",
       "\n",
       "    .dataframe thead th {\n",
       "        text-align: right;\n",
       "    }\n",
       "</style>\n",
       "<table border=\"1\" class=\"dataframe\">\n",
       "  <thead>\n",
       "    <tr style=\"text-align: right;\">\n",
       "      <th></th>\n",
       "      <th>Province/State</th>\n",
       "      <th>Country/Region</th>\n",
       "      <th>Lat</th>\n",
       "      <th>Long</th>\n",
       "      <th>1/22/20</th>\n",
       "      <th>1/23/20</th>\n",
       "      <th>1/24/20</th>\n",
       "      <th>1/25/20</th>\n",
       "      <th>1/26/20</th>\n",
       "      <th>1/27/20</th>\n",
       "      <th>...</th>\n",
       "      <th>3/16/20</th>\n",
       "      <th>3/17/20</th>\n",
       "      <th>3/18/20</th>\n",
       "      <th>3/19/20</th>\n",
       "      <th>3/20/20</th>\n",
       "      <th>3/21/20</th>\n",
       "      <th>3/22/20</th>\n",
       "      <th>3/23/20</th>\n",
       "      <th>3/24/20</th>\n",
       "      <th>3/25/20</th>\n",
       "    </tr>\n",
       "  </thead>\n",
       "  <tbody>\n",
       "    <tr>\n",
       "      <th>225</th>\n",
       "      <td>NaN</td>\n",
       "      <td>US</td>\n",
       "      <td>37.0902</td>\n",
       "      <td>-95.7129</td>\n",
       "      <td>1</td>\n",
       "      <td>1</td>\n",
       "      <td>2</td>\n",
       "      <td>2</td>\n",
       "      <td>5</td>\n",
       "      <td>5</td>\n",
       "      <td>...</td>\n",
       "      <td>4632</td>\n",
       "      <td>6421</td>\n",
       "      <td>7783</td>\n",
       "      <td>13677</td>\n",
       "      <td>19100</td>\n",
       "      <td>25489</td>\n",
       "      <td>33276</td>\n",
       "      <td>43847</td>\n",
       "      <td>53740</td>\n",
       "      <td>65778</td>\n",
       "    </tr>\n",
       "  </tbody>\n",
       "</table>\n",
       "<p>1 rows × 68 columns</p>\n",
       "</div>"
      ],
      "text/plain": [
       "    Province/State Country/Region      Lat     Long  1/22/20  1/23/20  \\\n",
       "225            NaN             US  37.0902 -95.7129        1        1   \n",
       "\n",
       "     1/24/20  1/25/20  1/26/20  1/27/20  ...  3/16/20  3/17/20  3/18/20  \\\n",
       "225        2        2        5        5  ...     4632     6421     7783   \n",
       "\n",
       "     3/19/20  3/20/20  3/21/20  3/22/20  3/23/20  3/24/20  3/25/20  \n",
       "225    13677    19100    25489    33276    43847    53740    65778  \n",
       "\n",
       "[1 rows x 68 columns]"
      ]
     },
     "execution_count": 209,
     "metadata": {},
     "output_type": "execute_result"
    }
   ],
   "source": [
    "casesUS.head()"
   ]
  },
  {
   "cell_type": "code",
   "execution_count": 210,
   "metadata": {},
   "outputs": [
    {
     "name": "stderr",
     "output_type": "stream",
     "text": [
      "/home/caiquecoelho/.local/lib/python3.6/site-packages/pandas/core/frame.py:3997: SettingWithCopyWarning: \n",
      "A value is trying to be set on a copy of a slice from a DataFrame\n",
      "\n",
      "See the caveats in the documentation: https://pandas.pydata.org/pandas-docs/stable/user_guide/indexing.html#returning-a-view-versus-a-copy\n",
      "  errors=errors,\n"
     ]
    }
   ],
   "source": [
    "casesUS.drop(['Province/State', 'Country/Region', 'Lat', 'Long'], axis=1, inplace=True)"
   ]
  },
  {
   "cell_type": "code",
   "execution_count": 211,
   "metadata": {},
   "outputs": [],
   "source": [
    "casesUSSum = pd.DataFrame()"
   ]
  },
  {
   "cell_type": "code",
   "execution_count": 212,
   "metadata": {},
   "outputs": [],
   "source": [
    "for column in casesUS.columns:\n",
    "    casesUSSum[column] = pd.Series(casesUS[str(column)].sum())"
   ]
  },
  {
   "cell_type": "code",
   "execution_count": 213,
   "metadata": {},
   "outputs": [
    {
     "data": {
      "text/html": [
       "<div>\n",
       "<style scoped>\n",
       "    .dataframe tbody tr th:only-of-type {\n",
       "        vertical-align: middle;\n",
       "    }\n",
       "\n",
       "    .dataframe tbody tr th {\n",
       "        vertical-align: top;\n",
       "    }\n",
       "\n",
       "    .dataframe thead th {\n",
       "        text-align: right;\n",
       "    }\n",
       "</style>\n",
       "<table border=\"1\" class=\"dataframe\">\n",
       "  <thead>\n",
       "    <tr style=\"text-align: right;\">\n",
       "      <th></th>\n",
       "      <th>1/22/20</th>\n",
       "      <th>1/23/20</th>\n",
       "      <th>1/24/20</th>\n",
       "      <th>1/25/20</th>\n",
       "      <th>1/26/20</th>\n",
       "      <th>1/27/20</th>\n",
       "      <th>1/28/20</th>\n",
       "      <th>1/29/20</th>\n",
       "      <th>1/30/20</th>\n",
       "      <th>1/31/20</th>\n",
       "      <th>...</th>\n",
       "      <th>3/16/20</th>\n",
       "      <th>3/17/20</th>\n",
       "      <th>3/18/20</th>\n",
       "      <th>3/19/20</th>\n",
       "      <th>3/20/20</th>\n",
       "      <th>3/21/20</th>\n",
       "      <th>3/22/20</th>\n",
       "      <th>3/23/20</th>\n",
       "      <th>3/24/20</th>\n",
       "      <th>3/25/20</th>\n",
       "    </tr>\n",
       "  </thead>\n",
       "  <tbody>\n",
       "    <tr>\n",
       "      <th>0</th>\n",
       "      <td>1</td>\n",
       "      <td>1</td>\n",
       "      <td>2</td>\n",
       "      <td>2</td>\n",
       "      <td>5</td>\n",
       "      <td>5</td>\n",
       "      <td>5</td>\n",
       "      <td>5</td>\n",
       "      <td>5</td>\n",
       "      <td>7</td>\n",
       "      <td>...</td>\n",
       "      <td>4632</td>\n",
       "      <td>6421</td>\n",
       "      <td>7783</td>\n",
       "      <td>13677</td>\n",
       "      <td>19100</td>\n",
       "      <td>25489</td>\n",
       "      <td>33276</td>\n",
       "      <td>43847</td>\n",
       "      <td>53740</td>\n",
       "      <td>65778</td>\n",
       "    </tr>\n",
       "  </tbody>\n",
       "</table>\n",
       "<p>1 rows × 64 columns</p>\n",
       "</div>"
      ],
      "text/plain": [
       "   1/22/20  1/23/20  1/24/20  1/25/20  1/26/20  1/27/20  1/28/20  1/29/20  \\\n",
       "0        1        1        2        2        5        5        5        5   \n",
       "\n",
       "   1/30/20  1/31/20  ...  3/16/20  3/17/20  3/18/20  3/19/20  3/20/20  \\\n",
       "0        5        7  ...     4632     6421     7783    13677    19100   \n",
       "\n",
       "   3/21/20  3/22/20  3/23/20  3/24/20  3/25/20  \n",
       "0    25489    33276    43847    53740    65778  \n",
       "\n",
       "[1 rows x 64 columns]"
      ]
     },
     "execution_count": 213,
     "metadata": {},
     "output_type": "execute_result"
    }
   ],
   "source": [
    "casesUSSum.head()"
   ]
  },
  {
   "cell_type": "code",
   "execution_count": 214,
   "metadata": {},
   "outputs": [],
   "source": [
    "casesUSSum_transposed = casesUSSum.T\n",
    "casesUSSum_transposed.columns = ['cases']\n",
    "casesUSSum_transposed_with_values  = casesUSSum_transposed[casesUSSum_transposed['cases'] > 0]"
   ]
  },
  {
   "cell_type": "code",
   "execution_count": 215,
   "metadata": {},
   "outputs": [
    {
     "data": {
      "text/plain": [
       "<matplotlib.legend.Legend at 0x7f3a2267afd0>"
      ]
     },
     "execution_count": 215,
     "metadata": {},
     "output_type": "execute_result"
    },
    {
     "data": {
      "image/png": "[encoded data removed]",
      "text/plain": [
       "<matplotlib.figure.Figure at 0x7f3a2272c5c0>"
      ]
     },
     "metadata": {
      "needs_background": "light"
     },
     "output_type": "display_data"
    }
   ],
   "source": [
    "plt.plot(np.array(casesChina_transposed_with_values['cases']), label = 'China')\n",
    "plt.plot(np.array(casesItaly_transposed_with_values['cases']), label = 'Itália')\n",
    "plt.plot(np.array(casesUSSum_transposed_with_values['cases']), label = 'USA')\n",
    "plt.plot(np.array(casesBrazil_transposed_with_cases['cases']), label = 'Brasil')\n",
    "plt.title('Cases COVID-19 x Day')\n",
    "sizefactor = 2.8 #Set a zoom factor\n",
    "# Modify the current size by the factor\n",
    "fig_size = plt.gcf().get_size_inches() \n",
    "plt.gcf().set_size_inches(sizefactor * fig_size)\n",
    "plt.legend()"
   ]
  },
  {
   "cell_type": "code",
   "execution_count": 216,
   "metadata": {},
   "outputs": [
    {
     "data": {
      "text/plain": [
       "<matplotlib.legend.Legend at 0x7f3a225f7e48>"
      ]
     },
     "execution_count": 216,
     "metadata": {},
     "output_type": "execute_result"
    },
    {
     "data": {
      "image/png": "[encoded data removed]",
      "text/plain": [
       "<matplotlib.figure.Figure at 0x7f3a22635cf8>"
      ]
     },
     "metadata": {
      "needs_background": "light"
     },
     "output_type": "display_data"
    }
   ],
   "source": [
    "plt.plot(np.array(casesItaly_transposed_with_values['cases']), label = 'Itália')\n",
    "plt.plot(np.array(casesUSSum_transposed_with_values['cases']), label = 'USA')\n",
    "plt.plot(np.array(casesBrazil_transposed_with_cases['cases']), label = 'Brasil')\n",
    "sizefactor = 2.8 #Set a zoom factor\n",
    "# Modify the current size by the factor\n",
    "plt.yticks(np.arange(casesBrazil_transposed_with_cases['cases'].min(), casesItaly_transposed_with_values['cases'].max(), 4000))\n",
    "fig_size = plt.gcf().get_size_inches() \n",
    "plt.gcf().set_size_inches(sizefactor * fig_size)\n",
    "plt.legend()"
   ]
  },
  {
   "cell_type": "code",
   "execution_count": 217,
   "metadata": {},
   "outputs": [
    {
     "data": {
      "text/plain": [
       "<matplotlib.legend.Legend at 0x7f3a225adb70>"
      ]
     },
     "execution_count": 217,
     "metadata": {},
     "output_type": "execute_result"
    },
    {
     "data": {
      "image/png": "[encoded data removed]",
      "text/plain": [
       "<matplotlib.figure.Figure at 0x7f3a226495c0>"
      ]
     },
     "metadata": {
      "needs_background": "light"
     },
     "output_type": "display_data"
    }
   ],
   "source": [
    "plt.plot(np.array(casesUSSum_transposed_with_values['cases']), label = 'USA')\n",
    "plt.plot(np.array(casesBrazil_transposed_with_cases['cases']), label = 'Brasil')\n",
    "sizefactor = 2.8 #Set a zoom factor\n",
    "# Modify the current size by the factor\n",
    "plt.yticks(np.arange(casesUSSum_transposed_with_values['cases'].min(), casesUSSum_transposed_with_values['cases'].max(), 4000))\n",
    "fig_size = plt.gcf().get_size_inches()\n",
    "plt.gcf().set_size_inches(sizefactor * fig_size)\n",
    "plt.title('Cases COVID-19 x Day')\n",
    "plt.legend()"
   ]
  },
  {
   "cell_type": "code",
   "execution_count": 218,
   "metadata": {},
   "outputs": [
    {
     "data": {
      "text/plain": [
       "<matplotlib.legend.Legend at 0x7f3a224ba7b8>"
      ]
     },
     "execution_count": 218,
     "metadata": {},
     "output_type": "execute_result"
    },
    {
     "data": {
      "image/png": "[encoded data removed]",
      "text/plain": [
       "<matplotlib.figure.Figure at 0x7f3a22620eb8>"
      ]
     },
     "metadata": {
      "needs_background": "light"
     },
     "output_type": "display_data"
    }
   ],
   "source": [
    "plt.plot(np.array(casesItaly_transposed_with_values['cases']), label = 'Itália')\n",
    "plt.plot(np.array(casesBrazil_transposed_with_cases['cases']), label = 'Brasil')\n",
    "sizefactor = 2.8 #Set a zoom factor\n",
    "# Modify the current size by the factor\n",
    "plt.yticks(np.arange(casesUSSum_transposed_with_values['cases'].min(), casesUSSum_transposed_with_values['cases'].max(), 4000))\n",
    "fig_size = plt.gcf().get_size_inches()\n",
    "plt.gcf().set_size_inches(sizefactor * fig_size)\n",
    "plt.title('Cases COVID-19 x Day')\n",
    "plt.legend()"
   ]
  },
  {
   "cell_type": "code",
   "execution_count": 219,
   "metadata": {},
   "outputs": [
    {
     "data": {
      "text/html": [
       "<div>\n",
       "<style scoped>\n",
       "    .dataframe tbody tr th:only-of-type {\n",
       "        vertical-align: middle;\n",
       "    }\n",
       "\n",
       "    .dataframe tbody tr th {\n",
       "        vertical-align: top;\n",
       "    }\n",
       "\n",
       "    .dataframe thead th {\n",
       "        text-align: right;\n",
       "    }\n",
       "</style>\n",
       "<table border=\"1\" class=\"dataframe\">\n",
       "  <thead>\n",
       "    <tr style=\"text-align: right;\">\n",
       "      <th></th>\n",
       "      <th>cases</th>\n",
       "    </tr>\n",
       "  </thead>\n",
       "  <tbody>\n",
       "    <tr>\n",
       "      <th>1/31/20</th>\n",
       "      <td>2</td>\n",
       "    </tr>\n",
       "    <tr>\n",
       "      <th>2/1/20</th>\n",
       "      <td>2</td>\n",
       "    </tr>\n",
       "    <tr>\n",
       "      <th>2/2/20</th>\n",
       "      <td>2</td>\n",
       "    </tr>\n",
       "    <tr>\n",
       "      <th>2/3/20</th>\n",
       "      <td>2</td>\n",
       "    </tr>\n",
       "    <tr>\n",
       "      <th>2/4/20</th>\n",
       "      <td>2</td>\n",
       "    </tr>\n",
       "    <tr>\n",
       "      <th>2/5/20</th>\n",
       "      <td>2</td>\n",
       "    </tr>\n",
       "    <tr>\n",
       "      <th>2/6/20</th>\n",
       "      <td>2</td>\n",
       "    </tr>\n",
       "    <tr>\n",
       "      <th>2/7/20</th>\n",
       "      <td>3</td>\n",
       "    </tr>\n",
       "    <tr>\n",
       "      <th>2/8/20</th>\n",
       "      <td>3</td>\n",
       "    </tr>\n",
       "    <tr>\n",
       "      <th>2/9/20</th>\n",
       "      <td>3</td>\n",
       "    </tr>\n",
       "    <tr>\n",
       "      <th>2/10/20</th>\n",
       "      <td>3</td>\n",
       "    </tr>\n",
       "    <tr>\n",
       "      <th>2/11/20</th>\n",
       "      <td>3</td>\n",
       "    </tr>\n",
       "    <tr>\n",
       "      <th>2/12/20</th>\n",
       "      <td>3</td>\n",
       "    </tr>\n",
       "    <tr>\n",
       "      <th>2/13/20</th>\n",
       "      <td>3</td>\n",
       "    </tr>\n",
       "    <tr>\n",
       "      <th>2/14/20</th>\n",
       "      <td>3</td>\n",
       "    </tr>\n",
       "    <tr>\n",
       "      <th>2/15/20</th>\n",
       "      <td>3</td>\n",
       "    </tr>\n",
       "    <tr>\n",
       "      <th>2/16/20</th>\n",
       "      <td>6</td>\n",
       "    </tr>\n",
       "    <tr>\n",
       "      <th>2/17/20</th>\n",
       "      <td>9</td>\n",
       "    </tr>\n",
       "    <tr>\n",
       "      <th>2/18/20</th>\n",
       "      <td>12</td>\n",
       "    </tr>\n",
       "    <tr>\n",
       "      <th>2/19/20</th>\n",
       "      <td>15</td>\n",
       "    </tr>\n",
       "    <tr>\n",
       "      <th>2/20/20</th>\n",
       "      <td>18</td>\n",
       "    </tr>\n",
       "    <tr>\n",
       "      <th>2/21/20</th>\n",
       "      <td>20</td>\n",
       "    </tr>\n",
       "    <tr>\n",
       "      <th>2/22/20</th>\n",
       "      <td>62</td>\n",
       "    </tr>\n",
       "    <tr>\n",
       "      <th>2/23/20</th>\n",
       "      <td>155</td>\n",
       "    </tr>\n",
       "    <tr>\n",
       "      <th>2/24/20</th>\n",
       "      <td>229</td>\n",
       "    </tr>\n",
       "    <tr>\n",
       "      <th>2/25/20</th>\n",
       "      <td>322</td>\n",
       "    </tr>\n",
       "    <tr>\n",
       "      <th>2/26/20</th>\n",
       "      <td>453</td>\n",
       "    </tr>\n",
       "    <tr>\n",
       "      <th>2/27/20</th>\n",
       "      <td>655</td>\n",
       "    </tr>\n",
       "    <tr>\n",
       "      <th>2/28/20</th>\n",
       "      <td>888</td>\n",
       "    </tr>\n",
       "    <tr>\n",
       "      <th>2/29/20</th>\n",
       "      <td>1128</td>\n",
       "    </tr>\n",
       "    <tr>\n",
       "      <th>3/1/20</th>\n",
       "      <td>1694</td>\n",
       "    </tr>\n",
       "    <tr>\n",
       "      <th>3/2/20</th>\n",
       "      <td>2036</td>\n",
       "    </tr>\n",
       "    <tr>\n",
       "      <th>3/3/20</th>\n",
       "      <td>2502</td>\n",
       "    </tr>\n",
       "    <tr>\n",
       "      <th>3/4/20</th>\n",
       "      <td>3089</td>\n",
       "    </tr>\n",
       "    <tr>\n",
       "      <th>3/5/20</th>\n",
       "      <td>3858</td>\n",
       "    </tr>\n",
       "    <tr>\n",
       "      <th>3/6/20</th>\n",
       "      <td>4636</td>\n",
       "    </tr>\n",
       "    <tr>\n",
       "      <th>3/7/20</th>\n",
       "      <td>5883</td>\n",
       "    </tr>\n",
       "    <tr>\n",
       "      <th>3/8/20</th>\n",
       "      <td>7375</td>\n",
       "    </tr>\n",
       "    <tr>\n",
       "      <th>3/9/20</th>\n",
       "      <td>9172</td>\n",
       "    </tr>\n",
       "    <tr>\n",
       "      <th>3/10/20</th>\n",
       "      <td>10149</td>\n",
       "    </tr>\n",
       "    <tr>\n",
       "      <th>3/11/20</th>\n",
       "      <td>12462</td>\n",
       "    </tr>\n",
       "    <tr>\n",
       "      <th>3/12/20</th>\n",
       "      <td>15000</td>\n",
       "    </tr>\n",
       "    <tr>\n",
       "      <th>3/13/20</th>\n",
       "      <td>17660</td>\n",
       "    </tr>\n",
       "    <tr>\n",
       "      <th>3/14/20</th>\n",
       "      <td>21157</td>\n",
       "    </tr>\n",
       "    <tr>\n",
       "      <th>3/15/20</th>\n",
       "      <td>24747</td>\n",
       "    </tr>\n",
       "    <tr>\n",
       "      <th>3/16/20</th>\n",
       "      <td>27980</td>\n",
       "    </tr>\n",
       "    <tr>\n",
       "      <th>3/17/20</th>\n",
       "      <td>31506</td>\n",
       "    </tr>\n",
       "    <tr>\n",
       "      <th>3/18/20</th>\n",
       "      <td>35713</td>\n",
       "    </tr>\n",
       "    <tr>\n",
       "      <th>3/19/20</th>\n",
       "      <td>41035</td>\n",
       "    </tr>\n",
       "    <tr>\n",
       "      <th>3/20/20</th>\n",
       "      <td>47021</td>\n",
       "    </tr>\n",
       "    <tr>\n",
       "      <th>3/21/20</th>\n",
       "      <td>53578</td>\n",
       "    </tr>\n",
       "    <tr>\n",
       "      <th>3/22/20</th>\n",
       "      <td>59138</td>\n",
       "    </tr>\n",
       "    <tr>\n",
       "      <th>3/23/20</th>\n",
       "      <td>63927</td>\n",
       "    </tr>\n",
       "    <tr>\n",
       "      <th>3/24/20</th>\n",
       "      <td>69176</td>\n",
       "    </tr>\n",
       "    <tr>\n",
       "      <th>3/25/20</th>\n",
       "      <td>74386</td>\n",
       "    </tr>\n",
       "  </tbody>\n",
       "</table>\n",
       "</div>"
      ],
      "text/plain": [
       "         cases\n",
       "1/31/20      2\n",
       "2/1/20       2\n",
       "2/2/20       2\n",
       "2/3/20       2\n",
       "2/4/20       2\n",
       "2/5/20       2\n",
       "2/6/20       2\n",
       "2/7/20       3\n",
       "2/8/20       3\n",
       "2/9/20       3\n",
       "2/10/20      3\n",
       "2/11/20      3\n",
       "2/12/20      3\n",
       "2/13/20      3\n",
       "2/14/20      3\n",
       "2/15/20      3\n",
       "2/16/20      6\n",
       "2/17/20      9\n",
       "2/18/20     12\n",
       "2/19/20     15\n",
       "2/20/20     18\n",
       "2/21/20     20\n",
       "2/22/20     62\n",
       "2/23/20    155\n",
       "2/24/20    229\n",
       "2/25/20    322\n",
       "2/26/20    453\n",
       "2/27/20    655\n",
       "2/28/20    888\n",
       "2/29/20   1128\n",
       "3/1/20    1694\n",
       "3/2/20    2036\n",
       "3/3/20    2502\n",
       "3/4/20    3089\n",
       "3/5/20    3858\n",
       "3/6/20    4636\n",
       "3/7/20    5883\n",
       "3/8/20    7375\n",
       "3/9/20    9172\n",
       "3/10/20  10149\n",
       "3/11/20  12462\n",
       "3/12/20  15000\n",
       "3/13/20  17660\n",
       "3/14/20  21157\n",
       "3/15/20  24747\n",
       "3/16/20  27980\n",
       "3/17/20  31506\n",
       "3/18/20  35713\n",
       "3/19/20  41035\n",
       "3/20/20  47021\n",
       "3/21/20  53578\n",
       "3/22/20  59138\n",
       "3/23/20  63927\n",
       "3/24/20  69176\n",
       "3/25/20  74386"
      ]
     },
     "execution_count": 219,
     "metadata": {},
     "output_type": "execute_result"
    }
   ],
   "source": [
    "#casesItaly_transposed_with_values[]\n",
    "casesItaly_transposed_with_values.head(100)"
   ]
  },
  {
   "cell_type": "code",
   "execution_count": 220,
   "metadata": {},
   "outputs": [
    {
     "data": {
      "text/plain": [
       "29.5"
      ]
     },
     "execution_count": 220,
     "metadata": {},
     "output_type": "execute_result"
    }
   ],
   "source": [
    "np.mean([17, 42])"
   ]
  },
  {
   "cell_type": "code",
   "execution_count": 221,
   "metadata": {},
   "outputs": [
    {
     "data": {
      "text/html": [
       "<div>\n",
       "<style scoped>\n",
       "    .dataframe tbody tr th:only-of-type {\n",
       "        vertical-align: middle;\n",
       "    }\n",
       "\n",
       "    .dataframe tbody tr th {\n",
       "        vertical-align: top;\n",
       "    }\n",
       "\n",
       "    .dataframe thead th {\n",
       "        text-align: right;\n",
       "    }\n",
       "</style>\n",
       "<table border=\"1\" class=\"dataframe\">\n",
       "  <thead>\n",
       "    <tr style=\"text-align: right;\">\n",
       "      <th></th>\n",
       "      <th>cases</th>\n",
       "    </tr>\n",
       "  </thead>\n",
       "  <tbody>\n",
       "    <tr>\n",
       "      <th>2/25/20</th>\n",
       "      <td>1</td>\n",
       "    </tr>\n",
       "    <tr>\n",
       "      <th>2/26/20</th>\n",
       "      <td>1</td>\n",
       "    </tr>\n",
       "    <tr>\n",
       "      <th>2/27/20</th>\n",
       "      <td>2</td>\n",
       "    </tr>\n",
       "    <tr>\n",
       "      <th>2/28/20</th>\n",
       "      <td>3</td>\n",
       "    </tr>\n",
       "    <tr>\n",
       "      <th>2/29/20</th>\n",
       "      <td>4</td>\n",
       "    </tr>\n",
       "    <tr>\n",
       "      <th>3/1/20</th>\n",
       "      <td>5</td>\n",
       "    </tr>\n",
       "    <tr>\n",
       "      <th>3/2/20</th>\n",
       "      <td>8</td>\n",
       "    </tr>\n",
       "    <tr>\n",
       "      <th>3/3/20</th>\n",
       "      <td>10</td>\n",
       "    </tr>\n",
       "    <tr>\n",
       "      <th>3/4/20</th>\n",
       "      <td>13</td>\n",
       "    </tr>\n",
       "    <tr>\n",
       "      <th>3/5/20</th>\n",
       "      <td>25</td>\n",
       "    </tr>\n",
       "    <tr>\n",
       "      <th>3/6/20</th>\n",
       "      <td>28</td>\n",
       "    </tr>\n",
       "    <tr>\n",
       "      <th>3/7/20</th>\n",
       "      <td>31</td>\n",
       "    </tr>\n",
       "    <tr>\n",
       "      <th>3/8/20</th>\n",
       "      <td>34</td>\n",
       "    </tr>\n",
       "    <tr>\n",
       "      <th>3/9/20</th>\n",
       "      <td>42</td>\n",
       "    </tr>\n",
       "    <tr>\n",
       "      <th>3/10/20</th>\n",
       "      <td>52</td>\n",
       "    </tr>\n",
       "    <tr>\n",
       "      <th>3/11/20</th>\n",
       "      <td>77</td>\n",
       "    </tr>\n",
       "    <tr>\n",
       "      <th>3/12/20</th>\n",
       "      <td>120</td>\n",
       "    </tr>\n",
       "    <tr>\n",
       "      <th>3/13/20</th>\n",
       "      <td>150</td>\n",
       "    </tr>\n",
       "    <tr>\n",
       "      <th>3/14/20</th>\n",
       "      <td>180</td>\n",
       "    </tr>\n",
       "    <tr>\n",
       "      <th>3/15/20</th>\n",
       "      <td>200</td>\n",
       "    </tr>\n",
       "    <tr>\n",
       "      <th>3/16/20</th>\n",
       "      <td>234</td>\n",
       "    </tr>\n",
       "    <tr>\n",
       "      <th>3/17/20</th>\n",
       "      <td>346</td>\n",
       "    </tr>\n",
       "    <tr>\n",
       "      <th>3/18/20</th>\n",
       "      <td>509</td>\n",
       "    </tr>\n",
       "    <tr>\n",
       "      <th>3/19/20</th>\n",
       "      <td>621</td>\n",
       "    </tr>\n",
       "    <tr>\n",
       "      <th>3/20/20</th>\n",
       "      <td>793</td>\n",
       "    </tr>\n",
       "  </tbody>\n",
       "</table>\n",
       "</div>"
      ],
      "text/plain": [
       "         cases\n",
       "2/25/20      1\n",
       "2/26/20      1\n",
       "2/27/20      2\n",
       "2/28/20      3\n",
       "2/29/20      4\n",
       "3/1/20       5\n",
       "3/2/20       8\n",
       "3/3/20      10\n",
       "3/4/20      13\n",
       "3/5/20      25\n",
       "3/6/20      28\n",
       "3/7/20      31\n",
       "3/8/20      34\n",
       "3/9/20      42\n",
       "3/10/20     52\n",
       "3/11/20     77\n",
       "3/12/20    120\n",
       "3/13/20    150\n",
       "3/14/20    180\n",
       "3/15/20    200\n",
       "3/16/20    234\n",
       "3/17/20    346\n",
       "3/18/20    509\n",
       "3/19/20    621\n",
       "3/20/20    793"
      ]
     },
     "execution_count": 221,
     "metadata": {},
     "output_type": "execute_result"
    }
   ],
   "source": [
    "casesBrazil_transposed_with_cases.head(25)"
   ]
  },
  {
   "cell_type": "code",
   "execution_count": 222,
   "metadata": {},
   "outputs": [
    {
     "data": {
      "text/plain": [
       "137.5"
      ]
     },
     "execution_count": 222,
     "metadata": {},
     "output_type": "execute_result"
    }
   ],
   "source": [
    "np.mean([112, 163])"
   ]
  },
  {
   "cell_type": "code",
   "execution_count": 223,
   "metadata": {},
   "outputs": [
    {
     "data": {
      "text/html": [
       "<div>\n",
       "<style scoped>\n",
       "    .dataframe tbody tr th:only-of-type {\n",
       "        vertical-align: middle;\n",
       "    }\n",
       "\n",
       "    .dataframe tbody tr th {\n",
       "        vertical-align: top;\n",
       "    }\n",
       "\n",
       "    .dataframe thead th {\n",
       "        text-align: right;\n",
       "    }\n",
       "</style>\n",
       "<table border=\"1\" class=\"dataframe\">\n",
       "  <thead>\n",
       "    <tr style=\"text-align: right;\">\n",
       "      <th></th>\n",
       "      <th>cases</th>\n",
       "    </tr>\n",
       "  </thead>\n",
       "  <tbody>\n",
       "    <tr>\n",
       "      <th>1/22/20</th>\n",
       "      <td>444</td>\n",
       "    </tr>\n",
       "    <tr>\n",
       "      <th>1/23/20</th>\n",
       "      <td>444</td>\n",
       "    </tr>\n",
       "    <tr>\n",
       "      <th>1/24/20</th>\n",
       "      <td>549</td>\n",
       "    </tr>\n",
       "    <tr>\n",
       "      <th>1/25/20</th>\n",
       "      <td>761</td>\n",
       "    </tr>\n",
       "    <tr>\n",
       "      <th>1/26/20</th>\n",
       "      <td>1058</td>\n",
       "    </tr>\n",
       "    <tr>\n",
       "      <th>...</th>\n",
       "      <td>...</td>\n",
       "    </tr>\n",
       "    <tr>\n",
       "      <th>3/21/20</th>\n",
       "      <td>67800</td>\n",
       "    </tr>\n",
       "    <tr>\n",
       "      <th>3/22/20</th>\n",
       "      <td>67800</td>\n",
       "    </tr>\n",
       "    <tr>\n",
       "      <th>3/23/20</th>\n",
       "      <td>67800</td>\n",
       "    </tr>\n",
       "    <tr>\n",
       "      <th>3/24/20</th>\n",
       "      <td>67801</td>\n",
       "    </tr>\n",
       "    <tr>\n",
       "      <th>3/25/20</th>\n",
       "      <td>67801</td>\n",
       "    </tr>\n",
       "  </tbody>\n",
       "</table>\n",
       "<p>64 rows × 1 columns</p>\n",
       "</div>"
      ],
      "text/plain": [
       "         cases\n",
       "1/22/20    444\n",
       "1/23/20    444\n",
       "1/24/20    549\n",
       "1/25/20    761\n",
       "1/26/20   1058\n",
       "...        ...\n",
       "3/21/20  67800\n",
       "3/22/20  67800\n",
       "3/23/20  67800\n",
       "3/24/20  67801\n",
       "3/25/20  67801\n",
       "\n",
       "[64 rows x 1 columns]"
      ]
     },
     "execution_count": 223,
     "metadata": {},
     "output_type": "execute_result"
    }
   ],
   "source": [
    "casesChina_transposed_with_values.head(900)"
   ]
  },
  {
   "cell_type": "code",
   "execution_count": 224,
   "metadata": {},
   "outputs": [],
   "source": [
    "casesUSSum_6_march = casesUSSum_transposed_with_values[casesUSSum_transposed_with_values['cases'] < 263 ]"
   ]
  },
  {
   "cell_type": "code",
   "execution_count": 225,
   "metadata": {},
   "outputs": [
    {
     "data": {
      "text/html": [
       "<div>\n",
       "<style scoped>\n",
       "    .dataframe tbody tr th:only-of-type {\n",
       "        vertical-align: middle;\n",
       "    }\n",
       "\n",
       "    .dataframe tbody tr th {\n",
       "        vertical-align: top;\n",
       "    }\n",
       "\n",
       "    .dataframe thead th {\n",
       "        text-align: right;\n",
       "    }\n",
       "</style>\n",
       "<table border=\"1\" class=\"dataframe\">\n",
       "  <thead>\n",
       "    <tr style=\"text-align: right;\">\n",
       "      <th></th>\n",
       "      <th>cases</th>\n",
       "    </tr>\n",
       "  </thead>\n",
       "  <tbody>\n",
       "    <tr>\n",
       "      <th>1/22/20</th>\n",
       "      <td>1</td>\n",
       "    </tr>\n",
       "    <tr>\n",
       "      <th>1/23/20</th>\n",
       "      <td>1</td>\n",
       "    </tr>\n",
       "    <tr>\n",
       "      <th>1/24/20</th>\n",
       "      <td>2</td>\n",
       "    </tr>\n",
       "    <tr>\n",
       "      <th>1/25/20</th>\n",
       "      <td>2</td>\n",
       "    </tr>\n",
       "    <tr>\n",
       "      <th>1/26/20</th>\n",
       "      <td>5</td>\n",
       "    </tr>\n",
       "    <tr>\n",
       "      <th>...</th>\n",
       "      <td>...</td>\n",
       "    </tr>\n",
       "    <tr>\n",
       "      <th>3/21/20</th>\n",
       "      <td>25489</td>\n",
       "    </tr>\n",
       "    <tr>\n",
       "      <th>3/22/20</th>\n",
       "      <td>33276</td>\n",
       "    </tr>\n",
       "    <tr>\n",
       "      <th>3/23/20</th>\n",
       "      <td>43847</td>\n",
       "    </tr>\n",
       "    <tr>\n",
       "      <th>3/24/20</th>\n",
       "      <td>53740</td>\n",
       "    </tr>\n",
       "    <tr>\n",
       "      <th>3/25/20</th>\n",
       "      <td>65778</td>\n",
       "    </tr>\n",
       "  </tbody>\n",
       "</table>\n",
       "<p>64 rows × 1 columns</p>\n",
       "</div>"
      ],
      "text/plain": [
       "         cases\n",
       "1/22/20      1\n",
       "1/23/20      1\n",
       "1/24/20      2\n",
       "1/25/20      2\n",
       "1/26/20      5\n",
       "...        ...\n",
       "3/21/20  25489\n",
       "3/22/20  33276\n",
       "3/23/20  43847\n",
       "3/24/20  53740\n",
       "3/25/20  65778\n",
       "\n",
       "[64 rows x 1 columns]"
      ]
     },
     "execution_count": 225,
     "metadata": {},
     "output_type": "execute_result"
    }
   ],
   "source": [
    "casesUSSum_transposed_with_values"
   ]
  },
  {
   "cell_type": "code",
   "execution_count": 226,
   "metadata": {},
   "outputs": [
    {
     "data": {
      "text/plain": [
       "5.931818181818182"
      ]
     },
     "execution_count": 226,
     "metadata": {},
     "output_type": "execute_result"
    }
   ],
   "source": [
    "mean_usa = []\n",
    "for index in range(1, len(casesUSSum_6_march.values)):\n",
    "    mean_usa.append(casesUSSum_6_march['cases'][index] - casesUSSum_6_march['cases'][index -1])\n",
    "np.mean(mean_usa)"
   ]
  },
  {
   "cell_type": "code",
   "execution_count": 227,
   "metadata": {},
   "outputs": [
    {
     "data": {
      "text/plain": [
       "3632.0"
      ]
     },
     "execution_count": 227,
     "metadata": {},
     "output_type": "execute_result"
    }
   ],
   "source": [
    "casesUSSum_7_march = casesUSSum_transposed_with_values[casesUSSum_transposed_with_values['cases'] > 263 ]\n",
    "mean_usa = []\n",
    "for index in range(1, len(casesUSSum_7_march.values)):\n",
    "    mean_usa.append(casesUSSum_7_march['cases'][index] - casesUSSum_7_march['cases'][index -1])\n",
    "np.mean(mean_usa)"
   ]
  },
  {
   "cell_type": "code",
   "execution_count": 228,
   "metadata": {},
   "outputs": [
    {
     "data": {
      "text/plain": [
       "1577.0"
      ]
     },
     "execution_count": 228,
     "metadata": {},
     "output_type": "execute_result"
    }
   ],
   "source": [
    "np.mean([1789, 1365])"
   ]
  },
  {
   "cell_type": "code",
   "execution_count": 229,
   "metadata": {},
   "outputs": [],
   "source": [
    "import numpy as np\n",
    "\n",
    "import matplotlib.pyplot as plt\n",
    "\n",
    "from sklearn.linear_model import LinearRegression\n",
    "from sklearn.preprocessing import FunctionTransformer\n",
    "\n",
    "\n",
    "np.random.seed(123)\n",
    "# General Functions\n",
    "def func_exp(x, a, b, c):\n",
    "    \"\"\"Return values from a general exponential function.\"\"\"\n",
    "    return a * np.exp(b * x) + c\n",
    "\n",
    "\n",
    "def func_log(x, a, b, c):\n",
    "    \"\"\"Return values from a general log function.\"\"\"\n",
    "    return a * np.log(b * x) + c\n",
    "\n",
    "\n",
    "# Data\n",
    "def generate_data(func, *args, jitter=0):\n",
    "    \"\"\"Return a tuple of arrays with random data along a general function.\"\"\"\n",
    "    xs = np.linspace(1, 5, 50)\n",
    "    ys = func(xs, *args)\n",
    "    noise = jitter * np.random.normal(size=len(xs)) + jitter\n",
    "    xs = xs.reshape(-1, 1)                                  # xs[:, np.newaxis]\n",
    "    ys = (ys + noise).reshape(-1, 1)\n",
    "    return xs, ys\n",
    "transformer = FunctionTransformer(np.log, validate=True)"
   ]
  },
  {
   "cell_type": "code",
   "execution_count": 230,
   "metadata": {},
   "outputs": [],
   "source": [
    "x_samp, y_samp = generate_data(func_exp, 2.5, 1.2, 0.7, jitter=3)\n",
    "y_trans = transformer.fit_transform(y_samp)"
   ]
  },
  {
   "cell_type": "code",
   "execution_count": null,
   "metadata": {},
   "outputs": [],
   "source": []
  },
  {
   "cell_type": "code",
   "execution_count": 231,
   "metadata": {},
   "outputs": [
    {
     "data": {
      "text/plain": [
       "array([1862.42232707])"
      ]
     },
     "execution_count": 231,
     "metadata": {},
     "output_type": "execute_result"
    }
   ],
   "source": [
    "svr_lin.predict(np.array([[1593]]))"
   ]
  },
  {
   "cell_type": "code",
   "execution_count": null,
   "metadata": {},
   "outputs": [],
   "source": []
  },
  {
   "cell_type": "code",
   "execution_count": 232,
   "metadata": {},
   "outputs": [],
   "source": [
    "#x_samp, y_samp = generate_data(func_exp, 2.5, 1.2, 0.7, jitter=3)\n",
    "#y_trans = transformer.fit_transform(y_samp)             # 1\n",
    "\n",
    "model = LinearRegression().fit(X_b.reshape(-1, 1), Y) \n",
    "y_fit = model.predict(np.array([509]).reshape(-1, 1))"
   ]
  },
  {
   "cell_type": "code",
   "execution_count": 233,
   "metadata": {},
   "outputs": [
    {
     "data": {
      "text/plain": [
       "array([2616.58316495])"
      ]
     },
     "execution_count": 233,
     "metadata": {},
     "output_type": "execute_result"
    }
   ],
   "source": [
    "y_fit"
   ]
  },
  {
   "cell_type": "code",
   "execution_count": 234,
   "metadata": {},
   "outputs": [],
   "source": [
    "labels_y = ['3/20/20', '3/21/20', '3/22/20', '3/23/20', '3/24/20', '3/25/20', '3/26/20', '3/27/20', '3/28/20', \n",
    "           '3/29/20', '3/30/20', '3/31/20','4/1/20','4/2/20', '4/3/20', '4/4/20']"
   ]
  },
  {
   "cell_type": "code",
   "execution_count": 235,
   "metadata": {},
   "outputs": [
    {
     "data": {
      "text/plain": [
       "16"
      ]
     },
     "execution_count": 235,
     "metadata": {},
     "output_type": "execute_result"
    }
   ],
   "source": [
    "len(labels_y)"
   ]
  },
  {
   "cell_type": "code",
   "execution_count": 236,
   "metadata": {},
   "outputs": [],
   "source": [
    "casesBrazil_transposed_with_cases\n",
    "dfPredictBraziLin = pd.DataFrame(predict_lin, columns=['cases'], index=labels_y)\n",
    "casesBrazil_predict_lin = pd.concat([casesBrazil_transposed_with_cases, dfPredictBraziLin])\n",
    "\n",
    "casesBrazil_transposed_with_cases\n",
    "dfPredictBraziSvr = pd.DataFrame(predict_svr, columns=['cases'], index=labels_y)\n",
    "casesBrazil_predict_svr = pd.concat([casesBrazil_transposed_with_cases, dfPredictBraziSvr])"
   ]
  },
  {
   "cell_type": "code",
   "execution_count": 237,
   "metadata": {},
   "outputs": [
    {
     "data": {
      "text/plain": [
       "<matplotlib.legend.Legend at 0x7f3a224aa780>"
      ]
     },
     "execution_count": 237,
     "metadata": {},
     "output_type": "execute_result"
    },
    {
     "data": {
      "image/png": "[encoded data removed]",
      "text/plain": [
       "<matplotlib.figure.Figure at 0x7f3a2256b5c0>"
      ]
     },
     "metadata": {
      "needs_background": "light"
     },
     "output_type": "display_data"
    }
   ],
   "source": [
    "fig, ax = plt.subplots()\n",
    "plt.plot(np.array(casesBrazil_predict_lin['cases']), label = 'Pessimistic')\n",
    "plt.plot(np.array(casesBrazil_predict_svr['cases']), label = 'Optimistic')\n",
    "plt.plot(np.array(casesItaly_transposed_with_values['cases']), label = 'Italy')\n",
    "sizefactor = 2.8 #Set a zoom factor\n",
    "# Modify the current size by the factor\n",
    "fig_size = plt.gcf().get_size_inches() \n",
    "plt.gcf().set_size_inches(sizefactor * fig_size)\n",
    "plt.title('Predict Cases COVID-19 in Brazil from Day 0 to 04/04/20')\n",
    "plt.legend()"
   ]
  },
  {
   "cell_type": "code",
   "execution_count": 238,
   "metadata": {},
   "outputs": [],
   "source": [
    "predict_svr_reshaped = []\n",
    "for item in predict_svr:\n",
    "    predict_svr_reshaped.append(item[0])\n",
    "    \n",
    "predict_lin_reshaped = []\n",
    "for item in predict_lin:\n",
    "    predict_lin_reshaped.append(item[0])\n",
    "    \n",
    "predict_huber_reshaped = []\n",
    "for item in predict_huber:\n",
    "    predict_huber_reshaped.append(item[0])\n",
    "    \n",
    "predict_ransa_reshaped = []\n",
    "for item in predict_ransa:\n",
    "    predict_ransa_reshaped.append(item[0])"
   ]
  },
  {
   "cell_type": "code",
   "execution_count": 239,
   "metadata": {},
   "outputs": [],
   "source": [
    "labels_y =['27/03/2020', '28/03/2020', '29/03/2020', '30/03/2020', '31/03/2020','01/04/2020', '02/04/2020']"
   ]
  },
  {
   "cell_type": "code",
   "execution_count": 240,
   "metadata": {},
   "outputs": [],
   "source": [
    "predict_svr_reshaped = predict_svr_reshaped[:7]\n",
    "predict_lin_reshaped = predict_lin_reshaped[:7]\n",
    "predict_huber_reshaped = predict_huber_reshaped[:7]\n",
    "predict_ransa_reshaped = predict_ransa_reshaped[:7]"
   ]
  },
  {
   "cell_type": "code",
   "execution_count": 241,
   "metadata": {},
   "outputs": [
    {
     "data": {
      "text/plain": [
       "[2985.0,\n",
       " 3530.6640075080422,\n",
       " 4174.178547355117,\n",
       " 4933.090546857832,\n",
       " 5828.093514663466,\n",
       " 6883.5917976077,\n",
       " 8128.366022244874]"
      ]
     },
     "execution_count": 241,
     "metadata": {},
     "output_type": "execute_result"
    }
   ],
   "source": [
    "predict_ransa_reshaped"
   ]
  },
  {
   "cell_type": "code",
   "execution_count": 242,
   "metadata": {},
   "outputs": [],
   "source": [
    "dfPredictBraziSvr = pd.DataFrame(predict_svr_reshaped, columns=['cases'], index=labels_y)\n",
    "casesBrazil_predict_svr = pd.concat([casesBrazil_transposed_with_cases, dfPredictBraziSvr])\n",
    "\n",
    "dfPredictBraziLin = pd.DataFrame(predict_lin_reshaped, columns=['cases'], index=labels_y)\n",
    "casesBrazil_predict_svr = pd.concat([casesBrazil_transposed_with_cases, dfPredictBraziLin])\n",
    "\n",
    "dfPredictBraziHuber = pd.DataFrame(predict_huber_reshaped, columns=['cases'], index=labels_y)\n",
    "casesBrazil_predict_svr = pd.concat([casesBrazil_transposed_with_cases, dfPredictBraziHuber])\n",
    "\n",
    "dfPredictBraziRansa = pd.DataFrame(predict_ransa_reshaped, columns=['cases'], index=labels_y)\n",
    "casesBrazil_predict_ransa = pd.concat([casesBrazil_transposed_with_cases, dfPredictBraziRansa])"
   ]
  },
  {
   "cell_type": "code",
   "execution_count": 244,
   "metadata": {},
   "outputs": [
    {
     "data": {
      "text/plain": [
       "<matplotlib.legend.Legend at 0x7f3a20b33d68>"
      ]
     },
     "execution_count": 244,
     "metadata": {},
     "output_type": "execute_result"
    },
    {
     "data": {
      "image/png": "[encoded data removed]",
      "text/plain": [
       "<matplotlib.figure.Figure at 0x7f3a22372cf8>"
      ]
     },
     "metadata": {
      "needs_background": "light"
     },
     "output_type": "display_data"
    }
   ],
   "source": [
    "fig, ax = plt.subplots()\n",
    "plt.plot(np.array(dfPredictBraziSvr['cases'].values), label = 'Optimistic')\n",
    "plt.plot(np.array(dfPredictBraziLin['cases'].values), label = 'Pessimistic')\n",
    "plt.plot(np.array(dfPredictBraziHuber['cases'].values), label = 'Intermediate Optimistic')\n",
    "plt.plot(np.array(dfPredictBraziRansa['cases'].values), label = 'Intermediate Pessimistic')\n",
    "sizefactor = 2.8 #Set a zoom factor\n",
    "# Modify the current size by the factor\n",
    "labels =['26/03/2020', '27/03/2020', '28/03/2020', '29/03/2020', '30/03/2020', '31/03/2020','01/04/2020', '02/04/2020']\n",
    "ax.set_xticklabels(labels)\n",
    "ax = plt.gca()\n",
    "for i, txt in enumerate(dfPredictBraziRansa['cases'].values):\n",
    "    ax.annotate(int(dfPredictBraziRansa['cases'].values[i]), (i, dfPredictBraziRansa['cases'].values[i]))\n",
    "plt.gcf().set_size_inches(sizefactor * fig_size)\n",
    "plt.title('Predict Cases COVID-19 in Brazil x Day')\n",
    "plt.legend()"
   ]
  },
  {
   "cell_type": "code",
   "execution_count": 248,
   "metadata": {},
   "outputs": [
    {
     "data": {
      "text/plain": [
       "<matplotlib.legend.Legend at 0x7f3a209d7828>"
      ]
     },
     "execution_count": 248,
     "metadata": {},
     "output_type": "execute_result"
    },
    {
     "data": {
      "image/png": "[encoded data removed]",
      "text/plain": [
       "<matplotlib.figure.Figure at 0x7f3a20a49048>"
      ]
     },
     "metadata": {
      "needs_background": "light"
     },
     "output_type": "display_data"
    }
   ],
   "source": [
    "fig, ax = plt.subplots()\n",
    "predict_lin_reshaped = predict_lin_reshaped[1:]\n",
    "plt.plot(np.array(predict_lin_reshaped), label = 'Regressão Linear')\n",
    "# Modify the current size by the factor\n",
    "plt.title('Predict Cases COVID-19 in Brazil x Day')\n",
    "plt.legend()"
   ]
  },
  {
   "cell_type": "code",
   "execution_count": 458,
   "metadata": {},
   "outputs": [
    {
     "name": "stdout",
     "output_type": "stream",
     "text": [
      "[16.871390496564093, 16.86453473927728, 16.858670715116812, 16.853654418706043, 16.84936288834077, 16.84569111304486]\n"
     ]
    }
   ],
   "source": [
    "percentByDayBrazilPredict = []\n",
    "Y = dfPredictBraziSvr['cases'].values\n",
    "for i in range(0, len(Y)-1):\n",
    "    if(Y[i] > 509):\n",
    "        percent = 100/Y[i]\n",
    "        percent = (Y[i+1] - Y[i]) * percent\n",
    "        percentByDayBrazilPredict.append(percent)\n",
    "print(percentByDayBrazilPredict)"
   ]
  },
  {
   "cell_type": "code",
   "execution_count": 460,
   "metadata": {},
   "outputs": [
    {
     "data": {
      "text/plain": [
       "<matplotlib.legend.Legend at 0x7f2c18c63e10>"
      ]
     },
     "execution_count": 460,
     "metadata": {},
     "output_type": "execute_result"
    },
    {
     "data": {
      "image/png": "[encoded data removed]",
      "text/plain": [
       "<matplotlib.figure.Figure at 0x7f2c18c95048>"
      ]
     },
     "metadata": {
      "needs_background": "light"
     },
     "output_type": "display_data"
    }
   ],
   "source": [
    "fig, ax = plt.subplots()\n",
    "plt.plot(np.array(percentByDayBrazilPredict), label = 'Brasil')\n",
    "plt.title('Porcentagem prevista de novos casos por dia no Brasil no cenário positivo')\n",
    "ax = plt.gca()\n",
    "for i, txt in enumerate(percentByDayBrazilPredict):\n",
    "    ax.annotate(str(round(percentByDayBrazilPredict[i],3)) + '%', (i, percentByDayBrazilPredict[i]))\n",
    "    \n",
    "labels =['26/03/2020', '27/03/2020', '28/03/2020', '29/03/2020', '30/03/2020', '31/03/2020','01/04/2020', '02/04/2020']\n",
    "ax.set_xticklabels(labels)\n",
    "\n",
    "plt.yticks([],\"\")\n",
    "\n",
    "fig_size = plt.gcf().get_size_inches() \n",
    "plt.gcf().set_size_inches(sizefactor * fig_size)\n",
    "plt.legend()"
   ]
  },
  {
   "cell_type": "code",
   "execution_count": 249,
   "metadata": {},
   "outputs": [],
   "source": [
    "X_reshape = X_b.reshape(-1, 1)\n",
    "reg = LinearRegression().fit(X_reshape, Y)"
   ]
  },
  {
   "cell_type": "code",
   "execution_count": 250,
   "metadata": {},
   "outputs": [],
   "source": [
    "predict_lin = []\n",
    "predict_lin = np.array([[2985]])\n",
    "for i in range(0, 15):\n",
    "    result = reg.predict([predict_lin[i]])\n",
    "    predict_lin = np.concatenate((predict_lin, np.array([result])))"
   ]
  },
  {
   "cell_type": "code",
   "execution_count": 252,
   "metadata": {},
   "outputs": [],
   "source": [
    "line_X = np.arange(X_reshape.min(), X_reshape.max())[:, np.newaxis]\n",
    "line_y = reg.predict(line_X)"
   ]
  },
  {
   "cell_type": "code",
   "execution_count": 253,
   "metadata": {},
   "outputs": [
    {
     "data": {
      "image/png": "[encoded data removed]",
      "text/plain": [
       "<matplotlib.figure.Figure at 0x7f3a209e2f28>"
      ]
     },
     "metadata": {
      "needs_background": "light"
     },
     "output_type": "display_data"
    }
   ],
   "source": [
    "lw = 2\n",
    "plt.plot(line_X, line_y, color='navy', linewidth=lw, label='Linear regressor')\n",
    "plt.legend(loc='lower right')\n",
    "plt.xlabel(\"Input\")\n",
    "plt.ylabel(\"Response\")\n",
    "plt.show()"
   ]
  },
  {
   "cell_type": "code",
   "execution_count": null,
   "metadata": {},
   "outputs": [],
   "source": []
  }
 ],
 "metadata": {
  "kernelspec": {
   "display_name": "Python 3",
   "language": "python",
   "name": "python3"
  },
  "language_info": {
   "codemirror_mode": {
    "name": "ipython",
    "version": 3
   },
   "file_extension": ".py",
   "mimetype": "text/x-python",
   "name": "python",
   "nbconvert_exporter": "python",
   "pygments_lexer": "ipython3",
   "version": "3.6.9"
  }
 },
 "nbformat": 4,
 "nbformat_minor": 2
}
