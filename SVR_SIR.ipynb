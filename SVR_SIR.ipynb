{
 "cells": [
  {
   "cell_type": "code",
   "execution_count": 2,
   "metadata": {},
   "outputs": [],
   "source": [
    "## Import Libraries\n",
    "import numpy as np\n",
    "import pandas as pd\n",
    "import matplotlib.pyplot as plt\n",
    "import sklearn"
   ]
  },
  {
   "cell_type": "code",
   "execution_count": 3,
   "metadata": {},
   "outputs": [
    {
     "data": {
      "text/html": [
       "<div>\n",
       "<style scoped>\n",
       "    .dataframe tbody tr th:only-of-type {\n",
       "        vertical-align: middle;\n",
       "    }\n",
       "\n",
       "    .dataframe tbody tr th {\n",
       "        vertical-align: top;\n",
       "    }\n",
       "\n",
       "    .dataframe thead th {\n",
       "        text-align: right;\n",
       "    }\n",
       "</style>\n",
       "<table border=\"1\" class=\"dataframe\">\n",
       "  <thead>\n",
       "    <tr style=\"text-align: right;\">\n",
       "      <th></th>\n",
       "      <th>Province/State</th>\n",
       "      <th>Country/Region</th>\n",
       "      <th>Lat</th>\n",
       "      <th>Long</th>\n",
       "      <th>1/22/20</th>\n",
       "      <th>1/23/20</th>\n",
       "      <th>1/24/20</th>\n",
       "      <th>1/25/20</th>\n",
       "      <th>1/26/20</th>\n",
       "      <th>1/27/20</th>\n",
       "      <th>...</th>\n",
       "      <th>6/22/20</th>\n",
       "      <th>6/23/20</th>\n",
       "      <th>6/24/20</th>\n",
       "      <th>6/25/20</th>\n",
       "      <th>6/26/20</th>\n",
       "      <th>6/27/20</th>\n",
       "      <th>6/28/20</th>\n",
       "      <th>6/29/20</th>\n",
       "      <th>6/30/20</th>\n",
       "      <th>7/1/20</th>\n",
       "    </tr>\n",
       "  </thead>\n",
       "  <tbody>\n",
       "    <tr>\n",
       "      <th>0</th>\n",
       "      <td>NaN</td>\n",
       "      <td>Afghanistan</td>\n",
       "      <td>33.0000</td>\n",
       "      <td>65.0000</td>\n",
       "      <td>0</td>\n",
       "      <td>0</td>\n",
       "      <td>0</td>\n",
       "      <td>0</td>\n",
       "      <td>0</td>\n",
       "      <td>0</td>\n",
       "      <td>...</td>\n",
       "      <td>29157</td>\n",
       "      <td>29481</td>\n",
       "      <td>29640</td>\n",
       "      <td>30175</td>\n",
       "      <td>30451</td>\n",
       "      <td>30616</td>\n",
       "      <td>30967</td>\n",
       "      <td>31238</td>\n",
       "      <td>31517</td>\n",
       "      <td>31836</td>\n",
       "    </tr>\n",
       "    <tr>\n",
       "      <th>1</th>\n",
       "      <td>NaN</td>\n",
       "      <td>Albania</td>\n",
       "      <td>41.1533</td>\n",
       "      <td>20.1683</td>\n",
       "      <td>0</td>\n",
       "      <td>0</td>\n",
       "      <td>0</td>\n",
       "      <td>0</td>\n",
       "      <td>0</td>\n",
       "      <td>0</td>\n",
       "      <td>...</td>\n",
       "      <td>1995</td>\n",
       "      <td>2047</td>\n",
       "      <td>2114</td>\n",
       "      <td>2192</td>\n",
       "      <td>2269</td>\n",
       "      <td>2330</td>\n",
       "      <td>2402</td>\n",
       "      <td>2466</td>\n",
       "      <td>2535</td>\n",
       "      <td>2580</td>\n",
       "    </tr>\n",
       "    <tr>\n",
       "      <th>2</th>\n",
       "      <td>NaN</td>\n",
       "      <td>Algeria</td>\n",
       "      <td>28.0339</td>\n",
       "      <td>1.6596</td>\n",
       "      <td>0</td>\n",
       "      <td>0</td>\n",
       "      <td>0</td>\n",
       "      <td>0</td>\n",
       "      <td>0</td>\n",
       "      <td>0</td>\n",
       "      <td>...</td>\n",
       "      <td>11920</td>\n",
       "      <td>12076</td>\n",
       "      <td>12248</td>\n",
       "      <td>12445</td>\n",
       "      <td>12685</td>\n",
       "      <td>12968</td>\n",
       "      <td>13273</td>\n",
       "      <td>13571</td>\n",
       "      <td>13907</td>\n",
       "      <td>14272</td>\n",
       "    </tr>\n",
       "    <tr>\n",
       "      <th>3</th>\n",
       "      <td>NaN</td>\n",
       "      <td>Andorra</td>\n",
       "      <td>42.5063</td>\n",
       "      <td>1.5218</td>\n",
       "      <td>0</td>\n",
       "      <td>0</td>\n",
       "      <td>0</td>\n",
       "      <td>0</td>\n",
       "      <td>0</td>\n",
       "      <td>0</td>\n",
       "      <td>...</td>\n",
       "      <td>855</td>\n",
       "      <td>855</td>\n",
       "      <td>855</td>\n",
       "      <td>855</td>\n",
       "      <td>855</td>\n",
       "      <td>855</td>\n",
       "      <td>855</td>\n",
       "      <td>855</td>\n",
       "      <td>855</td>\n",
       "      <td>855</td>\n",
       "    </tr>\n",
       "    <tr>\n",
       "      <th>4</th>\n",
       "      <td>NaN</td>\n",
       "      <td>Angola</td>\n",
       "      <td>-11.2027</td>\n",
       "      <td>17.8739</td>\n",
       "      <td>0</td>\n",
       "      <td>0</td>\n",
       "      <td>0</td>\n",
       "      <td>0</td>\n",
       "      <td>0</td>\n",
       "      <td>0</td>\n",
       "      <td>...</td>\n",
       "      <td>186</td>\n",
       "      <td>189</td>\n",
       "      <td>197</td>\n",
       "      <td>212</td>\n",
       "      <td>212</td>\n",
       "      <td>259</td>\n",
       "      <td>267</td>\n",
       "      <td>276</td>\n",
       "      <td>284</td>\n",
       "      <td>291</td>\n",
       "    </tr>\n",
       "    <tr>\n",
       "      <th>...</th>\n",
       "      <td>...</td>\n",
       "      <td>...</td>\n",
       "      <td>...</td>\n",
       "      <td>...</td>\n",
       "      <td>...</td>\n",
       "      <td>...</td>\n",
       "      <td>...</td>\n",
       "      <td>...</td>\n",
       "      <td>...</td>\n",
       "      <td>...</td>\n",
       "      <td>...</td>\n",
       "      <td>...</td>\n",
       "      <td>...</td>\n",
       "      <td>...</td>\n",
       "      <td>...</td>\n",
       "      <td>...</td>\n",
       "      <td>...</td>\n",
       "      <td>...</td>\n",
       "      <td>...</td>\n",
       "      <td>...</td>\n",
       "      <td>...</td>\n",
       "    </tr>\n",
       "    <tr>\n",
       "      <th>95</th>\n",
       "      <td>NaN</td>\n",
       "      <td>Djibouti</td>\n",
       "      <td>11.8251</td>\n",
       "      <td>42.5903</td>\n",
       "      <td>0</td>\n",
       "      <td>0</td>\n",
       "      <td>0</td>\n",
       "      <td>0</td>\n",
       "      <td>0</td>\n",
       "      <td>0</td>\n",
       "      <td>...</td>\n",
       "      <td>4599</td>\n",
       "      <td>4617</td>\n",
       "      <td>4630</td>\n",
       "      <td>4635</td>\n",
       "      <td>4643</td>\n",
       "      <td>4643</td>\n",
       "      <td>4643</td>\n",
       "      <td>4656</td>\n",
       "      <td>4682</td>\n",
       "      <td>4704</td>\n",
       "    </tr>\n",
       "    <tr>\n",
       "      <th>96</th>\n",
       "      <td>NaN</td>\n",
       "      <td>Dominican Republic</td>\n",
       "      <td>18.7357</td>\n",
       "      <td>-70.1627</td>\n",
       "      <td>0</td>\n",
       "      <td>0</td>\n",
       "      <td>0</td>\n",
       "      <td>0</td>\n",
       "      <td>0</td>\n",
       "      <td>0</td>\n",
       "      <td>...</td>\n",
       "      <td>27370</td>\n",
       "      <td>27936</td>\n",
       "      <td>28631</td>\n",
       "      <td>29141</td>\n",
       "      <td>29764</td>\n",
       "      <td>30619</td>\n",
       "      <td>31373</td>\n",
       "      <td>31816</td>\n",
       "      <td>32568</td>\n",
       "      <td>33387</td>\n",
       "    </tr>\n",
       "    <tr>\n",
       "      <th>97</th>\n",
       "      <td>NaN</td>\n",
       "      <td>Ecuador</td>\n",
       "      <td>-1.8312</td>\n",
       "      <td>-78.1834</td>\n",
       "      <td>0</td>\n",
       "      <td>0</td>\n",
       "      <td>0</td>\n",
       "      <td>0</td>\n",
       "      <td>0</td>\n",
       "      <td>0</td>\n",
       "      <td>...</td>\n",
       "      <td>50640</td>\n",
       "      <td>51643</td>\n",
       "      <td>51643</td>\n",
       "      <td>53156</td>\n",
       "      <td>53856</td>\n",
       "      <td>54574</td>\n",
       "      <td>55255</td>\n",
       "      <td>55665</td>\n",
       "      <td>56432</td>\n",
       "      <td>58257</td>\n",
       "    </tr>\n",
       "    <tr>\n",
       "      <th>98</th>\n",
       "      <td>NaN</td>\n",
       "      <td>Egypt</td>\n",
       "      <td>26.0000</td>\n",
       "      <td>30.0000</td>\n",
       "      <td>0</td>\n",
       "      <td>0</td>\n",
       "      <td>0</td>\n",
       "      <td>0</td>\n",
       "      <td>0</td>\n",
       "      <td>0</td>\n",
       "      <td>...</td>\n",
       "      <td>56809</td>\n",
       "      <td>58141</td>\n",
       "      <td>59561</td>\n",
       "      <td>61130</td>\n",
       "      <td>62755</td>\n",
       "      <td>63923</td>\n",
       "      <td>65188</td>\n",
       "      <td>66754</td>\n",
       "      <td>68311</td>\n",
       "      <td>69814</td>\n",
       "    </tr>\n",
       "    <tr>\n",
       "      <th>99</th>\n",
       "      <td>NaN</td>\n",
       "      <td>El Salvador</td>\n",
       "      <td>13.7942</td>\n",
       "      <td>-88.8965</td>\n",
       "      <td>0</td>\n",
       "      <td>0</td>\n",
       "      <td>0</td>\n",
       "      <td>0</td>\n",
       "      <td>0</td>\n",
       "      <td>0</td>\n",
       "      <td>...</td>\n",
       "      <td>4808</td>\n",
       "      <td>4973</td>\n",
       "      <td>5150</td>\n",
       "      <td>5336</td>\n",
       "      <td>5517</td>\n",
       "      <td>5727</td>\n",
       "      <td>5934</td>\n",
       "      <td>6173</td>\n",
       "      <td>6438</td>\n",
       "      <td>6736</td>\n",
       "    </tr>\n",
       "  </tbody>\n",
       "</table>\n",
       "<p>100 rows × 166 columns</p>\n",
       "</div>"
      ],
      "text/plain": [
       "   Province/State      Country/Region      Lat     Long  1/22/20  1/23/20  \\\n",
       "0             NaN         Afghanistan  33.0000  65.0000        0        0   \n",
       "1             NaN             Albania  41.1533  20.1683        0        0   \n",
       "2             NaN             Algeria  28.0339   1.6596        0        0   \n",
       "3             NaN             Andorra  42.5063   1.5218        0        0   \n",
       "4             NaN              Angola -11.2027  17.8739        0        0   \n",
       "..            ...                 ...      ...      ...      ...      ...   \n",
       "95            NaN            Djibouti  11.8251  42.5903        0        0   \n",
       "96            NaN  Dominican Republic  18.7357 -70.1627        0        0   \n",
       "97            NaN             Ecuador  -1.8312 -78.1834        0        0   \n",
       "98            NaN               Egypt  26.0000  30.0000        0        0   \n",
       "99            NaN         El Salvador  13.7942 -88.8965        0        0   \n",
       "\n",
       "    1/24/20  1/25/20  1/26/20  1/27/20  ...  6/22/20  6/23/20  6/24/20  \\\n",
       "0         0        0        0        0  ...    29157    29481    29640   \n",
       "1         0        0        0        0  ...     1995     2047     2114   \n",
       "2         0        0        0        0  ...    11920    12076    12248   \n",
       "3         0        0        0        0  ...      855      855      855   \n",
       "4         0        0        0        0  ...      186      189      197   \n",
       "..      ...      ...      ...      ...  ...      ...      ...      ...   \n",
       "95        0        0        0        0  ...     4599     4617     4630   \n",
       "96        0        0        0        0  ...    27370    27936    28631   \n",
       "97        0        0        0        0  ...    50640    51643    51643   \n",
       "98        0        0        0        0  ...    56809    58141    59561   \n",
       "99        0        0        0        0  ...     4808     4973     5150   \n",
       "\n",
       "    6/25/20  6/26/20  6/27/20  6/28/20  6/29/20  6/30/20  7/1/20  \n",
       "0     30175    30451    30616    30967    31238    31517   31836  \n",
       "1      2192     2269     2330     2402     2466     2535    2580  \n",
       "2     12445    12685    12968    13273    13571    13907   14272  \n",
       "3       855      855      855      855      855      855     855  \n",
       "4       212      212      259      267      276      284     291  \n",
       "..      ...      ...      ...      ...      ...      ...     ...  \n",
       "95     4635     4643     4643     4643     4656     4682    4704  \n",
       "96    29141    29764    30619    31373    31816    32568   33387  \n",
       "97    53156    53856    54574    55255    55665    56432   58257  \n",
       "98    61130    62755    63923    65188    66754    68311   69814  \n",
       "99     5336     5517     5727     5934     6173     6438    6736  \n",
       "\n",
       "[100 rows x 166 columns]"
      ]
     },
     "execution_count": 3,
     "metadata": {},
     "output_type": "execute_result"
    }
   ],
   "source": [
    "## Read Data for Cases, Deaths and Recoveries\n",
    "confirmedCases=pd.read_csv('part-5/time_series_covid19_confirmed_global.csv')\n",
    "confirmedCases.head(100)"
   ]
  },
  {
   "cell_type": "code",
   "execution_count": 4,
   "metadata": {},
   "outputs": [],
   "source": [
    "casesBrazil = confirmedCases.loc[confirmedCases['Country/Region'] == 'Brazil']"
   ]
  },
  {
   "cell_type": "code",
   "execution_count": 5,
   "metadata": {},
   "outputs": [
    {
     "data": {
      "text/html": [
       "<div>\n",
       "<style scoped>\n",
       "    .dataframe tbody tr th:only-of-type {\n",
       "        vertical-align: middle;\n",
       "    }\n",
       "\n",
       "    .dataframe tbody tr th {\n",
       "        vertical-align: top;\n",
       "    }\n",
       "\n",
       "    .dataframe thead th {\n",
       "        text-align: right;\n",
       "    }\n",
       "</style>\n",
       "<table border=\"1\" class=\"dataframe\">\n",
       "  <thead>\n",
       "    <tr style=\"text-align: right;\">\n",
       "      <th></th>\n",
       "      <th>Province/State</th>\n",
       "      <th>Country/Region</th>\n",
       "      <th>Lat</th>\n",
       "      <th>Long</th>\n",
       "      <th>1/22/20</th>\n",
       "      <th>1/23/20</th>\n",
       "      <th>1/24/20</th>\n",
       "      <th>1/25/20</th>\n",
       "      <th>1/26/20</th>\n",
       "      <th>1/27/20</th>\n",
       "      <th>...</th>\n",
       "      <th>6/22/20</th>\n",
       "      <th>6/23/20</th>\n",
       "      <th>6/24/20</th>\n",
       "      <th>6/25/20</th>\n",
       "      <th>6/26/20</th>\n",
       "      <th>6/27/20</th>\n",
       "      <th>6/28/20</th>\n",
       "      <th>6/29/20</th>\n",
       "      <th>6/30/20</th>\n",
       "      <th>7/1/20</th>\n",
       "    </tr>\n",
       "  </thead>\n",
       "  <tbody>\n",
       "    <tr>\n",
       "      <th>28</th>\n",
       "      <td>NaN</td>\n",
       "      <td>Brazil</td>\n",
       "      <td>-14.235</td>\n",
       "      <td>-51.9253</td>\n",
       "      <td>0</td>\n",
       "      <td>0</td>\n",
       "      <td>0</td>\n",
       "      <td>0</td>\n",
       "      <td>0</td>\n",
       "      <td>0</td>\n",
       "      <td>...</td>\n",
       "      <td>1106470</td>\n",
       "      <td>1145906</td>\n",
       "      <td>1188631</td>\n",
       "      <td>1228114</td>\n",
       "      <td>1274974</td>\n",
       "      <td>1313667</td>\n",
       "      <td>1344143</td>\n",
       "      <td>1368195</td>\n",
       "      <td>1402041</td>\n",
       "      <td>1448753</td>\n",
       "    </tr>\n",
       "  </tbody>\n",
       "</table>\n",
       "<p>1 rows × 166 columns</p>\n",
       "</div>"
      ],
      "text/plain": [
       "   Province/State Country/Region     Lat     Long  1/22/20  1/23/20  1/24/20  \\\n",
       "28            NaN         Brazil -14.235 -51.9253        0        0        0   \n",
       "\n",
       "    1/25/20  1/26/20  1/27/20  ...  6/22/20  6/23/20  6/24/20  6/25/20  \\\n",
       "28        0        0        0  ...  1106470  1145906  1188631  1228114   \n",
       "\n",
       "    6/26/20  6/27/20  6/28/20  6/29/20  6/30/20   7/1/20  \n",
       "28  1274974  1313667  1344143  1368195  1402041  1448753  \n",
       "\n",
       "[1 rows x 166 columns]"
      ]
     },
     "execution_count": 5,
     "metadata": {},
     "output_type": "execute_result"
    }
   ],
   "source": [
    "casesBrazil.head()"
   ]
  },
  {
   "cell_type": "code",
   "execution_count": 6,
   "metadata": {},
   "outputs": [
    {
     "name": "stderr",
     "output_type": "stream",
     "text": [
      "<ipython-input-6-4fc35fc61a9c>:1: SettingWithCopyWarning: \n",
      "A value is trying to be set on a copy of a slice from a DataFrame.\n",
      "Try using .loc[row_indexer,col_indexer] = value instead\n",
      "\n",
      "See the caveats in the documentation: https://pandas.pydata.org/pandas-docs/stable/user_guide/indexing.html#returning-a-view-versus-a-copy\n",
      "  casesBrazil['2/25/20'] = 1\n",
      "<ipython-input-6-4fc35fc61a9c>:2: SettingWithCopyWarning: \n",
      "A value is trying to be set on a copy of a slice from a DataFrame.\n",
      "Try using .loc[row_indexer,col_indexer] = value instead\n",
      "\n",
      "See the caveats in the documentation: https://pandas.pydata.org/pandas-docs/stable/user_guide/indexing.html#returning-a-view-versus-a-copy\n",
      "  casesBrazil['2/26/20'] = 1\n",
      "<ipython-input-6-4fc35fc61a9c>:3: SettingWithCopyWarning: \n",
      "A value is trying to be set on a copy of a slice from a DataFrame.\n",
      "Try using .loc[row_indexer,col_indexer] = value instead\n",
      "\n",
      "See the caveats in the documentation: https://pandas.pydata.org/pandas-docs/stable/user_guide/indexing.html#returning-a-view-versus-a-copy\n",
      "  casesBrazil['2/27/20'] = 2\n",
      "<ipython-input-6-4fc35fc61a9c>:4: SettingWithCopyWarning: \n",
      "A value is trying to be set on a copy of a slice from a DataFrame.\n",
      "Try using .loc[row_indexer,col_indexer] = value instead\n",
      "\n",
      "See the caveats in the documentation: https://pandas.pydata.org/pandas-docs/stable/user_guide/indexing.html#returning-a-view-versus-a-copy\n",
      "  casesBrazil['2/28/20'] = 3\n",
      "<ipython-input-6-4fc35fc61a9c>:5: SettingWithCopyWarning: \n",
      "A value is trying to be set on a copy of a slice from a DataFrame.\n",
      "Try using .loc[row_indexer,col_indexer] = value instead\n",
      "\n",
      "See the caveats in the documentation: https://pandas.pydata.org/pandas-docs/stable/user_guide/indexing.html#returning-a-view-versus-a-copy\n",
      "  casesBrazil['2/29/20'] = 4\n",
      "<ipython-input-6-4fc35fc61a9c>:6: SettingWithCopyWarning: \n",
      "A value is trying to be set on a copy of a slice from a DataFrame.\n",
      "Try using .loc[row_indexer,col_indexer] = value instead\n",
      "\n",
      "See the caveats in the documentation: https://pandas.pydata.org/pandas-docs/stable/user_guide/indexing.html#returning-a-view-versus-a-copy\n",
      "  casesBrazil['3/1/20'] = 5\n",
      "<ipython-input-6-4fc35fc61a9c>:7: SettingWithCopyWarning: \n",
      "A value is trying to be set on a copy of a slice from a DataFrame.\n",
      "Try using .loc[row_indexer,col_indexer] = value instead\n",
      "\n",
      "See the caveats in the documentation: https://pandas.pydata.org/pandas-docs/stable/user_guide/indexing.html#returning-a-view-versus-a-copy\n",
      "  casesBrazil['3/2/20'] = 8\n",
      "<ipython-input-6-4fc35fc61a9c>:8: SettingWithCopyWarning: \n",
      "A value is trying to be set on a copy of a slice from a DataFrame.\n",
      "Try using .loc[row_indexer,col_indexer] = value instead\n",
      "\n",
      "See the caveats in the documentation: https://pandas.pydata.org/pandas-docs/stable/user_guide/indexing.html#returning-a-view-versus-a-copy\n",
      "  casesBrazil['3/3/20'] = 10\n",
      "<ipython-input-6-4fc35fc61a9c>:9: SettingWithCopyWarning: \n",
      "A value is trying to be set on a copy of a slice from a DataFrame.\n",
      "Try using .loc[row_indexer,col_indexer] = value instead\n",
      "\n",
      "See the caveats in the documentation: https://pandas.pydata.org/pandas-docs/stable/user_guide/indexing.html#returning-a-view-versus-a-copy\n",
      "  casesBrazil['3/4/20'] = 13\n",
      "<ipython-input-6-4fc35fc61a9c>:10: SettingWithCopyWarning: \n",
      "A value is trying to be set on a copy of a slice from a DataFrame.\n",
      "Try using .loc[row_indexer,col_indexer] = value instead\n",
      "\n",
      "See the caveats in the documentation: https://pandas.pydata.org/pandas-docs/stable/user_guide/indexing.html#returning-a-view-versus-a-copy\n",
      "  casesBrazil['3/5/20'] = 25\n",
      "<ipython-input-6-4fc35fc61a9c>:11: SettingWithCopyWarning: \n",
      "A value is trying to be set on a copy of a slice from a DataFrame.\n",
      "Try using .loc[row_indexer,col_indexer] = value instead\n",
      "\n",
      "See the caveats in the documentation: https://pandas.pydata.org/pandas-docs/stable/user_guide/indexing.html#returning-a-view-versus-a-copy\n",
      "  casesBrazil['3/6/20'] = 28\n",
      "<ipython-input-6-4fc35fc61a9c>:12: SettingWithCopyWarning: \n",
      "A value is trying to be set on a copy of a slice from a DataFrame.\n",
      "Try using .loc[row_indexer,col_indexer] = value instead\n",
      "\n",
      "See the caveats in the documentation: https://pandas.pydata.org/pandas-docs/stable/user_guide/indexing.html#returning-a-view-versus-a-copy\n",
      "  casesBrazil['3/7/20'] = 31\n",
      "<ipython-input-6-4fc35fc61a9c>:13: SettingWithCopyWarning: \n",
      "A value is trying to be set on a copy of a slice from a DataFrame.\n",
      "Try using .loc[row_indexer,col_indexer] = value instead\n",
      "\n",
      "See the caveats in the documentation: https://pandas.pydata.org/pandas-docs/stable/user_guide/indexing.html#returning-a-view-versus-a-copy\n",
      "  casesBrazil['3/8/20'] = 34\n",
      "<ipython-input-6-4fc35fc61a9c>:14: SettingWithCopyWarning: \n",
      "A value is trying to be set on a copy of a slice from a DataFrame.\n",
      "Try using .loc[row_indexer,col_indexer] = value instead\n",
      "\n",
      "See the caveats in the documentation: https://pandas.pydata.org/pandas-docs/stable/user_guide/indexing.html#returning-a-view-versus-a-copy\n",
      "  casesBrazil['3/9/20'] = 42\n",
      "<ipython-input-6-4fc35fc61a9c>:15: SettingWithCopyWarning: \n",
      "A value is trying to be set on a copy of a slice from a DataFrame.\n",
      "Try using .loc[row_indexer,col_indexer] = value instead\n",
      "\n",
      "See the caveats in the documentation: https://pandas.pydata.org/pandas-docs/stable/user_guide/indexing.html#returning-a-view-versus-a-copy\n",
      "  casesBrazil['3/10/20'] = 52\n",
      "<ipython-input-6-4fc35fc61a9c>:16: SettingWithCopyWarning: \n",
      "A value is trying to be set on a copy of a slice from a DataFrame.\n",
      "Try using .loc[row_indexer,col_indexer] = value instead\n",
      "\n",
      "See the caveats in the documentation: https://pandas.pydata.org/pandas-docs/stable/user_guide/indexing.html#returning-a-view-versus-a-copy\n",
      "  casesBrazil['3/11/20'] = 77\n",
      "<ipython-input-6-4fc35fc61a9c>:17: SettingWithCopyWarning: \n",
      "A value is trying to be set on a copy of a slice from a DataFrame.\n",
      "Try using .loc[row_indexer,col_indexer] = value instead\n",
      "\n",
      "See the caveats in the documentation: https://pandas.pydata.org/pandas-docs/stable/user_guide/indexing.html#returning-a-view-versus-a-copy\n",
      "  casesBrazil['3/12/20'] = 120\n",
      "<ipython-input-6-4fc35fc61a9c>:18: SettingWithCopyWarning: \n",
      "A value is trying to be set on a copy of a slice from a DataFrame.\n",
      "Try using .loc[row_indexer,col_indexer] = value instead\n",
      "\n",
      "See the caveats in the documentation: https://pandas.pydata.org/pandas-docs/stable/user_guide/indexing.html#returning-a-view-versus-a-copy\n",
      "  casesBrazil['3/13/20'] = 150\n",
      "<ipython-input-6-4fc35fc61a9c>:19: SettingWithCopyWarning: \n",
      "A value is trying to be set on a copy of a slice from a DataFrame.\n",
      "Try using .loc[row_indexer,col_indexer] = value instead\n",
      "\n",
      "See the caveats in the documentation: https://pandas.pydata.org/pandas-docs/stable/user_guide/indexing.html#returning-a-view-versus-a-copy\n",
      "  casesBrazil['3/14/20'] = 180\n",
      "<ipython-input-6-4fc35fc61a9c>:20: SettingWithCopyWarning: \n",
      "A value is trying to be set on a copy of a slice from a DataFrame.\n",
      "Try using .loc[row_indexer,col_indexer] = value instead\n",
      "\n",
      "See the caveats in the documentation: https://pandas.pydata.org/pandas-docs/stable/user_guide/indexing.html#returning-a-view-versus-a-copy\n",
      "  casesBrazil['3/15/20'] = 200\n",
      "<ipython-input-6-4fc35fc61a9c>:21: SettingWithCopyWarning: \n",
      "A value is trying to be set on a copy of a slice from a DataFrame.\n",
      "Try using .loc[row_indexer,col_indexer] = value instead\n",
      "\n",
      "See the caveats in the documentation: https://pandas.pydata.org/pandas-docs/stable/user_guide/indexing.html#returning-a-view-versus-a-copy\n",
      "  casesBrazil['3/16/20'] = 234\n",
      "<ipython-input-6-4fc35fc61a9c>:22: SettingWithCopyWarning: \n",
      "A value is trying to be set on a copy of a slice from a DataFrame.\n",
      "Try using .loc[row_indexer,col_indexer] = value instead\n",
      "\n",
      "See the caveats in the documentation: https://pandas.pydata.org/pandas-docs/stable/user_guide/indexing.html#returning-a-view-versus-a-copy\n",
      "  casesBrazil['3/17/20'] = 346\n",
      "<ipython-input-6-4fc35fc61a9c>:23: SettingWithCopyWarning: \n",
      "A value is trying to be set on a copy of a slice from a DataFrame.\n",
      "Try using .loc[row_indexer,col_indexer] = value instead\n",
      "\n",
      "See the caveats in the documentation: https://pandas.pydata.org/pandas-docs/stable/user_guide/indexing.html#returning-a-view-versus-a-copy\n",
      "  casesBrazil['3/18/20'] = 509\n",
      "<ipython-input-6-4fc35fc61a9c>:24: SettingWithCopyWarning: \n",
      "A value is trying to be set on a copy of a slice from a DataFrame.\n",
      "Try using .loc[row_indexer,col_indexer] = value instead\n",
      "\n",
      "See the caveats in the documentation: https://pandas.pydata.org/pandas-docs/stable/user_guide/indexing.html#returning-a-view-versus-a-copy\n",
      "  casesBrazil['3/19/20'] = 621\n",
      "<ipython-input-6-4fc35fc61a9c>:25: SettingWithCopyWarning: \n",
      "A value is trying to be set on a copy of a slice from a DataFrame.\n",
      "Try using .loc[row_indexer,col_indexer] = value instead\n",
      "\n",
      "See the caveats in the documentation: https://pandas.pydata.org/pandas-docs/stable/user_guide/indexing.html#returning-a-view-versus-a-copy\n",
      "  casesBrazil['3/20/20'] = 793\n",
      "<ipython-input-6-4fc35fc61a9c>:26: SettingWithCopyWarning: \n",
      "A value is trying to be set on a copy of a slice from a DataFrame.\n",
      "Try using .loc[row_indexer,col_indexer] = value instead\n",
      "\n",
      "See the caveats in the documentation: https://pandas.pydata.org/pandas-docs/stable/user_guide/indexing.html#returning-a-view-versus-a-copy\n",
      "  casesBrazil['3/21/20'] = 1021\n",
      "<ipython-input-6-4fc35fc61a9c>:27: SettingWithCopyWarning: \n",
      "A value is trying to be set on a copy of a slice from a DataFrame.\n",
      "Try using .loc[row_indexer,col_indexer] = value instead\n",
      "\n",
      "See the caveats in the documentation: https://pandas.pydata.org/pandas-docs/stable/user_guide/indexing.html#returning-a-view-versus-a-copy\n",
      "  casesBrazil['3/22/20'] = 1593\n",
      "<ipython-input-6-4fc35fc61a9c>:28: SettingWithCopyWarning: \n",
      "A value is trying to be set on a copy of a slice from a DataFrame.\n",
      "Try using .loc[row_indexer,col_indexer] = value instead\n",
      "\n",
      "See the caveats in the documentation: https://pandas.pydata.org/pandas-docs/stable/user_guide/indexing.html#returning-a-view-versus-a-copy\n",
      "  casesBrazil['3/23/20'] = 1924\n",
      "<ipython-input-6-4fc35fc61a9c>:29: SettingWithCopyWarning: \n",
      "A value is trying to be set on a copy of a slice from a DataFrame.\n",
      "Try using .loc[row_indexer,col_indexer] = value instead\n",
      "\n",
      "See the caveats in the documentation: https://pandas.pydata.org/pandas-docs/stable/user_guide/indexing.html#returning-a-view-versus-a-copy\n",
      "  casesBrazil['3/24/20'] = 2247\n",
      "<ipython-input-6-4fc35fc61a9c>:30: SettingWithCopyWarning: \n",
      "A value is trying to be set on a copy of a slice from a DataFrame.\n",
      "Try using .loc[row_indexer,col_indexer] = value instead\n",
      "\n",
      "See the caveats in the documentation: https://pandas.pydata.org/pandas-docs/stable/user_guide/indexing.html#returning-a-view-versus-a-copy\n",
      "  casesBrazil['3/25/20'] = 2554\n",
      "<ipython-input-6-4fc35fc61a9c>:31: SettingWithCopyWarning: \n",
      "A value is trying to be set on a copy of a slice from a DataFrame.\n",
      "Try using .loc[row_indexer,col_indexer] = value instead\n",
      "\n",
      "See the caveats in the documentation: https://pandas.pydata.org/pandas-docs/stable/user_guide/indexing.html#returning-a-view-versus-a-copy\n",
      "  casesBrazil['3/26/20'] = 2985\n",
      "<ipython-input-6-4fc35fc61a9c>:32: SettingWithCopyWarning: \n",
      "A value is trying to be set on a copy of a slice from a DataFrame.\n",
      "Try using .loc[row_indexer,col_indexer] = value instead\n",
      "\n",
      "See the caveats in the documentation: https://pandas.pydata.org/pandas-docs/stable/user_guide/indexing.html#returning-a-view-versus-a-copy\n",
      "  casesBrazil['7/2/20'] = 1496858\n"
     ]
    }
   ],
   "source": [
    "casesBrazil['2/25/20'] = 1\n",
    "casesBrazil['2/26/20'] = 1\n",
    "casesBrazil['2/27/20'] = 2\n",
    "casesBrazil['2/28/20'] = 3\n",
    "casesBrazil['2/29/20'] = 4\n",
    "casesBrazil['3/1/20'] = 5\n",
    "casesBrazil['3/2/20'] = 8\n",
    "casesBrazil['3/3/20'] = 10\n",
    "casesBrazil['3/4/20'] = 13\n",
    "casesBrazil['3/5/20'] = 25\n",
    "casesBrazil['3/6/20'] = 28\n",
    "casesBrazil['3/7/20'] = 31\n",
    "casesBrazil['3/8/20'] = 34\n",
    "casesBrazil['3/9/20'] = 42\n",
    "casesBrazil['3/10/20'] = 52\n",
    "casesBrazil['3/11/20'] = 77\n",
    "casesBrazil['3/12/20'] = 120\n",
    "casesBrazil['3/13/20'] = 150\n",
    "casesBrazil['3/14/20'] = 180\n",
    "casesBrazil['3/15/20'] = 200\n",
    "casesBrazil['3/16/20'] = 234\n",
    "casesBrazil['3/17/20'] = 346\n",
    "casesBrazil['3/18/20'] = 509\n",
    "casesBrazil['3/19/20'] = 621\n",
    "casesBrazil['3/20/20'] = 793\n",
    "casesBrazil['3/21/20'] = 1021\n",
    "casesBrazil['3/22/20'] = 1593\n",
    "casesBrazil['3/23/20'] = 1924\n",
    "casesBrazil['3/24/20'] = 2247\n",
    "casesBrazil['3/25/20'] = 2554\n",
    "casesBrazil['3/26/20'] = 2985\n",
    "casesBrazil['7/2/20'] = 1496858"
   ]
  },
  {
   "cell_type": "code",
   "execution_count": 7,
   "metadata": {},
   "outputs": [
    {
     "data": {
      "text/plain": [
       "28    108620\n",
       "Name: 5/4/20, dtype: int64"
      ]
     },
     "execution_count": 7,
     "metadata": {},
     "output_type": "execute_result"
    }
   ],
   "source": [
    "casesBrazil['5/4/20']"
   ]
  },
  {
   "cell_type": "code",
   "execution_count": 8,
   "metadata": {},
   "outputs": [
    {
     "name": "stderr",
     "output_type": "stream",
     "text": [
      "/home/caiquecoelho/.local/lib/python3.8/site-packages/pandas/core/frame.py:4163: SettingWithCopyWarning: \n",
      "A value is trying to be set on a copy of a slice from a DataFrame\n",
      "\n",
      "See the caveats in the documentation: https://pandas.pydata.org/pandas-docs/stable/user_guide/indexing.html#returning-a-view-versus-a-copy\n",
      "  return super().drop(\n"
     ]
    }
   ],
   "source": [
    "casesBrazil.drop(['Province/State', 'Country/Region', 'Lat', 'Long'], axis=1, inplace=True)"
   ]
  },
  {
   "cell_type": "code",
   "execution_count": 9,
   "metadata": {},
   "outputs": [],
   "source": [
    "casesBrazil_transposed = casesBrazil.T\n",
    "casesBrazil_transposed.columns = ['cases']"
   ]
  },
  {
   "cell_type": "code",
   "execution_count": 11,
   "metadata": {},
   "outputs": [],
   "source": [
    "casesBrazil_confirmed_09_15_april = [18092, 19638, 20727, 22192, 23430, 25262, 28320]"
   ]
  },
  {
   "cell_type": "code",
   "execution_count": 12,
   "metadata": {},
   "outputs": [],
   "source": [
    "casesBrazil_transposed_density = casesBrazil_transposed.copy()\n",
    "casesBrazil_transposed_density = casesBrazil_transposed_density[casesBrazil_transposed_density['cases'] > 0]"
   ]
  },
  {
   "cell_type": "code",
   "execution_count": 13,
   "metadata": {},
   "outputs": [
    {
     "data": {
      "text/html": [
       "<div>\n",
       "<style scoped>\n",
       "    .dataframe tbody tr th:only-of-type {\n",
       "        vertical-align: middle;\n",
       "    }\n",
       "\n",
       "    .dataframe tbody tr th {\n",
       "        vertical-align: top;\n",
       "    }\n",
       "\n",
       "    .dataframe thead th {\n",
       "        text-align: right;\n",
       "    }\n",
       "</style>\n",
       "<table border=\"1\" class=\"dataframe\">\n",
       "  <thead>\n",
       "    <tr style=\"text-align: right;\">\n",
       "      <th></th>\n",
       "      <th>cases</th>\n",
       "    </tr>\n",
       "  </thead>\n",
       "  <tbody>\n",
       "    <tr>\n",
       "      <th>2/25/20</th>\n",
       "      <td>1</td>\n",
       "    </tr>\n",
       "    <tr>\n",
       "      <th>2/26/20</th>\n",
       "      <td>1</td>\n",
       "    </tr>\n",
       "    <tr>\n",
       "      <th>2/27/20</th>\n",
       "      <td>2</td>\n",
       "    </tr>\n",
       "    <tr>\n",
       "      <th>2/28/20</th>\n",
       "      <td>3</td>\n",
       "    </tr>\n",
       "    <tr>\n",
       "      <th>2/29/20</th>\n",
       "      <td>4</td>\n",
       "    </tr>\n",
       "  </tbody>\n",
       "</table>\n",
       "</div>"
      ],
      "text/plain": [
       "         cases\n",
       "2/25/20      1\n",
       "2/26/20      1\n",
       "2/27/20      2\n",
       "2/28/20      3\n",
       "2/29/20      4"
      ]
     },
     "execution_count": 13,
     "metadata": {},
     "output_type": "execute_result"
    }
   ],
   "source": [
    "casesBrazil_transposed_density.head(5)"
   ]
  },
  {
   "cell_type": "code",
   "execution_count": 14,
   "metadata": {},
   "outputs": [],
   "source": [
    "casesBrazil_transposed_density = casesBrazil_transposed_density['cases'].apply(lambda x: x/209)"
   ]
  },
  {
   "cell_type": "code",
   "execution_count": 15,
   "metadata": {},
   "outputs": [
    {
     "data": {
      "text/plain": [
       "2/25/20    0.004785\n",
       "2/26/20    0.004785\n",
       "2/27/20    0.009569\n",
       "2/28/20    0.014354\n",
       "2/29/20    0.019139\n",
       "Name: cases, dtype: float64"
      ]
     },
     "execution_count": 15,
     "metadata": {},
     "output_type": "execute_result"
    }
   ],
   "source": [
    "casesBrazil_transposed_density.head()"
   ]
  },
  {
   "cell_type": "code",
   "execution_count": 16,
   "metadata": {},
   "outputs": [],
   "source": [
    "days = casesBrazil_transposed.index.values"
   ]
  },
  {
   "cell_type": "code",
   "execution_count": 17,
   "metadata": {},
   "outputs": [
    {
     "data": {
      "text/plain": [
       "<AxesSubplot:>"
      ]
     },
     "execution_count": 17,
     "metadata": {},
     "output_type": "execute_result"
    },
    {
     "data": {
      "image/png": "[encoded data removed]",
      "text/plain": [
       "<Figure size 432x288 with 1 Axes>"
      ]
     },
     "metadata": {
      "needs_background": "light"
     },
     "output_type": "display_data"
    }
   ],
   "source": [
    "casesBrazil_transposed['cases'].plot()"
   ]
  },
  {
   "cell_type": "code",
   "execution_count": 18,
   "metadata": {},
   "outputs": [],
   "source": [
    "casesBrazil_transposed_with_cases = casesBrazil_transposed[casesBrazil_transposed['cases'] > 0]"
   ]
  },
  {
   "cell_type": "code",
   "execution_count": 20,
   "metadata": {},
   "outputs": [
    {
     "data": {
      "text/plain": [
       "<matplotlib.legend.Legend at 0x7f1e58e1b220>"
      ]
     },
     "execution_count": 20,
     "metadata": {},
     "output_type": "execute_result"
    },
    {
     "data": {
      "image/png": "[encoded data removed]",
      "text/plain": [
       "<Figure size 1209.6x806.4 with 1 Axes>"
      ]
     },
     "metadata": {
      "needs_background": "light"
     },
     "output_type": "display_data"
    }
   ],
   "source": [
    "fig, ax = plt.subplots()\n",
    "plt.plot(np.array(casesBrazil_transposed_with_cases['cases']), label = 'Brasil')\n",
    "sizefactor = 2.8 #Set a zoom factor\n",
    "ax = plt.gca()\n",
    "fig_size = plt.gcf().get_size_inches() \n",
    "\n",
    "plt.gcf().set_size_inches(sizefactor * fig_size)\n",
    "plt.title('Quantidade total de casos no Brasil')\n",
    "plt.legend()"
   ]
  },
  {
   "cell_type": "code",
   "execution_count": 21,
   "metadata": {},
   "outputs": [],
   "source": [
    "Y = np.array(casesBrazil_transposed_with_cases['cases'].values)"
   ]
  },
  {
   "cell_type": "code",
   "execution_count": 22,
   "metadata": {},
   "outputs": [
    {
     "data": {
      "text/plain": [
       "array([      1,       1,       2,       3,       4,       5,       8,\n",
       "            10,      13,      25,      28,      31,      34,      42,\n",
       "            52,      77,     120,     150,     180,     200,     234,\n",
       "           346,     509,     621,     793,    1021,    1593,    1924,\n",
       "          2247,    2554,    2985,    3417,    3904,    4256,    4579,\n",
       "          5717,    6836,    8044,    9056,   10360,   11130,   12161,\n",
       "         14034,   16170,   18092,   19638,   20727,   22192,   23430,\n",
       "         25262,   28320,   30425,   33682,   36658,   38654,   40743,\n",
       "         43079,   45757,   50036,   54043,   59324,   63100,   67446,\n",
       "         73235,   79685,   87187,   92202,   97100,  101826,  108620,\n",
       "        115455,  126611,  135773,  146894,  156061,  162699,  169594,\n",
       "        178214,  190137,  203165,  220291,  233511,  241080,  255368,\n",
       "        271885,  291579,  310087,  330890,  347398,  363211,  374898,\n",
       "        391222,  411821,  438238,  465166,  498440,  514849,  526447,\n",
       "        555383,  584016,  614941,  645771,  672846,  691758,  707412,\n",
       "        739503,  772416,  802828,  828810,  850514,  867624,  888271,\n",
       "        923189,  955377,  978142, 1032913, 1067579, 1083341, 1106470,\n",
       "       1145906, 1188631, 1228114, 1274974, 1313667, 1344143, 1368195,\n",
       "       1402041, 1448753, 1496858])"
      ]
     },
     "execution_count": 22,
     "metadata": {},
     "output_type": "execute_result"
    }
   ],
   "source": [
    "Y"
   ]
  },
  {
   "cell_type": "code",
   "execution_count": 23,
   "metadata": {},
   "outputs": [
    {
     "data": {
      "text/plain": [
       "129"
      ]
     },
     "execution_count": 23,
     "metadata": {},
     "output_type": "execute_result"
    }
   ],
   "source": [
    "len(Y)"
   ]
  },
  {
   "cell_type": "code",
   "execution_count": 24,
   "metadata": {},
   "outputs": [
    {
     "name": "stdout",
     "output_type": "stream",
     "text": [
      "[3.815606694492531, 3.034806984299288, 2.31991821367211, 1.7893929440543157, 2.4737701862673087, 3.331714265132047, 3.3204417868332285]\n"
     ]
    }
   ],
   "source": [
    "# Get percentage new cases in the last 7 days in all Brazil\n",
    "percentByDayBrazil = []\n",
    "for i in range(0, len(Y)-1):\n",
    "    if(i > len(Y)-9):\n",
    "        percent = 100/Y[i]\n",
    "        percent = (Y[i+1] - Y[i]) * percent\n",
    "        percentByDayBrazil.append(percent)\n",
    "print(percentByDayBrazil)"
   ]
  },
  {
   "cell_type": "code",
   "execution_count": 26,
   "metadata": {},
   "outputs": [],
   "source": [
    "percentByDayBrazilTotal = []\n",
    "for i in range(0, len(Y)-1):\n",
    "        percent = 100/Y[i]\n",
    "        percent = (Y[i+1] - Y[i]) * percent\n",
    "        percentByDayBrazilTotal.append(percent)"
   ]
  },
  {
   "cell_type": "code",
   "execution_count": 27,
   "metadata": {},
   "outputs": [],
   "source": [
    "casesByDayBrazilTotal = []\n",
    "for i in range(0, len(Y)-1):\n",
    "        day = Y[i+1] - Y[i]\n",
    "        casesByDayBrazilTotal.append(day)"
   ]
  },
  {
   "cell_type": "code",
   "execution_count": 28,
   "metadata": {},
   "outputs": [],
   "source": [
    "X_b = []\n",
    "X_b.append(0)\n",
    "for index in range(1, len(Y)):\n",
    "    X_b.append(Y[index-1])\n",
    "X_b = np.array(X_b)"
   ]
  },
  {
   "cell_type": "code",
   "execution_count": 29,
   "metadata": {},
   "outputs": [],
   "source": [
    "X_a = []\n",
    "X_a.append(0)\n",
    "for index in range(1, len(Y)):\n",
    "    X_a.append(index)\n",
    "X_a = np.array(X_a)"
   ]
  },
  {
   "cell_type": "code",
   "execution_count": 30,
   "metadata": {},
   "outputs": [],
   "source": [
    "X_2d = []\n",
    "for index in range(0, len(X_a)):\n",
    "    X_2d.append([X_a[index], X_b[index]])"
   ]
  },
  {
   "cell_type": "code",
   "execution_count": 33,
   "metadata": {},
   "outputs": [],
   "source": [
    "X_reshape = X_b.reshape(-1, 1)"
   ]
  },
  {
   "cell_type": "code",
   "execution_count": 34,
   "metadata": {},
   "outputs": [],
   "source": [
    "from sklearn.svm import SVR\n",
    "svr_lin = SVR(kernel='linear').fit(X_reshape, Y) #20111"
   ]
  },
  {
   "cell_type": "code",
   "execution_count": 36,
   "metadata": {},
   "outputs": [
    {
     "data": {
      "text/plain": [
       "array([[1496858],\n",
       "       [1523831],\n",
       "       [1551289],\n",
       "       [1579241],\n",
       "       [1607696],\n",
       "       [1636663],\n",
       "       [1666151],\n",
       "       [1696169],\n",
       "       [1726727],\n",
       "       [1757834],\n",
       "       [1789501],\n",
       "       [1821738],\n",
       "       [1854554],\n",
       "       [1887961],\n",
       "       [1921969]])"
      ]
     },
     "execution_count": 36,
     "metadata": {},
     "output_type": "execute_result"
    }
   ],
   "source": [
    "predict_svr = []\n",
    "predict_svr = np.array([[1496858]])\n",
    "predict_svrT = []\n",
    "predict_svrT = np.array([[1496858]])\n",
    "predict_svr30 = 0\n",
    "predict_svr30 = 0\n",
    "predict_svr280 = np.array([[1496858]])\n",
    "for i in range(0, 14):\n",
    "    result = [int(svr_lin.predict([predict_svr[i]])[0])]\n",
    "    predict_svr = np.concatenate((predict_svr, np.array([result])))\n",
    "for i in range(0, 90):\n",
    "    result = svr_lin.predict([predict_svrT[i]])\n",
    "    predict_svrT = np.concatenate((predict_svrT, np.array([result])))\n",
    "    if(i == 29):\n",
    "        predict_svr30 = result\n",
    "    if(i == 89):\n",
    "        predict_svr90 = result\n",
    "for i in range(0, 280):\n",
    "    result = svr_lin.predict([predict_svr280[i]])\n",
    "    predict_svr280 = np.concatenate((predict_svr280, np.array([result])))\n",
    "predict_svr"
   ]
  },
  {
   "cell_type": "code",
   "execution_count": 37,
   "metadata": {},
   "outputs": [
    {
     "data": {
      "text/plain": [
       "array([2557270.44770059])"
      ]
     },
     "execution_count": 37,
     "metadata": {},
     "output_type": "execute_result"
    }
   ],
   "source": [
    "predict_svr30"
   ]
  },
  {
   "cell_type": "code",
   "execution_count": 38,
   "metadata": {},
   "outputs": [
    {
     "data": {
      "text/plain": [
       "array([7457795.83808145])"
      ]
     },
     "execution_count": 38,
     "metadata": {},
     "output_type": "execute_result"
    }
   ],
   "source": [
    "predict_svr90"
   ]
  },
  {
   "cell_type": "code",
   "execution_count": 41,
   "metadata": {},
   "outputs": [
    {
     "data": {
      "image/png": "[encoded data removed]",
      "text/plain": [
       "<Figure size 777.6x518.4 with 1 Axes>"
      ]
     },
     "metadata": {},
     "output_type": "display_data"
    }
   ],
   "source": [
    "from scipy.integrate import odeint\n",
    "\n",
    "# Total population, N.\n",
    "N = 209300000\n",
    "# Initial number of infected and recovered individuals, I0 and R0.\n",
    "I0, R0 = 1496858, 1042980\n",
    "# Everyone else, S0, is susceptible to infection initially.\n",
    "S0 = N - I0 - R0\n",
    "# Contact rate, beta, and mean recovery rate, gamma, (in 1/days).\n",
    "beta, gamma = 0.0312, 0.003\n",
    "# A grid of time points (in days)\n",
    "t = np.linspace(0, 360, 360)\n",
    "\n",
    "# The SIR model differential equations.\n",
    "def deriv(y, t, N, beta, gamma):\n",
    "    S, I, R = y\n",
    "    dSdt = -beta * S * I / N\n",
    "    dIdt = beta * S * I / N - gamma * I\n",
    "    dRdt = gamma * I\n",
    "    return dSdt, dIdt, dRdt\n",
    "\n",
    "# Initial conditions vector\n",
    "y0 = S0, I0, R0\n",
    "# Integrate the SIR equations over the time grid, t.\n",
    "ret = odeint(deriv, y0, t, args=(N, beta, gamma))\n",
    "S, I, R = ret.T\n",
    "\n",
    "Y = [int(np.max(S)), int(np.max(S)/2), int(np.max(R)/2), int(np.mean(R)), int(np.min(S))]\n",
    "\n",
    "# Plot the data on three separate curves for S(t), I(t) and R(t)\n",
    "fig = plt.figure(facecolor='w')\n",
    "ax = fig.add_subplot(111, axisbelow=True)\n",
    "ax.plot(S, 'b', label='Suscetíveis a infecção')\n",
    "ax.plot(I, 'r', label='Infectados')\n",
    "ax.plot(R, 'g', label='Recuperados')\n",
    "ax.set_xlabel('Tempo por dias')\n",
    "ax.set_ylabel('Número a cada cem mil pessoas')\n",
    "plt.yticks(Y)\n",
    "plt.title(\"Aplicação do modelo SIR para a pandemia do coronavírus no Brasil\")\n",
    "\n",
    "fig_size = plt.gcf().get_size_inches() \n",
    "sizefactor = 1.8 #Set a zoom factor\n",
    "plt.gcf().set_size_inches(sizefactor * fig_size)\n",
    "\n",
    "legend = ax.legend()\n",
    "plt.show()"
   ]
  },
  {
   "cell_type": "code",
   "execution_count": 42,
   "metadata": {},
   "outputs": [
    {
     "data": {
      "text/plain": [
       "array([1539201.28029696, 1582731.13698686, 1627480.15474285,\n",
       "       1673481.79388681, 1720770.40653333, 1769381.23205221,\n",
       "       1819350.43510263, 1870715.12820448, 1923513.38213664,\n",
       "       1977784.24392541, 2033567.78633454, 2090905.12138005,\n",
       "       2149838.40785872, 2210410.88119541])"
      ]
     },
     "execution_count": 42,
     "metadata": {},
     "output_type": "execute_result"
    }
   ],
   "source": [
    "I[1:15]"
   ]
  },
  {
   "cell_type": "code",
   "execution_count": 43,
   "metadata": {},
   "outputs": [
    {
     "data": {
      "text/plain": [
       "1047546.4793828868"
      ]
     },
     "execution_count": 43,
     "metadata": {},
     "output_type": "execute_result"
    }
   ],
   "source": [
    "R[1]"
   ]
  },
  {
   "cell_type": "code",
   "execution_count": 44,
   "metadata": {},
   "outputs": [
    {
     "data": {
      "text/plain": [
       "17101431.919868127"
      ]
     },
     "execution_count": 44,
     "metadata": {},
     "output_type": "execute_result"
    }
   ],
   "source": [
    "I[90]"
   ]
  },
  {
   "cell_type": "code",
   "execution_count": 45,
   "metadata": {},
   "outputs": [
    {
     "data": {
      "text/plain": [
       "1539201.2802969618"
      ]
     },
     "execution_count": 45,
     "metadata": {},
     "output_type": "execute_result"
    }
   ],
   "source": [
    "I[1]"
   ]
  },
  {
   "cell_type": "code",
   "execution_count": 46,
   "metadata": {},
   "outputs": [
    {
     "data": {
      "text/plain": [
       "array([5952959.71225389, 6116774.78443096, 6284924.54270857,\n",
       "       6457514.00969335, 6634650.24313376, 6816442.32880198,\n",
       "       7003001.31958152, 7194440.30915127, 7390874.44383321,\n",
       "       7592420.89160839])"
      ]
     },
     "execution_count": 46,
     "metadata": {},
     "output_type": "execute_result"
    }
   ],
   "source": [
    "I[50:60]"
   ]
  },
  {
   "cell_type": "code",
   "execution_count": 47,
   "metadata": {},
   "outputs": [
    {
     "data": {
      "image/png": "[encoded data removed]",
      "text/plain": [
       "<Figure size 777.6x518.4 with 1 Axes>"
      ]
     },
     "metadata": {},
     "output_type": "display_data"
    }
   ],
   "source": [
    "from scipy.integrate import odeint\n",
    "\n",
    "# Total population, N.\n",
    "N = 12180000\n",
    "# Initial number of infected and recovered individuals, I0 and R0.\n",
    "I0, R0 = 289935, 178202\n",
    "# Everyone else, S0, is susceptible to infection initially.\n",
    "S0 = N - I0 - R0\n",
    "# Contact rate, beta, and mean recovery rate, gamma, (in 1/days).\n",
    "beta, gamma = 0.046, 0.003\n",
    "# A grid of time points (in days)\n",
    "t = np.linspace(0, 360, 360)\n",
    "\n",
    "# The SIR model differential equations.\n",
    "def deriv(y, t, N, beta, gamma):\n",
    "    S, I, R = y\n",
    "    dSdt = -beta * S * I / N\n",
    "    dIdt = beta * S * I / N - gamma * I\n",
    "    dRdt = gamma * I\n",
    "    return dSdt, dIdt, dRdt\n",
    "\n",
    "# Initial conditions vector\n",
    "y0 = S0, I0, R0\n",
    "# Integrate the SIR equations over the time grid, t.\n",
    "ret = odeint(deriv, y0, t, args=(N, beta, gamma))\n",
    "S, I, R = ret.T\n",
    "\n",
    "Y = [int(np.max(S)), int(np.max(S)/2), int(np.max(R)), int(np.mean(S)), int(np.min(S))]\n",
    "\n",
    "# Plot the data on three separate curves for S(t), I(t) and R(t)\n",
    "fig = plt.figure(facecolor='w')\n",
    "ax = fig.add_subplot(111, axisbelow=True)\n",
    "ax.plot(S, 'b', label='Suscetíveis a infecção')\n",
    "ax.plot(I, 'r', label='Infectados')\n",
    "ax.plot(R, 'g', label='Recuperados')\n",
    "ax.set_xlabel('Tempo por dias')\n",
    "ax.set_ylabel('Número a cada cem mil pessoas')\n",
    "plt.yticks(Y)\n",
    "plt.title(\"Aplicação do modelo SIR para a pandemia do coronavírus no estado de São Paulo\")\n",
    "\n",
    "fig_size = plt.gcf().get_size_inches() \n",
    "sizefactor = 1.8 #Set a zoom factor\n",
    "plt.gcf().set_size_inches(sizefactor * fig_size)\n",
    "\n",
    "legend = ax.legend()\n",
    "plt.show()"
   ]
  },
  {
   "cell_type": "code",
   "execution_count": 48,
   "metadata": {},
   "outputs": [
    {
     "data": {
      "text/plain": [
       "302166.7193073415"
      ]
     },
     "execution_count": 48,
     "metadata": {},
     "output_type": "execute_result"
    }
   ],
   "source": [
    "I[1]"
   ]
  },
  {
   "cell_type": "code",
   "execution_count": 49,
   "metadata": {},
   "outputs": [
    {
     "data": {
      "text/plain": [
       "12231.719307341496"
      ]
     },
     "execution_count": 49,
     "metadata": {},
     "output_type": "execute_result"
    }
   ],
   "source": [
    "I[1] - I[0]"
   ]
  },
  {
   "cell_type": "code",
   "execution_count": 50,
   "metadata": {},
   "outputs": [
    {
     "data": {
      "text/plain": [
       "179092.5032993347"
      ]
     },
     "execution_count": 50,
     "metadata": {},
     "output_type": "execute_result"
    }
   ],
   "source": [
    "R[1]"
   ]
  },
  {
   "cell_type": "code",
   "execution_count": 51,
   "metadata": {},
   "outputs": [
    {
     "data": {
      "text/plain": [
       "array([1172829.14176655, 1217836.59988565, 1264334.59286464,\n",
       "       1312354.11583904, 1361925.36247396])"
      ]
     },
     "execution_count": 51,
     "metadata": {},
     "output_type": "execute_result"
    }
   ],
   "source": [
    "I[35:40]"
   ]
  },
  {
   "cell_type": "code",
   "execution_count": 52,
   "metadata": {},
   "outputs": [
    {
     "data": {
      "text/plain": [
       "8251052.127321988"
      ]
     },
     "execution_count": 52,
     "metadata": {},
     "output_type": "execute_result"
    }
   ],
   "source": [
    "I[210]"
   ]
  },
  {
   "cell_type": "code",
   "execution_count": 53,
   "metadata": {},
   "outputs": [
    {
     "name": "stderr",
     "output_type": "stream",
     "text": [
      "<ipython-input-53-207d2926ecb8>:3: UserWarning: Matplotlib is currently using module://ipykernel.pylab.backend_inline, which is a non-GUI backend, so cannot show the figure.\n",
      "  fig.show()\n"
     ]
    },
    {
     "data": {
      "text/plain": [
       "<matplotlib.legend.Legend at 0x7f1e565b1160>"
      ]
     },
     "execution_count": 53,
     "metadata": {},
     "output_type": "execute_result"
    },
    {
     "data": {
      "image/png": "[encoded data removed]",
      "text/plain": [
       "<Figure size 1209.6x806.4 with 1 Axes>"
      ]
     },
     "metadata": {
      "needs_background": "light"
     },
     "output_type": "display_data"
    }
   ],
   "source": [
    "lw = 2\n",
    "fig=plt.figure()\n",
    "fig.show()\n",
    "plt.plot(I, linewidth=lw, label = 'SIR - Modelo epidêmico (Equação)')\n",
    "sizefactor = 2.8 #Set a zoom factor\n",
    "# Modify the current size by the factor\n",
    "\n",
    "fig_size = plt.gcf().get_size_inches() \n",
    "plt.gcf().set_size_inches(sizefactor * fig_size)\n",
    "plt.title('Prevendo pico')\n",
    "plt.legend()"
   ]
  }
 ],
 "metadata": {
  "kernelspec": {
   "display_name": "Python 3",
   "language": "python",
   "name": "python3"
  },
  "language_info": {
   "codemirror_mode": {
    "name": "ipython",
    "version": 3
   },
   "file_extension": ".py",
   "mimetype": "text/x-python",
   "name": "python",
   "nbconvert_exporter": "python",
   "pygments_lexer": "ipython3",
   "version": "3.8.5"
  }
 },
 "nbformat": 4,
 "nbformat_minor": 2
}
